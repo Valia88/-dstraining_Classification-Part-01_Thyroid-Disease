{
  "nbformat": 4,
  "nbformat_minor": 5,
  "metadata": {
    "kernelspec": {
      "display_name": "Python 3 (ipykernel)",
      "language": "python",
      "name": "python3"
    },
    "language_info": {
      "codemirror_mode": {
        "name": "ipython",
        "version": 3
      },
      "file_extension": ".py",
      "mimetype": "text/x-python",
      "name": "python",
      "nbconvert_exporter": "python",
      "pygments_lexer": "ipython3",
      "version": "3.8.5"
    },
    "colab": {
      "name": "[Submission]  Classification Part 01 - Thyroid Disease Data Homework - Yvonne Gan.ipynb",
      "provenance": [],
      "collapsed_sections": []
    }
  },
  "cells": [
    {
      "cell_type": "markdown",
      "metadata": {
        "id": "337a8909"
      },
      "source": [
        "# Overview\n",
        "\n",
        "### Dataset link:\n",
        "https://drive.google.com/file/d/1m53GMGvefv99ZeTOuhjb5wLkTSwfMTCf/view?usp=sharing\n",
        "\n",
        "### Dataset description:\n",
        "Thyroid Disease Data Set - http://archive.ics.uci.edu/ml/datasets/thyroid+disease\n",
        "\n",
        "#### Target variable:\n",
        "\"Class\"\n",
        "\n",
        "\n"
      ],
      "id": "337a8909"
    },
    {
      "cell_type": "markdown",
      "metadata": {
        "id": "506f3d86"
      },
      "source": [
        "---"
      ],
      "id": "506f3d86"
    },
    {
      "cell_type": "markdown",
      "metadata": {
        "id": "5a2430d2"
      },
      "source": [
        "# General Description of Thyroid Disease Databases and Related Files\n",
        "\n",
        "This directory contains 6 databases, corresponding test set, and corresponding documentation.  They were left at the University of California at Irvine by Ross Quinlan during his visit in 1987 for the 1987 Machine Learning Workshop.  <br>\n",
        "\n",
        "\n",
        "The documentation files (with file extension \"names\") are formatted to be read by Quinlan's C4 decision tree program.  Though briefer than the other documentation files found in this database repository, they should suffice to describe the database, specifically:\n",
        "\n",
        "    1. Source\n",
        "    2. Number and names of attributes (including class names)\n",
        "    3. Types of values that each attribute takes\n",
        "\n",
        "In general, these databases are quite similar and can be characterized somewhat as follows:\n",
        "\n",
        "    1. Many attributes (29 or so, mostly the same set over all the databases)\n",
        "    2. mostly numeric or Boolean valued attributes\n",
        "    3. thyroid disease domains (records provided by the Garavan Institute of Sydney, Australia)\n",
        "    4. several missing attribute values (signified by \"?\")\n",
        "    5. small number of classes (under 10, changes with each database)\n",
        "    7. 2800 instances in each data set\n",
        "    8. 972 instances in each test set (It seems that the test sets' instances are disjoint with respect to the \n",
        "        corresponding data sets, but this has not been verified)\n",
        "<br>\n",
        "\n",
        "See the following for a discussion of relevant experiments and related work:<br>\n",
        " - Quinlan,J.R., Compton,P.J., Horn,K.A., & Lazurus,L. (1986).\n",
        "    Inductive knowledge acquisition: A case study.\n",
        "    In Proceedings of the Second Australian Conference on Applications of Expert Systems. Sydney, Australia.\n",
        "\n",
        "- Quinlan,J.R. (1986). Induction of decision trees. Machine Learning, 1, 81--106.<br>\n",
        "\n",
        "Note that the instances in these databases are followed by a vertical bar and a number.  These appear to be a patient id number.  The vertical bar is interepreted by Quinlan's algorithms as \"ignore the remainder of this line\". <br>\n",
        "\n",
        "=========================================================================================================================\n",
        "This database now also contains an additional two data files, named hypothyroid.data and sick-euthyroid.data. They have approximately the same data format and set of attributes as the other 6 databases, but their integrity is questionable.  Ross Quinlan is concerned that they may have been corrupted since they first arrived at UCI, but we have not yet established the validity of this possibility. These 2 databases differ in terms of their number of instances (3163) and lack of corresponding  test files.  They each have 2 concepts (negative/hypothyroid and  sick-euthyroid/negative respectively). Their source also appears to be the Garavan institute. Each contains several missing values.<br>\n",
        "\n",
        "Another relatively recent file thyroid0387.data has been added that contains the latest version of an archive of thyroid diagnoses obtained from the Garvan Institute, consisting of 9172 records from 1984 to early 1987.<br>\n",
        "\n",
        "A domain theory related to thyroid desease has also been added recently (thyroid.theory).<br>\n",
        "\n",
        "The files new-thyroid.[names,data] were donated by Stefan Aberhard."
      ],
      "id": "5a2430d2"
    },
    {
      "cell_type": "code",
      "metadata": {
        "id": "946c106e"
      },
      "source": [
        "#import library\n",
        "\n",
        "import pandas as pd\n",
        "import numpy as np\n",
        "import collections\n",
        "\n",
        "import matplotlib\n",
        "import matplotlib.pyplot as plt\n",
        "import seaborn as sns\n",
        "\n",
        "# from sklearn import preprocessing\n",
        "from sklearn.preprocessing import LabelEncoder, MinMaxScaler,StandardScaler\n",
        "from sklearn.model_selection import train_test_split, KFold, cross_val_score, cross_val_predict, GridSearchCV\n",
        "from sklearn.linear_model import LogisticRegression\n",
        "from sklearn.neighbors import KNeighborsClassifier\n",
        "from sklearn.metrics import accuracy_score, confusion_matrix, classification_report, precision_score, recall_score, f1_score, roc_auc_score, plot_confusion_matrix\n",
        "from sklearn.utils import resample\n",
        "from imblearn.over_sampling import SMOTE\n",
        "from sklearn.feature_selection import RFE\n",
        "\n",
        "\n",
        "%matplotlib inline\n",
        "pd.set_option('display.max_columns', None)\n",
        "# pd.set_option('display.max_rows', None)"
      ],
      "id": "946c106e",
      "execution_count": null,
      "outputs": []
    },
    {
      "cell_type": "code",
      "metadata": {
        "colab": {
          "resources": {
            "http://localhost:8080/nbextensions/google.colab/files.js": {
              "data": "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",
              "ok": true,
              "headers": [
                [
                  "content-type",
                  "application/javascript"
                ]
              ],
              "status": 200,
              "status_text": ""
            }
          },
          "base_uri": "https://localhost:8080/",
          "height": 73
        },
        "id": "rhMBY78oSyUx",
        "outputId": "77bc7fe2-f331-4db2-b0f3-21db49708c7c"
      },
      "source": [
        "from google.colab import files\n",
        "uploaded = files.upload()\n",
        "\n",
        "# File CSV for sharing & download to upload: https://drive.google.com/file/d/1UDq_1aVRnQJF0rm6H2oDVibJZ_huluS6/view?usp=sharing"
      ],
      "id": "rhMBY78oSyUx",
      "execution_count": null,
      "outputs": [
        {
          "output_type": "display_data",
          "data": {
            "text/html": [
              "\n",
              "     <input type=\"file\" id=\"files-ea83e966-1a57-4104-a370-7ed37dac0159\" name=\"files[]\" multiple disabled\n",
              "        style=\"border:none\" />\n",
              "     <output id=\"result-ea83e966-1a57-4104-a370-7ed37dac0159\">\n",
              "      Upload widget is only available when the cell has been executed in the\n",
              "      current browser session. Please rerun this cell to enable.\n",
              "      </output>\n",
              "      <script src=\"/nbextensions/google.colab/files.js\"></script> "
            ],
            "text/plain": [
              "<IPython.core.display.HTML object>"
            ]
          },
          "metadata": {}
        },
        {
          "output_type": "stream",
          "name": "stdout",
          "text": [
            "Saving dataset_57_hypothyroid.csv to dataset_57_hypothyroid (4).csv\n"
          ]
        }
      ]
    },
    {
      "cell_type": "code",
      "metadata": {
        "colab": {
          "base_uri": "https://localhost:8080/",
          "height": 226
        },
        "id": "e88189ee",
        "outputId": "c05a0d9b-e2be-4243-f8f8-3ecc768a00bd"
      },
      "source": [
        "#Loading dataset from csv\n",
        "# df = pd.read_csv(\"dataset_57_hypothyroid.csv\")\n",
        "\n",
        "import io\n",
        "df = pd.read_csv(io.BytesIO(uploaded[\"dataset_57_hypothyroid.csv\"]))\n",
        "\n",
        "#check the first 5 rows\n",
        "df.head()"
      ],
      "id": "e88189ee",
      "execution_count": null,
      "outputs": [
        {
          "output_type": "execute_result",
          "data": {
            "text/html": [
              "<div>\n",
              "<style scoped>\n",
              "    .dataframe tbody tr th:only-of-type {\n",
              "        vertical-align: middle;\n",
              "    }\n",
              "\n",
              "    .dataframe tbody tr th {\n",
              "        vertical-align: top;\n",
              "    }\n",
              "\n",
              "    .dataframe thead th {\n",
              "        text-align: right;\n",
              "    }\n",
              "</style>\n",
              "<table border=\"1\" class=\"dataframe\">\n",
              "  <thead>\n",
              "    <tr style=\"text-align: right;\">\n",
              "      <th></th>\n",
              "      <th>age</th>\n",
              "      <th>sex</th>\n",
              "      <th>on_thyroxine</th>\n",
              "      <th>query_on_thyroxine</th>\n",
              "      <th>on_antithyroid_medication</th>\n",
              "      <th>sick</th>\n",
              "      <th>pregnant</th>\n",
              "      <th>thyroid_surgery</th>\n",
              "      <th>I131_treatment</th>\n",
              "      <th>query_hypothyroid</th>\n",
              "      <th>query_hyperthyroid</th>\n",
              "      <th>lithium</th>\n",
              "      <th>goitre</th>\n",
              "      <th>tumor</th>\n",
              "      <th>hypopituitary</th>\n",
              "      <th>psych</th>\n",
              "      <th>TSH_measured</th>\n",
              "      <th>TSH</th>\n",
              "      <th>T3_measured</th>\n",
              "      <th>T3</th>\n",
              "      <th>TT4_measured</th>\n",
              "      <th>TT4</th>\n",
              "      <th>T4U_measured</th>\n",
              "      <th>T4U</th>\n",
              "      <th>FTI_measured</th>\n",
              "      <th>FTI</th>\n",
              "      <th>TBG_measured</th>\n",
              "      <th>TBG</th>\n",
              "      <th>referral_source</th>\n",
              "      <th>Class</th>\n",
              "    </tr>\n",
              "  </thead>\n",
              "  <tbody>\n",
              "    <tr>\n",
              "      <th>0</th>\n",
              "      <td>41</td>\n",
              "      <td>F</td>\n",
              "      <td>f</td>\n",
              "      <td>f</td>\n",
              "      <td>f</td>\n",
              "      <td>f</td>\n",
              "      <td>f</td>\n",
              "      <td>f</td>\n",
              "      <td>f</td>\n",
              "      <td>f</td>\n",
              "      <td>f</td>\n",
              "      <td>f</td>\n",
              "      <td>f</td>\n",
              "      <td>f</td>\n",
              "      <td>f</td>\n",
              "      <td>f</td>\n",
              "      <td>t</td>\n",
              "      <td>1.3</td>\n",
              "      <td>t</td>\n",
              "      <td>2.5</td>\n",
              "      <td>t</td>\n",
              "      <td>125</td>\n",
              "      <td>t</td>\n",
              "      <td>1.14</td>\n",
              "      <td>t</td>\n",
              "      <td>109</td>\n",
              "      <td>f</td>\n",
              "      <td>?</td>\n",
              "      <td>SVHC</td>\n",
              "      <td>negative</td>\n",
              "    </tr>\n",
              "    <tr>\n",
              "      <th>1</th>\n",
              "      <td>23</td>\n",
              "      <td>F</td>\n",
              "      <td>f</td>\n",
              "      <td>f</td>\n",
              "      <td>f</td>\n",
              "      <td>f</td>\n",
              "      <td>f</td>\n",
              "      <td>f</td>\n",
              "      <td>f</td>\n",
              "      <td>f</td>\n",
              "      <td>f</td>\n",
              "      <td>f</td>\n",
              "      <td>f</td>\n",
              "      <td>f</td>\n",
              "      <td>f</td>\n",
              "      <td>f</td>\n",
              "      <td>t</td>\n",
              "      <td>4.1</td>\n",
              "      <td>t</td>\n",
              "      <td>2</td>\n",
              "      <td>t</td>\n",
              "      <td>102</td>\n",
              "      <td>f</td>\n",
              "      <td>?</td>\n",
              "      <td>f</td>\n",
              "      <td>?</td>\n",
              "      <td>f</td>\n",
              "      <td>?</td>\n",
              "      <td>other</td>\n",
              "      <td>negative</td>\n",
              "    </tr>\n",
              "    <tr>\n",
              "      <th>2</th>\n",
              "      <td>46</td>\n",
              "      <td>M</td>\n",
              "      <td>f</td>\n",
              "      <td>f</td>\n",
              "      <td>f</td>\n",
              "      <td>f</td>\n",
              "      <td>f</td>\n",
              "      <td>f</td>\n",
              "      <td>f</td>\n",
              "      <td>f</td>\n",
              "      <td>f</td>\n",
              "      <td>f</td>\n",
              "      <td>f</td>\n",
              "      <td>f</td>\n",
              "      <td>f</td>\n",
              "      <td>f</td>\n",
              "      <td>t</td>\n",
              "      <td>0.98</td>\n",
              "      <td>f</td>\n",
              "      <td>?</td>\n",
              "      <td>t</td>\n",
              "      <td>109</td>\n",
              "      <td>t</td>\n",
              "      <td>0.91</td>\n",
              "      <td>t</td>\n",
              "      <td>120</td>\n",
              "      <td>f</td>\n",
              "      <td>?</td>\n",
              "      <td>other</td>\n",
              "      <td>negative</td>\n",
              "    </tr>\n",
              "    <tr>\n",
              "      <th>3</th>\n",
              "      <td>70</td>\n",
              "      <td>F</td>\n",
              "      <td>t</td>\n",
              "      <td>f</td>\n",
              "      <td>f</td>\n",
              "      <td>f</td>\n",
              "      <td>f</td>\n",
              "      <td>f</td>\n",
              "      <td>f</td>\n",
              "      <td>f</td>\n",
              "      <td>f</td>\n",
              "      <td>f</td>\n",
              "      <td>f</td>\n",
              "      <td>f</td>\n",
              "      <td>f</td>\n",
              "      <td>f</td>\n",
              "      <td>t</td>\n",
              "      <td>0.16</td>\n",
              "      <td>t</td>\n",
              "      <td>1.9</td>\n",
              "      <td>t</td>\n",
              "      <td>175</td>\n",
              "      <td>f</td>\n",
              "      <td>?</td>\n",
              "      <td>f</td>\n",
              "      <td>?</td>\n",
              "      <td>f</td>\n",
              "      <td>?</td>\n",
              "      <td>other</td>\n",
              "      <td>negative</td>\n",
              "    </tr>\n",
              "    <tr>\n",
              "      <th>4</th>\n",
              "      <td>70</td>\n",
              "      <td>F</td>\n",
              "      <td>f</td>\n",
              "      <td>f</td>\n",
              "      <td>f</td>\n",
              "      <td>f</td>\n",
              "      <td>f</td>\n",
              "      <td>f</td>\n",
              "      <td>f</td>\n",
              "      <td>f</td>\n",
              "      <td>f</td>\n",
              "      <td>f</td>\n",
              "      <td>f</td>\n",
              "      <td>f</td>\n",
              "      <td>f</td>\n",
              "      <td>f</td>\n",
              "      <td>t</td>\n",
              "      <td>0.72</td>\n",
              "      <td>t</td>\n",
              "      <td>1.2</td>\n",
              "      <td>t</td>\n",
              "      <td>61</td>\n",
              "      <td>t</td>\n",
              "      <td>0.87</td>\n",
              "      <td>t</td>\n",
              "      <td>70</td>\n",
              "      <td>f</td>\n",
              "      <td>?</td>\n",
              "      <td>SVI</td>\n",
              "      <td>negative</td>\n",
              "    </tr>\n",
              "  </tbody>\n",
              "</table>\n",
              "</div>"
            ],
            "text/plain": [
              "  age sex on_thyroxine query_on_thyroxine on_antithyroid_medication sick  \\\n",
              "0  41   F            f                  f                         f    f   \n",
              "1  23   F            f                  f                         f    f   \n",
              "2  46   M            f                  f                         f    f   \n",
              "3  70   F            t                  f                         f    f   \n",
              "4  70   F            f                  f                         f    f   \n",
              "\n",
              "  pregnant thyroid_surgery I131_treatment query_hypothyroid  \\\n",
              "0        f               f              f                 f   \n",
              "1        f               f              f                 f   \n",
              "2        f               f              f                 f   \n",
              "3        f               f              f                 f   \n",
              "4        f               f              f                 f   \n",
              "\n",
              "  query_hyperthyroid lithium goitre tumor hypopituitary psych TSH_measured  \\\n",
              "0                  f       f      f     f             f     f            t   \n",
              "1                  f       f      f     f             f     f            t   \n",
              "2                  f       f      f     f             f     f            t   \n",
              "3                  f       f      f     f             f     f            t   \n",
              "4                  f       f      f     f             f     f            t   \n",
              "\n",
              "    TSH T3_measured   T3 TT4_measured  TT4 T4U_measured   T4U FTI_measured  \\\n",
              "0   1.3           t  2.5            t  125            t  1.14            t   \n",
              "1   4.1           t    2            t  102            f     ?            f   \n",
              "2  0.98           f    ?            t  109            t  0.91            t   \n",
              "3  0.16           t  1.9            t  175            f     ?            f   \n",
              "4  0.72           t  1.2            t   61            t  0.87            t   \n",
              "\n",
              "   FTI TBG_measured TBG referral_source     Class  \n",
              "0  109            f   ?            SVHC  negative  \n",
              "1    ?            f   ?           other  negative  \n",
              "2  120            f   ?           other  negative  \n",
              "3    ?            f   ?           other  negative  \n",
              "4   70            f   ?             SVI  negative  "
            ]
          },
          "metadata": {},
          "execution_count": 3
        }
      ]
    },
    {
      "cell_type": "code",
      "metadata": {
        "colab": {
          "base_uri": "https://localhost:8080/",
          "height": 226
        },
        "id": "e728d22d",
        "outputId": "321dcf9e-1be1-4aa9-9b3c-5fb5cabdc803"
      },
      "source": [
        "#check the last 5 rows\n",
        "df.tail()"
      ],
      "id": "e728d22d",
      "execution_count": null,
      "outputs": [
        {
          "output_type": "execute_result",
          "data": {
            "text/html": [
              "<div>\n",
              "<style scoped>\n",
              "    .dataframe tbody tr th:only-of-type {\n",
              "        vertical-align: middle;\n",
              "    }\n",
              "\n",
              "    .dataframe tbody tr th {\n",
              "        vertical-align: top;\n",
              "    }\n",
              "\n",
              "    .dataframe thead th {\n",
              "        text-align: right;\n",
              "    }\n",
              "</style>\n",
              "<table border=\"1\" class=\"dataframe\">\n",
              "  <thead>\n",
              "    <tr style=\"text-align: right;\">\n",
              "      <th></th>\n",
              "      <th>age</th>\n",
              "      <th>sex</th>\n",
              "      <th>on_thyroxine</th>\n",
              "      <th>query_on_thyroxine</th>\n",
              "      <th>on_antithyroid_medication</th>\n",
              "      <th>sick</th>\n",
              "      <th>pregnant</th>\n",
              "      <th>thyroid_surgery</th>\n",
              "      <th>I131_treatment</th>\n",
              "      <th>query_hypothyroid</th>\n",
              "      <th>query_hyperthyroid</th>\n",
              "      <th>lithium</th>\n",
              "      <th>goitre</th>\n",
              "      <th>tumor</th>\n",
              "      <th>hypopituitary</th>\n",
              "      <th>psych</th>\n",
              "      <th>TSH_measured</th>\n",
              "      <th>TSH</th>\n",
              "      <th>T3_measured</th>\n",
              "      <th>T3</th>\n",
              "      <th>TT4_measured</th>\n",
              "      <th>TT4</th>\n",
              "      <th>T4U_measured</th>\n",
              "      <th>T4U</th>\n",
              "      <th>FTI_measured</th>\n",
              "      <th>FTI</th>\n",
              "      <th>TBG_measured</th>\n",
              "      <th>TBG</th>\n",
              "      <th>referral_source</th>\n",
              "      <th>Class</th>\n",
              "    </tr>\n",
              "  </thead>\n",
              "  <tbody>\n",
              "    <tr>\n",
              "      <th>3767</th>\n",
              "      <td>30</td>\n",
              "      <td>F</td>\n",
              "      <td>f</td>\n",
              "      <td>f</td>\n",
              "      <td>f</td>\n",
              "      <td>f</td>\n",
              "      <td>f</td>\n",
              "      <td>f</td>\n",
              "      <td>f</td>\n",
              "      <td>f</td>\n",
              "      <td>f</td>\n",
              "      <td>f</td>\n",
              "      <td>f</td>\n",
              "      <td>t</td>\n",
              "      <td>f</td>\n",
              "      <td>f</td>\n",
              "      <td>f</td>\n",
              "      <td>?</td>\n",
              "      <td>f</td>\n",
              "      <td>?</td>\n",
              "      <td>f</td>\n",
              "      <td>?</td>\n",
              "      <td>f</td>\n",
              "      <td>?</td>\n",
              "      <td>f</td>\n",
              "      <td>?</td>\n",
              "      <td>f</td>\n",
              "      <td>?</td>\n",
              "      <td>other</td>\n",
              "      <td>negative</td>\n",
              "    </tr>\n",
              "    <tr>\n",
              "      <th>3768</th>\n",
              "      <td>68</td>\n",
              "      <td>F</td>\n",
              "      <td>f</td>\n",
              "      <td>f</td>\n",
              "      <td>f</td>\n",
              "      <td>f</td>\n",
              "      <td>f</td>\n",
              "      <td>f</td>\n",
              "      <td>f</td>\n",
              "      <td>f</td>\n",
              "      <td>f</td>\n",
              "      <td>f</td>\n",
              "      <td>f</td>\n",
              "      <td>f</td>\n",
              "      <td>f</td>\n",
              "      <td>f</td>\n",
              "      <td>t</td>\n",
              "      <td>1</td>\n",
              "      <td>t</td>\n",
              "      <td>2.1</td>\n",
              "      <td>t</td>\n",
              "      <td>124</td>\n",
              "      <td>t</td>\n",
              "      <td>1.08</td>\n",
              "      <td>t</td>\n",
              "      <td>114</td>\n",
              "      <td>f</td>\n",
              "      <td>?</td>\n",
              "      <td>SVI</td>\n",
              "      <td>negative</td>\n",
              "    </tr>\n",
              "    <tr>\n",
              "      <th>3769</th>\n",
              "      <td>74</td>\n",
              "      <td>F</td>\n",
              "      <td>f</td>\n",
              "      <td>f</td>\n",
              "      <td>f</td>\n",
              "      <td>f</td>\n",
              "      <td>f</td>\n",
              "      <td>f</td>\n",
              "      <td>f</td>\n",
              "      <td>f</td>\n",
              "      <td>t</td>\n",
              "      <td>f</td>\n",
              "      <td>f</td>\n",
              "      <td>f</td>\n",
              "      <td>f</td>\n",
              "      <td>f</td>\n",
              "      <td>t</td>\n",
              "      <td>5.1</td>\n",
              "      <td>t</td>\n",
              "      <td>1.8</td>\n",
              "      <td>t</td>\n",
              "      <td>112</td>\n",
              "      <td>t</td>\n",
              "      <td>1.07</td>\n",
              "      <td>t</td>\n",
              "      <td>105</td>\n",
              "      <td>f</td>\n",
              "      <td>?</td>\n",
              "      <td>other</td>\n",
              "      <td>negative</td>\n",
              "    </tr>\n",
              "    <tr>\n",
              "      <th>3770</th>\n",
              "      <td>72</td>\n",
              "      <td>M</td>\n",
              "      <td>f</td>\n",
              "      <td>f</td>\n",
              "      <td>f</td>\n",
              "      <td>f</td>\n",
              "      <td>f</td>\n",
              "      <td>f</td>\n",
              "      <td>f</td>\n",
              "      <td>f</td>\n",
              "      <td>f</td>\n",
              "      <td>f</td>\n",
              "      <td>f</td>\n",
              "      <td>f</td>\n",
              "      <td>f</td>\n",
              "      <td>f</td>\n",
              "      <td>t</td>\n",
              "      <td>0.7</td>\n",
              "      <td>t</td>\n",
              "      <td>2</td>\n",
              "      <td>t</td>\n",
              "      <td>82</td>\n",
              "      <td>t</td>\n",
              "      <td>0.94</td>\n",
              "      <td>t</td>\n",
              "      <td>87</td>\n",
              "      <td>f</td>\n",
              "      <td>?</td>\n",
              "      <td>SVI</td>\n",
              "      <td>negative</td>\n",
              "    </tr>\n",
              "    <tr>\n",
              "      <th>3771</th>\n",
              "      <td>64</td>\n",
              "      <td>F</td>\n",
              "      <td>f</td>\n",
              "      <td>f</td>\n",
              "      <td>f</td>\n",
              "      <td>f</td>\n",
              "      <td>f</td>\n",
              "      <td>f</td>\n",
              "      <td>f</td>\n",
              "      <td>f</td>\n",
              "      <td>f</td>\n",
              "      <td>f</td>\n",
              "      <td>f</td>\n",
              "      <td>f</td>\n",
              "      <td>f</td>\n",
              "      <td>f</td>\n",
              "      <td>t</td>\n",
              "      <td>1</td>\n",
              "      <td>t</td>\n",
              "      <td>2.2</td>\n",
              "      <td>t</td>\n",
              "      <td>99</td>\n",
              "      <td>t</td>\n",
              "      <td>1.07</td>\n",
              "      <td>t</td>\n",
              "      <td>92</td>\n",
              "      <td>f</td>\n",
              "      <td>?</td>\n",
              "      <td>other</td>\n",
              "      <td>negative</td>\n",
              "    </tr>\n",
              "  </tbody>\n",
              "</table>\n",
              "</div>"
            ],
            "text/plain": [
              "     age sex on_thyroxine query_on_thyroxine on_antithyroid_medication sick  \\\n",
              "3767  30   F            f                  f                         f    f   \n",
              "3768  68   F            f                  f                         f    f   \n",
              "3769  74   F            f                  f                         f    f   \n",
              "3770  72   M            f                  f                         f    f   \n",
              "3771  64   F            f                  f                         f    f   \n",
              "\n",
              "     pregnant thyroid_surgery I131_treatment query_hypothyroid  \\\n",
              "3767        f               f              f                 f   \n",
              "3768        f               f              f                 f   \n",
              "3769        f               f              f                 f   \n",
              "3770        f               f              f                 f   \n",
              "3771        f               f              f                 f   \n",
              "\n",
              "     query_hyperthyroid lithium goitre tumor hypopituitary psych TSH_measured  \\\n",
              "3767                  f       f      f     t             f     f            f   \n",
              "3768                  f       f      f     f             f     f            t   \n",
              "3769                  t       f      f     f             f     f            t   \n",
              "3770                  f       f      f     f             f     f            t   \n",
              "3771                  f       f      f     f             f     f            t   \n",
              "\n",
              "      TSH T3_measured   T3 TT4_measured  TT4 T4U_measured   T4U FTI_measured  \\\n",
              "3767    ?           f    ?            f    ?            f     ?            f   \n",
              "3768    1           t  2.1            t  124            t  1.08            t   \n",
              "3769  5.1           t  1.8            t  112            t  1.07            t   \n",
              "3770  0.7           t    2            t   82            t  0.94            t   \n",
              "3771    1           t  2.2            t   99            t  1.07            t   \n",
              "\n",
              "      FTI TBG_measured TBG referral_source     Class  \n",
              "3767    ?            f   ?           other  negative  \n",
              "3768  114            f   ?             SVI  negative  \n",
              "3769  105            f   ?           other  negative  \n",
              "3770   87            f   ?             SVI  negative  \n",
              "3771   92            f   ?           other  negative  "
            ]
          },
          "metadata": {},
          "execution_count": 4
        }
      ]
    },
    {
      "cell_type": "code",
      "metadata": {
        "colab": {
          "base_uri": "https://localhost:8080/"
        },
        "id": "6a57e2f8",
        "outputId": "3d38dd4a-4144-4629-b179-12fab2232b5d"
      },
      "source": [
        "#check the shape of the dataset - total number of rows and columns\n",
        "df.shape"
      ],
      "id": "6a57e2f8",
      "execution_count": null,
      "outputs": [
        {
          "output_type": "execute_result",
          "data": {
            "text/plain": [
              "(3772, 30)"
            ]
          },
          "metadata": {},
          "execution_count": 5
        }
      ]
    },
    {
      "cell_type": "code",
      "metadata": {
        "colab": {
          "base_uri": "https://localhost:8080/"
        },
        "id": "17a64136",
        "outputId": "b906c2f0-4c5d-4017-8258-e2e036e064a1"
      },
      "source": [
        "#overview of the dataset\n",
        "df.info()"
      ],
      "id": "17a64136",
      "execution_count": null,
      "outputs": [
        {
          "output_type": "stream",
          "name": "stdout",
          "text": [
            "<class 'pandas.core.frame.DataFrame'>\n",
            "RangeIndex: 3772 entries, 0 to 3771\n",
            "Data columns (total 30 columns):\n",
            " #   Column                     Non-Null Count  Dtype \n",
            "---  ------                     --------------  ----- \n",
            " 0   age                        3772 non-null   object\n",
            " 1   sex                        3772 non-null   object\n",
            " 2   on_thyroxine               3772 non-null   object\n",
            " 3   query_on_thyroxine         3772 non-null   object\n",
            " 4   on_antithyroid_medication  3772 non-null   object\n",
            " 5   sick                       3772 non-null   object\n",
            " 6   pregnant                   3772 non-null   object\n",
            " 7   thyroid_surgery            3772 non-null   object\n",
            " 8   I131_treatment             3772 non-null   object\n",
            " 9   query_hypothyroid          3772 non-null   object\n",
            " 10  query_hyperthyroid         3772 non-null   object\n",
            " 11  lithium                    3772 non-null   object\n",
            " 12  goitre                     3772 non-null   object\n",
            " 13  tumor                      3772 non-null   object\n",
            " 14  hypopituitary              3772 non-null   object\n",
            " 15  psych                      3772 non-null   object\n",
            " 16  TSH_measured               3772 non-null   object\n",
            " 17  TSH                        3772 non-null   object\n",
            " 18  T3_measured                3772 non-null   object\n",
            " 19  T3                         3772 non-null   object\n",
            " 20  TT4_measured               3772 non-null   object\n",
            " 21  TT4                        3772 non-null   object\n",
            " 22  T4U_measured               3772 non-null   object\n",
            " 23  T4U                        3772 non-null   object\n",
            " 24  FTI_measured               3772 non-null   object\n",
            " 25  FTI                        3772 non-null   object\n",
            " 26  TBG_measured               3772 non-null   object\n",
            " 27  TBG                        3772 non-null   object\n",
            " 28  referral_source            3772 non-null   object\n",
            " 29  Class                      3772 non-null   object\n",
            "dtypes: object(30)\n",
            "memory usage: 884.2+ KB\n"
          ]
        }
      ]
    },
    {
      "cell_type": "code",
      "metadata": {
        "colab": {
          "base_uri": "https://localhost:8080/"
        },
        "id": "81afac2c",
        "outputId": "93ea18a7-3982-4d1f-de99-02bbfc5b47ff"
      },
      "source": [
        "#check the sum of any missing values\n",
        "df.isna().sum()"
      ],
      "id": "81afac2c",
      "execution_count": null,
      "outputs": [
        {
          "output_type": "execute_result",
          "data": {
            "text/plain": [
              "age                          0\n",
              "sex                          0\n",
              "on_thyroxine                 0\n",
              "query_on_thyroxine           0\n",
              "on_antithyroid_medication    0\n",
              "sick                         0\n",
              "pregnant                     0\n",
              "thyroid_surgery              0\n",
              "I131_treatment               0\n",
              "query_hypothyroid            0\n",
              "query_hyperthyroid           0\n",
              "lithium                      0\n",
              "goitre                       0\n",
              "tumor                        0\n",
              "hypopituitary                0\n",
              "psych                        0\n",
              "TSH_measured                 0\n",
              "TSH                          0\n",
              "T3_measured                  0\n",
              "T3                           0\n",
              "TT4_measured                 0\n",
              "TT4                          0\n",
              "T4U_measured                 0\n",
              "T4U                          0\n",
              "FTI_measured                 0\n",
              "FTI                          0\n",
              "TBG_measured                 0\n",
              "TBG                          0\n",
              "referral_source              0\n",
              "Class                        0\n",
              "dtype: int64"
            ]
          },
          "metadata": {},
          "execution_count": 7
        }
      ]
    },
    {
      "cell_type": "code",
      "metadata": {
        "colab": {
          "base_uri": "https://localhost:8080/"
        },
        "id": "5e9eb2e1",
        "outputId": "71ff7685-d136-40dd-d00f-bfd0be06d7e7"
      },
      "source": [
        "# Take a view on the expected output - Class\n",
        "df.value_counts(\"Class\")"
      ],
      "id": "5e9eb2e1",
      "execution_count": null,
      "outputs": [
        {
          "output_type": "execute_result",
          "data": {
            "text/plain": [
              "Class\n",
              "negative                   3481\n",
              "compensated_hypothyroid     194\n",
              "primary_hypothyroid          95\n",
              "secondary_hypothyroid         2\n",
              "dtype: int64"
            ]
          },
          "metadata": {},
          "execution_count": 8
        }
      ]
    },
    {
      "cell_type": "code",
      "metadata": {
        "colab": {
          "base_uri": "https://localhost:8080/"
        },
        "id": "a243812e",
        "outputId": "a2b38b94-33d0-4659-f8a4-8a758501ae4b"
      },
      "source": [
        "# Have a quick view to see any anomolies value in the data frame\n",
        "\n",
        "for col in df:\n",
        "    unique = df[col].unique()\n",
        "    print('List of unique value in column',col,':','\\n',unique,'\\n')"
      ],
      "id": "a243812e",
      "execution_count": null,
      "outputs": [
        {
          "output_type": "stream",
          "name": "stdout",
          "text": [
            "List of unique value in column age : \n",
            " ['41' '23' '46' '70' '18' '59' '80' '66' '68' '84' '67' '71' '28' '65'\n",
            " '42' '63' '51' '81' '54' '55' '60' '25' '73' '34' '78' '37' '85' '26'\n",
            " '58' '64' '44' '48' '61' '35' '83' '21' '87' '53' '77' '27' '69' '74'\n",
            " '38' '76' '45' '36' '22' '43' '72' '82' '31' '39' '49' '62' '57' '1' '50'\n",
            " '30' '29' '75' '19' '7' '79' '17' '24' '15' '32' '47' '16' '52' '33' '13'\n",
            " '10' '89' '56' '20' '90' '40' '88' '14' '86' '94' '12' '4' '11' '8' '5'\n",
            " '455' '2' '91' '6' '?' '93' '92'] \n",
            "\n",
            "List of unique value in column sex : \n",
            " ['F' 'M' '?'] \n",
            "\n",
            "List of unique value in column on_thyroxine : \n",
            " ['f' 't'] \n",
            "\n",
            "List of unique value in column query_on_thyroxine : \n",
            " ['f' 't'] \n",
            "\n",
            "List of unique value in column on_antithyroid_medication : \n",
            " ['f' 't'] \n",
            "\n",
            "List of unique value in column sick : \n",
            " ['f' 't'] \n",
            "\n",
            "List of unique value in column pregnant : \n",
            " ['f' 't'] \n",
            "\n",
            "List of unique value in column thyroid_surgery : \n",
            " ['f' 't'] \n",
            "\n",
            "List of unique value in column I131_treatment : \n",
            " ['f' 't'] \n",
            "\n",
            "List of unique value in column query_hypothyroid : \n",
            " ['f' 't'] \n",
            "\n",
            "List of unique value in column query_hyperthyroid : \n",
            " ['f' 't'] \n",
            "\n",
            "List of unique value in column lithium : \n",
            " ['f' 't'] \n",
            "\n",
            "List of unique value in column goitre : \n",
            " ['f' 't'] \n",
            "\n",
            "List of unique value in column tumor : \n",
            " ['f' 't'] \n",
            "\n",
            "List of unique value in column hypopituitary : \n",
            " ['f' 't'] \n",
            "\n",
            "List of unique value in column psych : \n",
            " ['f' 't'] \n",
            "\n",
            "List of unique value in column TSH_measured : \n",
            " ['t' 'f'] \n",
            "\n",
            "List of unique value in column TSH : \n",
            " ['1.3' '4.1' '0.98' '0.16' '0.72' '0.03' '?' '2.2' '0.6' '2.4' '1.1' '2.8'\n",
            " '3.3' '12' '1.2' '1.5' '6' '2.1' '0.1' '0.8' '1.9' '3.1' '0.2' '13' '0.3'\n",
            " '0.035' '2.5' '0.5' '1.7' '7.3' '1.8' '0.26' '45' '5.4' '0.99' '0.25'\n",
            " '0.92' '0.15' '0.64' '1' '0.4' '2' '2.6' '14.8' '15' '19' '0.02' '3'\n",
            " '2.9' '3.2' '9' '1.6' '4.3' '0.005' '0.31' '0.61' '0.05' '7.8' '160'\n",
            " '0.025' '1.4' '0.01' '8.8' '151' '0.04' '3.9' '9.4' '2.7' '2.3' '0.94'\n",
            " '0.045' '3.5' '0.88' '0.08' '4.5' '0.68' '0.7' '0.67' '27' '6.1' '0.75'\n",
            " '0.55' '26' '5.2' '0.77' '0.07' '0.9' '11.4' '143' '0.45' '0.57' '0.65'\n",
            " '0.015' '16' '108' '0.83' '9.2' '86' '0.62' '0.59' '9.1' '5.9' '52'\n",
            " '0.33' '31' '5.8' '0.28' '51' '6.3' '4.4' '9.6' '3.4' '0.09' '24' '0.76'\n",
            " '42' '25' '10' '4.6' '8.6' '0.66' '6.2' '0.79' '28' '0.86' '9.7' '0.84'\n",
            " '17' '18' '55' '14' '3.7' '0.87' '6.7' '0.74' '7.6' '0.065' '0.29' '0.37'\n",
            " '8' '11' '0.48' '44' '7.9' '5' '7.2' '0.89' '0.93' '0.97' '0.12' '6.4'\n",
            " '33' '0.85' '7.1' '0.73' '199' '8.2' '188' '0.22' '98' '22' '6.6' '5.1'\n",
            " '0.06' '0.42' '3.8' '35' '4' '0.78' '0.63' '0.52' '60' '0.43' '5.6' '6.9'\n",
            " '3.6' '29' '0.38' '4.9' '0.41' '9.9' '7.5' '34' '6.5' '4.7' '103' '0.95'\n",
            " '0.14' '0.35' '4.2' '0.81' '0.54' '0.58' '8.9' '5.5' '0.34' '9.3' '0.13'\n",
            " '54' '0.39' '8.3' '478' '21' '6.8' '0.32' '0.23' '0.24' '8.1' '0.91'\n",
            " '5.3' '100' '0.27' '1.01' '58' '41' '183' '18.4' '0.47' '0.17' '12.1'\n",
            " '0.19' '0.82' '43' '0.44' '70' '7.7' '8.4' '0.69' '8.5' '0.21' '82'\n",
            " '0.055' '0.96' '0.71' '38' '0.36' '9.8' '7' '0.46' '11.1' '39' '76' '5.7'\n",
            " '32' '126' '26.4' '0.53' '0.49' '36' '178' '145' '47' '4.8' '10.3' '89'\n",
            " '7.4' '472' '0.51' '116' '61' '99' '46' '78' '468' '14.4' '165' '9.5'\n",
            " '80' '0.56' '30.5' '20' '0.18' '50' '236' '23' '440' '139' '530' '109'\n",
            " '30' '400' '1.02' '230' '5.73' '66' '65' '117' '40'] \n",
            "\n",
            "List of unique value in column T3_measured : \n",
            " ['t' 'f'] \n",
            "\n",
            "List of unique value in column T3 : \n",
            " ['2.5' '2' '?' '1.9' '1.2' '0.6' '2.2' '1.6' '3.8' '1.7' '1.8' '2.6' '2.1'\n",
            " '0.3' '5.5' '1.4' '3.1' '1.5' '2.3' '2.4' '2.7' '0.9' '1' '2.8' '2.9'\n",
            " '0.8' '1.3' '0.4' '3.3' '3.5' '3.4' '1.1' '4.2' '3.7' '3' '0.7' '4.8'\n",
            " '4.3' '0.05' '3.2' '5.4' '4' '0.5' '0.2' '3.6' '5.2' '5' '6' '5.3' '3.9'\n",
            " '4.6' '4.5' '7.3' '4.7' '6.7' '4.1' '6.1' '0.1' '4.9' '10.6' '5.1' '7'\n",
            " '6.2' '4.4' '7.1' '8.5' '1.44' '7.6' '5.7' '6.6'] \n",
            "\n",
            "List of unique value in column TT4_measured : \n",
            " ['t' 'f'] \n",
            "\n",
            "List of unique value in column TT4 : \n",
            " ['125' '102' '109' '175' '61' '183' '72' '80' '123' '83' '115' '152' '171'\n",
            " '97' '99' '70' '117' '121' '130' '108' '104' '134' '199' '57' '129' '113'\n",
            " '119' '84' '81' '95' '66' '101' '147' '120' '69' '?' '39' '87' '63' '133'\n",
            " '86' '163' '162' '103' '96' '151' '112' '82' '138' '71' '77' '93' '107'\n",
            " '237' '110' '67' '88' '160' '118' '136' '114' '116' '94' '161' '11' '32'\n",
            " '124' '137' '92' '135' '105' '150' '126' '146' '91' '217' '141' '159'\n",
            " '122' '100' '111' '140' '205' '225' '85' '90' '74' '219' '127' '132'\n",
            " '128' '106' '144' '131' '56' '79' '142' '98' '177' '139' '78' '189' '180'\n",
            " '73' '145' '184' '38' '156' '75' '148' '14' '76' '54' '58' '27' '65'\n",
            " '193' '13' '143' '12' '64' '257' '164' '59' '167' '18' '41' '176' '37'\n",
            " '33' '44' '45' '154' '174' '203' '244' '62' '158' '60' '187' '250' '181'\n",
            " '157' '223' '272' '166' '213' '235' '10' '68' '231' '191' '48' '5.8'\n",
            " '169' '149' '210' '40' '155' '232' '42' '204' '430' '198' '230' '15'\n",
            " '170' '165' '47' '168' '194' '89' '52' '179' '192' '172' '4.8' '50' '182'\n",
            " '197' '214' '246' '196' '207' '19' '153' '22' '46' '200' '35' '226' '201'\n",
            " '233' '206' '31' '255' '178' '239' '195' '6' '36' '2' '3' '289' '240'\n",
            " '209' '43' '34' '252' '29' '263' '301' '23' '188' '211' '253' '21' '173'\n",
            " '261' '248' '51' '25' '53' '17' '220' '256' '9.5' '212' '273' '222' '186'\n",
            " '49' '372' '16' '28' '24' '4' '30' '2.9' '55' '216' '258'] \n",
            "\n",
            "List of unique value in column T4U_measured : \n",
            " ['t' 'f'] \n",
            "\n",
            "List of unique value in column T4U : \n",
            " ['1.14' '?' '0.91' '0.87' '1.3' '0.92' '0.7' '0.93' '0.89' '0.95' '0.99'\n",
            " '1.13' '0.86' '0.96' '0.94' '0.9' '1.02' '1.05' '0.62' '1.06' '1.55'\n",
            " '0.83' '1.09' '1.07' '1.27' '0.76' '1.16' '1' '0.56' '0.81' '0.68' '0.78'\n",
            " '0.85' '1.35' '1.15' '0.82' '1.03' '1.58' '0.79' '1.17' '0.71' '0.72'\n",
            " '0.88' '1.11' '1.2' '1.1' '1.33' '0.77' '1.24' '0.53' '1.44' '1.63'\n",
            " '1.51' '1.42' '1.23' '1.01' '0.98' '0.61' '1.12' '1.43' '1.25' '1.41'\n",
            " '1.68' '0.97' '0.84' '0.8' '1.04' '0.73' '1.08' '1.26' '1.46' '1.29'\n",
            " '1.34' '1.66' '1.21' '1.19' '0.75' '0.52' '1.83' '1.39' '1.5' '1.93'\n",
            " '1.18' '0.74' '0.58' '1.82' '0.6' '1.67' '1.22' '0.66' '0.67' '1.31'\n",
            " '0.54' '1.77' '1.59' '1.97' '1.69' '1.38' '1.28' '1.4' '0.69' '0.65'\n",
            " '1.74' '2.03' '1.73' '1.65' '1.36' '1.52' '0.57' '1.53' '1.84' '1.57'\n",
            " '1.75' '1.32' '1.37' '0.64' '1.79' '1.8' '0.48' '1.71' '1.62' '1.76'\n",
            " '1.56' '1.48' '0.59' '0.31' '1.94' '2.12' '1.47' '0.63' '0.944' '0.49'\n",
            " '1.88' '0.5' '0.38' '1.49' '0.41' '1.61' '1.7' '2.32' '0.46' '1.45'\n",
            " '1.54' '0.47' '0.36' '2.01' '0.25'] \n",
            "\n",
            "List of unique value in column FTI_measured : \n",
            " ['t' 'f'] \n",
            "\n",
            "List of unique value in column FTI : \n",
            " ['109' '?' '120' '70' '141' '78' '115' '132' '93' '121' '153' '151' '107'\n",
            " '119' '87' '81' '104' '130' '106' '116' '131' '190' '92' '102' '76' '98'\n",
            " '90' '61' '94' '129' '95' '91' '33' '113' '148' '140' '171' '155' '186'\n",
            " '122' '136' '110' '111' '97' '72' '100' '88' '67' '84' '103' '135' '203'\n",
            " '112' '117' '180' '142' '145' '156' '96' '134' '8.9' '60' '139' '41' '99'\n",
            " '89' '146' '124' '105' '85' '157' '143' '71' '221' '28' '108' '137' '83'\n",
            " '74' '170' '65' '101' '127' '274' '154' '114' '62' '86' '126' '125' '64'\n",
            " '172' '162' '79' '118' '73' '152' '163' '149' '14' '51' '165' '77' '32'\n",
            " '69' '80' '11' '54' '164' '123' '144' '10' '214' '200' '160' '53' '16'\n",
            " '138' '169' '56' '47' '133' '43' '68' '179' '224' '220' '82' '362' '182'\n",
            " '75' '66' '161' '57' '58' '312' '63' '128' '147' '158' '281' '207' '216'\n",
            " '251' '194' '46' '7' '42' '174' '395' '185' '13' '201' '48' '173' '167'\n",
            " '188' '150' '235' '175' '159' '5.4' '189' '59' '166' '34' '228' '232'\n",
            " '217' '177' '176' '195' '219' '17' '210' '168' '205' '39' '187' '50'\n",
            " '349' '52' '206' '253' '242' '244' '213' '178' '247' '215' '198' '19'\n",
            " '237' '37' '7.6' '24' '2' '3' '191' '223' '9' '29' '222' '204' '26' '218'\n",
            " '197' '49' '209' '183' '265' '199' '196' '20' '283' '36' '249' '181'\n",
            " '8.4' '291' '55' '245' '18' '40' '8.5' '184' '4' '21' '280' '2.8' '9.1'\n",
            " '27' '15' '35' '227'] \n",
            "\n",
            "List of unique value in column TBG_measured : \n",
            " ['f'] \n",
            "\n",
            "List of unique value in column TBG : \n",
            " ['?'] \n",
            "\n",
            "List of unique value in column referral_source : \n",
            " ['SVHC' 'other' 'SVI' 'STMW' 'SVHD'] \n",
            "\n",
            "List of unique value in column Class : \n",
            " ['negative' 'compensated_hypothyroid' 'primary_hypothyroid'\n",
            " 'secondary_hypothyroid'] \n",
            "\n"
          ]
        }
      ]
    },
    {
      "cell_type": "code",
      "metadata": {
        "colab": {
          "base_uri": "https://localhost:8080/"
        },
        "id": "1d049a4e",
        "outputId": "b81f6539-623b-4315-8563-cc5f8dcea28a"
      },
      "source": [
        "#check if any duplicate values/rows\n",
        "df.duplicated().sum()"
      ],
      "id": "1d049a4e",
      "execution_count": null,
      "outputs": [
        {
          "output_type": "execute_result",
          "data": {
            "text/plain": [
              "61"
            ]
          },
          "metadata": {},
          "execution_count": 10
        }
      ]
    },
    {
      "cell_type": "code",
      "metadata": {
        "colab": {
          "base_uri": "https://localhost:8080/",
          "height": 443
        },
        "id": "323ae190",
        "outputId": "b8ac0c4f-7a7a-42e4-db12-45473560e3cf"
      },
      "source": [
        "# Pulling the original and duplicated rows to do a quick view, making sure they are indeed exact duplicated data\n",
        "\n",
        "\n",
        "# pd.set_option('display.max_rows', None)\n",
        "\n",
        "df.loc[df.duplicated(keep = False)]"
      ],
      "id": "323ae190",
      "execution_count": null,
      "outputs": [
        {
          "output_type": "execute_result",
          "data": {
            "text/html": [
              "<div>\n",
              "<style scoped>\n",
              "    .dataframe tbody tr th:only-of-type {\n",
              "        vertical-align: middle;\n",
              "    }\n",
              "\n",
              "    .dataframe tbody tr th {\n",
              "        vertical-align: top;\n",
              "    }\n",
              "\n",
              "    .dataframe thead th {\n",
              "        text-align: right;\n",
              "    }\n",
              "</style>\n",
              "<table border=\"1\" class=\"dataframe\">\n",
              "  <thead>\n",
              "    <tr style=\"text-align: right;\">\n",
              "      <th></th>\n",
              "      <th>age</th>\n",
              "      <th>sex</th>\n",
              "      <th>on_thyroxine</th>\n",
              "      <th>query_on_thyroxine</th>\n",
              "      <th>on_antithyroid_medication</th>\n",
              "      <th>sick</th>\n",
              "      <th>pregnant</th>\n",
              "      <th>thyroid_surgery</th>\n",
              "      <th>I131_treatment</th>\n",
              "      <th>query_hypothyroid</th>\n",
              "      <th>query_hyperthyroid</th>\n",
              "      <th>lithium</th>\n",
              "      <th>goitre</th>\n",
              "      <th>tumor</th>\n",
              "      <th>hypopituitary</th>\n",
              "      <th>psych</th>\n",
              "      <th>TSH_measured</th>\n",
              "      <th>TSH</th>\n",
              "      <th>T3_measured</th>\n",
              "      <th>T3</th>\n",
              "      <th>TT4_measured</th>\n",
              "      <th>TT4</th>\n",
              "      <th>T4U_measured</th>\n",
              "      <th>T4U</th>\n",
              "      <th>FTI_measured</th>\n",
              "      <th>FTI</th>\n",
              "      <th>TBG_measured</th>\n",
              "      <th>TBG</th>\n",
              "      <th>referral_source</th>\n",
              "      <th>Class</th>\n",
              "    </tr>\n",
              "  </thead>\n",
              "  <tbody>\n",
              "    <tr>\n",
              "      <th>39</th>\n",
              "      <td>64</td>\n",
              "      <td>F</td>\n",
              "      <td>f</td>\n",
              "      <td>f</td>\n",
              "      <td>f</td>\n",
              "      <td>f</td>\n",
              "      <td>f</td>\n",
              "      <td>f</td>\n",
              "      <td>f</td>\n",
              "      <td>f</td>\n",
              "      <td>f</td>\n",
              "      <td>f</td>\n",
              "      <td>f</td>\n",
              "      <td>f</td>\n",
              "      <td>f</td>\n",
              "      <td>f</td>\n",
              "      <td>f</td>\n",
              "      <td>?</td>\n",
              "      <td>f</td>\n",
              "      <td>?</td>\n",
              "      <td>f</td>\n",
              "      <td>?</td>\n",
              "      <td>f</td>\n",
              "      <td>?</td>\n",
              "      <td>f</td>\n",
              "      <td>?</td>\n",
              "      <td>f</td>\n",
              "      <td>?</td>\n",
              "      <td>other</td>\n",
              "      <td>negative</td>\n",
              "    </tr>\n",
              "    <tr>\n",
              "      <th>92</th>\n",
              "      <td>26</td>\n",
              "      <td>F</td>\n",
              "      <td>f</td>\n",
              "      <td>f</td>\n",
              "      <td>f</td>\n",
              "      <td>f</td>\n",
              "      <td>f</td>\n",
              "      <td>f</td>\n",
              "      <td>f</td>\n",
              "      <td>f</td>\n",
              "      <td>f</td>\n",
              "      <td>f</td>\n",
              "      <td>f</td>\n",
              "      <td>f</td>\n",
              "      <td>f</td>\n",
              "      <td>f</td>\n",
              "      <td>f</td>\n",
              "      <td>?</td>\n",
              "      <td>f</td>\n",
              "      <td>?</td>\n",
              "      <td>f</td>\n",
              "      <td>?</td>\n",
              "      <td>f</td>\n",
              "      <td>?</td>\n",
              "      <td>f</td>\n",
              "      <td>?</td>\n",
              "      <td>f</td>\n",
              "      <td>?</td>\n",
              "      <td>other</td>\n",
              "      <td>negative</td>\n",
              "    </tr>\n",
              "    <tr>\n",
              "      <th>104</th>\n",
              "      <td>57</td>\n",
              "      <td>F</td>\n",
              "      <td>f</td>\n",
              "      <td>f</td>\n",
              "      <td>f</td>\n",
              "      <td>f</td>\n",
              "      <td>f</td>\n",
              "      <td>f</td>\n",
              "      <td>f</td>\n",
              "      <td>f</td>\n",
              "      <td>f</td>\n",
              "      <td>f</td>\n",
              "      <td>f</td>\n",
              "      <td>f</td>\n",
              "      <td>f</td>\n",
              "      <td>f</td>\n",
              "      <td>f</td>\n",
              "      <td>?</td>\n",
              "      <td>f</td>\n",
              "      <td>?</td>\n",
              "      <td>f</td>\n",
              "      <td>?</td>\n",
              "      <td>f</td>\n",
              "      <td>?</td>\n",
              "      <td>f</td>\n",
              "      <td>?</td>\n",
              "      <td>f</td>\n",
              "      <td>?</td>\n",
              "      <td>other</td>\n",
              "      <td>negative</td>\n",
              "    </tr>\n",
              "    <tr>\n",
              "      <th>204</th>\n",
              "      <td>26</td>\n",
              "      <td>F</td>\n",
              "      <td>f</td>\n",
              "      <td>f</td>\n",
              "      <td>f</td>\n",
              "      <td>f</td>\n",
              "      <td>f</td>\n",
              "      <td>f</td>\n",
              "      <td>f</td>\n",
              "      <td>f</td>\n",
              "      <td>f</td>\n",
              "      <td>f</td>\n",
              "      <td>f</td>\n",
              "      <td>f</td>\n",
              "      <td>f</td>\n",
              "      <td>f</td>\n",
              "      <td>f</td>\n",
              "      <td>?</td>\n",
              "      <td>f</td>\n",
              "      <td>?</td>\n",
              "      <td>f</td>\n",
              "      <td>?</td>\n",
              "      <td>f</td>\n",
              "      <td>?</td>\n",
              "      <td>f</td>\n",
              "      <td>?</td>\n",
              "      <td>f</td>\n",
              "      <td>?</td>\n",
              "      <td>other</td>\n",
              "      <td>negative</td>\n",
              "    </tr>\n",
              "    <tr>\n",
              "      <th>210</th>\n",
              "      <td>64</td>\n",
              "      <td>F</td>\n",
              "      <td>f</td>\n",
              "      <td>f</td>\n",
              "      <td>f</td>\n",
              "      <td>f</td>\n",
              "      <td>f</td>\n",
              "      <td>f</td>\n",
              "      <td>f</td>\n",
              "      <td>f</td>\n",
              "      <td>f</td>\n",
              "      <td>f</td>\n",
              "      <td>f</td>\n",
              "      <td>f</td>\n",
              "      <td>f</td>\n",
              "      <td>f</td>\n",
              "      <td>f</td>\n",
              "      <td>?</td>\n",
              "      <td>f</td>\n",
              "      <td>?</td>\n",
              "      <td>f</td>\n",
              "      <td>?</td>\n",
              "      <td>f</td>\n",
              "      <td>?</td>\n",
              "      <td>f</td>\n",
              "      <td>?</td>\n",
              "      <td>f</td>\n",
              "      <td>?</td>\n",
              "      <td>other</td>\n",
              "      <td>negative</td>\n",
              "    </tr>\n",
              "    <tr>\n",
              "      <th>...</th>\n",
              "      <td>...</td>\n",
              "      <td>...</td>\n",
              "      <td>...</td>\n",
              "      <td>...</td>\n",
              "      <td>...</td>\n",
              "      <td>...</td>\n",
              "      <td>...</td>\n",
              "      <td>...</td>\n",
              "      <td>...</td>\n",
              "      <td>...</td>\n",
              "      <td>...</td>\n",
              "      <td>...</td>\n",
              "      <td>...</td>\n",
              "      <td>...</td>\n",
              "      <td>...</td>\n",
              "      <td>...</td>\n",
              "      <td>...</td>\n",
              "      <td>...</td>\n",
              "      <td>...</td>\n",
              "      <td>...</td>\n",
              "      <td>...</td>\n",
              "      <td>...</td>\n",
              "      <td>...</td>\n",
              "      <td>...</td>\n",
              "      <td>...</td>\n",
              "      <td>...</td>\n",
              "      <td>...</td>\n",
              "      <td>...</td>\n",
              "      <td>...</td>\n",
              "      <td>...</td>\n",
              "    </tr>\n",
              "    <tr>\n",
              "      <th>3538</th>\n",
              "      <td>29</td>\n",
              "      <td>M</td>\n",
              "      <td>f</td>\n",
              "      <td>f</td>\n",
              "      <td>f</td>\n",
              "      <td>f</td>\n",
              "      <td>f</td>\n",
              "      <td>f</td>\n",
              "      <td>f</td>\n",
              "      <td>f</td>\n",
              "      <td>f</td>\n",
              "      <td>f</td>\n",
              "      <td>f</td>\n",
              "      <td>f</td>\n",
              "      <td>f</td>\n",
              "      <td>f</td>\n",
              "      <td>f</td>\n",
              "      <td>?</td>\n",
              "      <td>f</td>\n",
              "      <td>?</td>\n",
              "      <td>f</td>\n",
              "      <td>?</td>\n",
              "      <td>f</td>\n",
              "      <td>?</td>\n",
              "      <td>f</td>\n",
              "      <td>?</td>\n",
              "      <td>f</td>\n",
              "      <td>?</td>\n",
              "      <td>other</td>\n",
              "      <td>negative</td>\n",
              "    </tr>\n",
              "    <tr>\n",
              "      <th>3638</th>\n",
              "      <td>38</td>\n",
              "      <td>F</td>\n",
              "      <td>f</td>\n",
              "      <td>f</td>\n",
              "      <td>f</td>\n",
              "      <td>f</td>\n",
              "      <td>f</td>\n",
              "      <td>f</td>\n",
              "      <td>f</td>\n",
              "      <td>f</td>\n",
              "      <td>f</td>\n",
              "      <td>f</td>\n",
              "      <td>f</td>\n",
              "      <td>f</td>\n",
              "      <td>f</td>\n",
              "      <td>f</td>\n",
              "      <td>f</td>\n",
              "      <td>?</td>\n",
              "      <td>f</td>\n",
              "      <td>?</td>\n",
              "      <td>f</td>\n",
              "      <td>?</td>\n",
              "      <td>f</td>\n",
              "      <td>?</td>\n",
              "      <td>f</td>\n",
              "      <td>?</td>\n",
              "      <td>f</td>\n",
              "      <td>?</td>\n",
              "      <td>other</td>\n",
              "      <td>negative</td>\n",
              "    </tr>\n",
              "    <tr>\n",
              "      <th>3707</th>\n",
              "      <td>51</td>\n",
              "      <td>F</td>\n",
              "      <td>f</td>\n",
              "      <td>f</td>\n",
              "      <td>f</td>\n",
              "      <td>f</td>\n",
              "      <td>f</td>\n",
              "      <td>f</td>\n",
              "      <td>f</td>\n",
              "      <td>f</td>\n",
              "      <td>f</td>\n",
              "      <td>f</td>\n",
              "      <td>f</td>\n",
              "      <td>f</td>\n",
              "      <td>f</td>\n",
              "      <td>f</td>\n",
              "      <td>f</td>\n",
              "      <td>?</td>\n",
              "      <td>f</td>\n",
              "      <td>?</td>\n",
              "      <td>f</td>\n",
              "      <td>?</td>\n",
              "      <td>f</td>\n",
              "      <td>?</td>\n",
              "      <td>f</td>\n",
              "      <td>?</td>\n",
              "      <td>f</td>\n",
              "      <td>?</td>\n",
              "      <td>other</td>\n",
              "      <td>negative</td>\n",
              "    </tr>\n",
              "    <tr>\n",
              "      <th>3752</th>\n",
              "      <td>71</td>\n",
              "      <td>F</td>\n",
              "      <td>f</td>\n",
              "      <td>f</td>\n",
              "      <td>f</td>\n",
              "      <td>f</td>\n",
              "      <td>f</td>\n",
              "      <td>f</td>\n",
              "      <td>f</td>\n",
              "      <td>f</td>\n",
              "      <td>f</td>\n",
              "      <td>f</td>\n",
              "      <td>f</td>\n",
              "      <td>f</td>\n",
              "      <td>f</td>\n",
              "      <td>f</td>\n",
              "      <td>f</td>\n",
              "      <td>?</td>\n",
              "      <td>f</td>\n",
              "      <td>?</td>\n",
              "      <td>f</td>\n",
              "      <td>?</td>\n",
              "      <td>f</td>\n",
              "      <td>?</td>\n",
              "      <td>f</td>\n",
              "      <td>?</td>\n",
              "      <td>f</td>\n",
              "      <td>?</td>\n",
              "      <td>other</td>\n",
              "      <td>negative</td>\n",
              "    </tr>\n",
              "    <tr>\n",
              "      <th>3763</th>\n",
              "      <td>41</td>\n",
              "      <td>F</td>\n",
              "      <td>f</td>\n",
              "      <td>f</td>\n",
              "      <td>f</td>\n",
              "      <td>f</td>\n",
              "      <td>f</td>\n",
              "      <td>f</td>\n",
              "      <td>f</td>\n",
              "      <td>f</td>\n",
              "      <td>f</td>\n",
              "      <td>f</td>\n",
              "      <td>f</td>\n",
              "      <td>f</td>\n",
              "      <td>f</td>\n",
              "      <td>f</td>\n",
              "      <td>f</td>\n",
              "      <td>?</td>\n",
              "      <td>f</td>\n",
              "      <td>?</td>\n",
              "      <td>f</td>\n",
              "      <td>?</td>\n",
              "      <td>f</td>\n",
              "      <td>?</td>\n",
              "      <td>f</td>\n",
              "      <td>?</td>\n",
              "      <td>f</td>\n",
              "      <td>?</td>\n",
              "      <td>other</td>\n",
              "      <td>negative</td>\n",
              "    </tr>\n",
              "  </tbody>\n",
              "</table>\n",
              "<p>94 rows × 30 columns</p>\n",
              "</div>"
            ],
            "text/plain": [
              "     age sex on_thyroxine query_on_thyroxine on_antithyroid_medication sick  \\\n",
              "39    64   F            f                  f                         f    f   \n",
              "92    26   F            f                  f                         f    f   \n",
              "104   57   F            f                  f                         f    f   \n",
              "204   26   F            f                  f                         f    f   \n",
              "210   64   F            f                  f                         f    f   \n",
              "...   ..  ..          ...                ...                       ...  ...   \n",
              "3538  29   M            f                  f                         f    f   \n",
              "3638  38   F            f                  f                         f    f   \n",
              "3707  51   F            f                  f                         f    f   \n",
              "3752  71   F            f                  f                         f    f   \n",
              "3763  41   F            f                  f                         f    f   \n",
              "\n",
              "     pregnant thyroid_surgery I131_treatment query_hypothyroid  \\\n",
              "39          f               f              f                 f   \n",
              "92          f               f              f                 f   \n",
              "104         f               f              f                 f   \n",
              "204         f               f              f                 f   \n",
              "210         f               f              f                 f   \n",
              "...       ...             ...            ...               ...   \n",
              "3538        f               f              f                 f   \n",
              "3638        f               f              f                 f   \n",
              "3707        f               f              f                 f   \n",
              "3752        f               f              f                 f   \n",
              "3763        f               f              f                 f   \n",
              "\n",
              "     query_hyperthyroid lithium goitre tumor hypopituitary psych TSH_measured  \\\n",
              "39                    f       f      f     f             f     f            f   \n",
              "92                    f       f      f     f             f     f            f   \n",
              "104                   f       f      f     f             f     f            f   \n",
              "204                   f       f      f     f             f     f            f   \n",
              "210                   f       f      f     f             f     f            f   \n",
              "...                 ...     ...    ...   ...           ...   ...          ...   \n",
              "3538                  f       f      f     f             f     f            f   \n",
              "3638                  f       f      f     f             f     f            f   \n",
              "3707                  f       f      f     f             f     f            f   \n",
              "3752                  f       f      f     f             f     f            f   \n",
              "3763                  f       f      f     f             f     f            f   \n",
              "\n",
              "     TSH T3_measured T3 TT4_measured TT4 T4U_measured T4U FTI_measured FTI  \\\n",
              "39     ?           f  ?            f   ?            f   ?            f   ?   \n",
              "92     ?           f  ?            f   ?            f   ?            f   ?   \n",
              "104    ?           f  ?            f   ?            f   ?            f   ?   \n",
              "204    ?           f  ?            f   ?            f   ?            f   ?   \n",
              "210    ?           f  ?            f   ?            f   ?            f   ?   \n",
              "...   ..         ... ..          ...  ..          ...  ..          ...  ..   \n",
              "3538   ?           f  ?            f   ?            f   ?            f   ?   \n",
              "3638   ?           f  ?            f   ?            f   ?            f   ?   \n",
              "3707   ?           f  ?            f   ?            f   ?            f   ?   \n",
              "3752   ?           f  ?            f   ?            f   ?            f   ?   \n",
              "3763   ?           f  ?            f   ?            f   ?            f   ?   \n",
              "\n",
              "     TBG_measured TBG referral_source     Class  \n",
              "39              f   ?           other  negative  \n",
              "92              f   ?           other  negative  \n",
              "104             f   ?           other  negative  \n",
              "204             f   ?           other  negative  \n",
              "210             f   ?           other  negative  \n",
              "...           ...  ..             ...       ...  \n",
              "3538            f   ?           other  negative  \n",
              "3638            f   ?           other  negative  \n",
              "3707            f   ?           other  negative  \n",
              "3752            f   ?           other  negative  \n",
              "3763            f   ?           other  negative  \n",
              "\n",
              "[94 rows x 30 columns]"
            ]
          },
          "metadata": {},
          "execution_count": 11
        }
      ]
    },
    {
      "cell_type": "markdown",
      "metadata": {
        "id": "31c86622"
      },
      "source": [
        "These duplicates may or may not be the same individuals which happened to have the same/similar records. Since they not really adding much values and may reduced the accuracy of the model, given the numbers of duplicated is below 100, I believed it is wise to drop these rows."
      ],
      "id": "31c86622"
    },
    {
      "cell_type": "code",
      "metadata": {
        "id": "07ef8fc6"
      },
      "source": [
        "# dropping those duplicated rows and only keep the first records.\n",
        "df.drop_duplicates(keep='first',inplace=True)"
      ],
      "id": "07ef8fc6",
      "execution_count": null,
      "outputs": []
    },
    {
      "cell_type": "code",
      "metadata": {
        "colab": {
          "base_uri": "https://localhost:8080/"
        },
        "id": "74189e91",
        "outputId": "54971104-b499-4bf8-e05e-4534b0ea2dbb"
      },
      "source": [
        "#To see the new shape of the dataset after primary clean up\n",
        "df.shape\n",
        "\n",
        "# From 3772 rows dropped to 3711 rows only"
      ],
      "id": "74189e91",
      "execution_count": null,
      "outputs": [
        {
          "output_type": "execute_result",
          "data": {
            "text/plain": [
              "(3711, 30)"
            ]
          },
          "metadata": {},
          "execution_count": 13
        }
      ]
    },
    {
      "cell_type": "markdown",
      "metadata": {
        "id": "32844287"
      },
      "source": [
        "While there were no missing value found using .isna(), but we can see some value showing as **'?'** as missing values. So calling them out below and sum the total counts to see the total numbers of ? value."
      ],
      "id": "32844287"
    },
    {
      "cell_type": "code",
      "metadata": {
        "colab": {
          "base_uri": "https://localhost:8080/"
        },
        "id": "4469e97d",
        "outputId": "0952fbb1-f888-4b91-e3d2-fa0cf7c2b2b1"
      },
      "source": [
        "df[df=='?'].count()"
      ],
      "id": "4469e97d",
      "execution_count": null,
      "outputs": [
        {
          "output_type": "execute_result",
          "data": {
            "text/plain": [
              "age                             1\n",
              "sex                           149\n",
              "on_thyroxine                    0\n",
              "query_on_thyroxine              0\n",
              "on_antithyroid_medication       0\n",
              "sick                            0\n",
              "pregnant                        0\n",
              "thyroid_surgery                 0\n",
              "I131_treatment                  0\n",
              "query_hypothyroid               0\n",
              "query_hyperthyroid              0\n",
              "lithium                         0\n",
              "goitre                          0\n",
              "tumor                           0\n",
              "hypopituitary                   0\n",
              "psych                           0\n",
              "TSH_measured                    0\n",
              "TSH                           309\n",
              "T3_measured                     0\n",
              "T3                            709\n",
              "TT4_measured                    0\n",
              "TT4                           171\n",
              "T4U_measured                    0\n",
              "T4U                           327\n",
              "FTI_measured                    0\n",
              "FTI                           325\n",
              "TBG_measured                    0\n",
              "TBG                          3711\n",
              "referral_source                 0\n",
              "Class                           0\n",
              "dtype: int64"
            ]
          },
          "metadata": {},
          "execution_count": 14
        }
      ]
    },
    {
      "cell_type": "markdown",
      "metadata": {
        "id": "5764b7e6"
      },
      "source": [
        "From the above listing, there are quite some amount of missing data which marked as \"?\". Where's the breakdown of my decision on how to handle these columns with missing data <br>\n",
        "\n",
        "    Column name   | Numbers of missing Data\n",
        "    age            : 1    --> Since it's only 1 missing data, will remove the entire row associated\n",
        "    sex            : 149  --> Since the Targeted output is to identify the classes, there is no use of keeping these rows\n",
        "    TSH            : 309  --> We have the measured column data, this column do not benefit our objective, delete column\n",
        "    T3             : 709  --> We have the measured column data, this column do not benefit our objective, delete column\n",
        "    TT4            : 171  --> We have the measured column data, this column do not benefit our objective, delete column\n",
        "    T4U            : 327  --> We have the measured column data, this column do not benefit our objective, delete column\n",
        "    FTI            : 325  --> We have the measured column data, this column do not benefit our objective, delete column\n",
        "    TBG_measured   : 0    --> TBG entire column is missing data, even this has no missing data but only 1 value, no benefit\n",
        "    TBG            : 3711 --> This entire column is missing data so no reason to keep\n",
        "\n",
        "\n",
        "\n"
      ],
      "id": "5764b7e6"
    },
    {
      "cell_type": "code",
      "metadata": {
        "id": "a9923003"
      },
      "source": [
        "# df[df[\"age\"]==\"?\"] \n",
        "#row number 1985\n",
        "\n",
        "#Dropping the 1 row that has missing value with '?'\n",
        "df.drop([1985], axis=0, inplace=True)"
      ],
      "id": "a9923003",
      "execution_count": null,
      "outputs": []
    },
    {
      "cell_type": "code",
      "metadata": {
        "colab": {
          "base_uri": "https://localhost:8080/",
          "height": 69
        },
        "id": "5ef4e5a6",
        "outputId": "6d17115e-7594-484b-ebe4-9399d2752a25"
      },
      "source": [
        "#reinspect the column after dropped the 1 row with ? value\n",
        "df[df[\"age\"]==\"?\"] "
      ],
      "id": "5ef4e5a6",
      "execution_count": null,
      "outputs": [
        {
          "output_type": "execute_result",
          "data": {
            "text/html": [
              "<div>\n",
              "<style scoped>\n",
              "    .dataframe tbody tr th:only-of-type {\n",
              "        vertical-align: middle;\n",
              "    }\n",
              "\n",
              "    .dataframe tbody tr th {\n",
              "        vertical-align: top;\n",
              "    }\n",
              "\n",
              "    .dataframe thead th {\n",
              "        text-align: right;\n",
              "    }\n",
              "</style>\n",
              "<table border=\"1\" class=\"dataframe\">\n",
              "  <thead>\n",
              "    <tr style=\"text-align: right;\">\n",
              "      <th></th>\n",
              "      <th>age</th>\n",
              "      <th>sex</th>\n",
              "      <th>on_thyroxine</th>\n",
              "      <th>query_on_thyroxine</th>\n",
              "      <th>on_antithyroid_medication</th>\n",
              "      <th>sick</th>\n",
              "      <th>pregnant</th>\n",
              "      <th>thyroid_surgery</th>\n",
              "      <th>I131_treatment</th>\n",
              "      <th>query_hypothyroid</th>\n",
              "      <th>query_hyperthyroid</th>\n",
              "      <th>lithium</th>\n",
              "      <th>goitre</th>\n",
              "      <th>tumor</th>\n",
              "      <th>hypopituitary</th>\n",
              "      <th>psych</th>\n",
              "      <th>TSH_measured</th>\n",
              "      <th>TSH</th>\n",
              "      <th>T3_measured</th>\n",
              "      <th>T3</th>\n",
              "      <th>TT4_measured</th>\n",
              "      <th>TT4</th>\n",
              "      <th>T4U_measured</th>\n",
              "      <th>T4U</th>\n",
              "      <th>FTI_measured</th>\n",
              "      <th>FTI</th>\n",
              "      <th>TBG_measured</th>\n",
              "      <th>TBG</th>\n",
              "      <th>referral_source</th>\n",
              "      <th>Class</th>\n",
              "    </tr>\n",
              "  </thead>\n",
              "  <tbody>\n",
              "  </tbody>\n",
              "</table>\n",
              "</div>"
            ],
            "text/plain": [
              "Empty DataFrame\n",
              "Columns: [age, sex, on_thyroxine, query_on_thyroxine, on_antithyroid_medication, sick, pregnant, thyroid_surgery, I131_treatment, query_hypothyroid, query_hyperthyroid, lithium, goitre, tumor, hypopituitary, psych, TSH_measured, TSH, T3_measured, T3, TT4_measured, TT4, T4U_measured, T4U, FTI_measured, FTI, TBG_measured, TBG, referral_source, Class]\n",
              "Index: []"
            ]
          },
          "metadata": {},
          "execution_count": 16
        }
      ]
    },
    {
      "cell_type": "code",
      "metadata": {
        "colab": {
          "base_uri": "https://localhost:8080/",
          "height": 226
        },
        "id": "588ad30a",
        "outputId": "8b6d2739-3b29-49fc-96eb-711ac85506e7"
      },
      "source": [
        "# drop the columns\n",
        "\n",
        "df.drop(columns=[\"sex\",\"TSH\",\"T3\",\"TT4\",\"T4U\",\"FTI\",\"TBG_measured\",\"TBG\"], inplace=True)\n",
        "\n",
        "df.head()"
      ],
      "id": "588ad30a",
      "execution_count": null,
      "outputs": [
        {
          "output_type": "execute_result",
          "data": {
            "text/html": [
              "<div>\n",
              "<style scoped>\n",
              "    .dataframe tbody tr th:only-of-type {\n",
              "        vertical-align: middle;\n",
              "    }\n",
              "\n",
              "    .dataframe tbody tr th {\n",
              "        vertical-align: top;\n",
              "    }\n",
              "\n",
              "    .dataframe thead th {\n",
              "        text-align: right;\n",
              "    }\n",
              "</style>\n",
              "<table border=\"1\" class=\"dataframe\">\n",
              "  <thead>\n",
              "    <tr style=\"text-align: right;\">\n",
              "      <th></th>\n",
              "      <th>age</th>\n",
              "      <th>on_thyroxine</th>\n",
              "      <th>query_on_thyroxine</th>\n",
              "      <th>on_antithyroid_medication</th>\n",
              "      <th>sick</th>\n",
              "      <th>pregnant</th>\n",
              "      <th>thyroid_surgery</th>\n",
              "      <th>I131_treatment</th>\n",
              "      <th>query_hypothyroid</th>\n",
              "      <th>query_hyperthyroid</th>\n",
              "      <th>lithium</th>\n",
              "      <th>goitre</th>\n",
              "      <th>tumor</th>\n",
              "      <th>hypopituitary</th>\n",
              "      <th>psych</th>\n",
              "      <th>TSH_measured</th>\n",
              "      <th>T3_measured</th>\n",
              "      <th>TT4_measured</th>\n",
              "      <th>T4U_measured</th>\n",
              "      <th>FTI_measured</th>\n",
              "      <th>referral_source</th>\n",
              "      <th>Class</th>\n",
              "    </tr>\n",
              "  </thead>\n",
              "  <tbody>\n",
              "    <tr>\n",
              "      <th>0</th>\n",
              "      <td>41</td>\n",
              "      <td>f</td>\n",
              "      <td>f</td>\n",
              "      <td>f</td>\n",
              "      <td>f</td>\n",
              "      <td>f</td>\n",
              "      <td>f</td>\n",
              "      <td>f</td>\n",
              "      <td>f</td>\n",
              "      <td>f</td>\n",
              "      <td>f</td>\n",
              "      <td>f</td>\n",
              "      <td>f</td>\n",
              "      <td>f</td>\n",
              "      <td>f</td>\n",
              "      <td>t</td>\n",
              "      <td>t</td>\n",
              "      <td>t</td>\n",
              "      <td>t</td>\n",
              "      <td>t</td>\n",
              "      <td>SVHC</td>\n",
              "      <td>negative</td>\n",
              "    </tr>\n",
              "    <tr>\n",
              "      <th>1</th>\n",
              "      <td>23</td>\n",
              "      <td>f</td>\n",
              "      <td>f</td>\n",
              "      <td>f</td>\n",
              "      <td>f</td>\n",
              "      <td>f</td>\n",
              "      <td>f</td>\n",
              "      <td>f</td>\n",
              "      <td>f</td>\n",
              "      <td>f</td>\n",
              "      <td>f</td>\n",
              "      <td>f</td>\n",
              "      <td>f</td>\n",
              "      <td>f</td>\n",
              "      <td>f</td>\n",
              "      <td>t</td>\n",
              "      <td>t</td>\n",
              "      <td>t</td>\n",
              "      <td>f</td>\n",
              "      <td>f</td>\n",
              "      <td>other</td>\n",
              "      <td>negative</td>\n",
              "    </tr>\n",
              "    <tr>\n",
              "      <th>2</th>\n",
              "      <td>46</td>\n",
              "      <td>f</td>\n",
              "      <td>f</td>\n",
              "      <td>f</td>\n",
              "      <td>f</td>\n",
              "      <td>f</td>\n",
              "      <td>f</td>\n",
              "      <td>f</td>\n",
              "      <td>f</td>\n",
              "      <td>f</td>\n",
              "      <td>f</td>\n",
              "      <td>f</td>\n",
              "      <td>f</td>\n",
              "      <td>f</td>\n",
              "      <td>f</td>\n",
              "      <td>t</td>\n",
              "      <td>f</td>\n",
              "      <td>t</td>\n",
              "      <td>t</td>\n",
              "      <td>t</td>\n",
              "      <td>other</td>\n",
              "      <td>negative</td>\n",
              "    </tr>\n",
              "    <tr>\n",
              "      <th>3</th>\n",
              "      <td>70</td>\n",
              "      <td>t</td>\n",
              "      <td>f</td>\n",
              "      <td>f</td>\n",
              "      <td>f</td>\n",
              "      <td>f</td>\n",
              "      <td>f</td>\n",
              "      <td>f</td>\n",
              "      <td>f</td>\n",
              "      <td>f</td>\n",
              "      <td>f</td>\n",
              "      <td>f</td>\n",
              "      <td>f</td>\n",
              "      <td>f</td>\n",
              "      <td>f</td>\n",
              "      <td>t</td>\n",
              "      <td>t</td>\n",
              "      <td>t</td>\n",
              "      <td>f</td>\n",
              "      <td>f</td>\n",
              "      <td>other</td>\n",
              "      <td>negative</td>\n",
              "    </tr>\n",
              "    <tr>\n",
              "      <th>4</th>\n",
              "      <td>70</td>\n",
              "      <td>f</td>\n",
              "      <td>f</td>\n",
              "      <td>f</td>\n",
              "      <td>f</td>\n",
              "      <td>f</td>\n",
              "      <td>f</td>\n",
              "      <td>f</td>\n",
              "      <td>f</td>\n",
              "      <td>f</td>\n",
              "      <td>f</td>\n",
              "      <td>f</td>\n",
              "      <td>f</td>\n",
              "      <td>f</td>\n",
              "      <td>f</td>\n",
              "      <td>t</td>\n",
              "      <td>t</td>\n",
              "      <td>t</td>\n",
              "      <td>t</td>\n",
              "      <td>t</td>\n",
              "      <td>SVI</td>\n",
              "      <td>negative</td>\n",
              "    </tr>\n",
              "  </tbody>\n",
              "</table>\n",
              "</div>"
            ],
            "text/plain": [
              "  age on_thyroxine query_on_thyroxine on_antithyroid_medication sick pregnant  \\\n",
              "0  41            f                  f                         f    f        f   \n",
              "1  23            f                  f                         f    f        f   \n",
              "2  46            f                  f                         f    f        f   \n",
              "3  70            t                  f                         f    f        f   \n",
              "4  70            f                  f                         f    f        f   \n",
              "\n",
              "  thyroid_surgery I131_treatment query_hypothyroid query_hyperthyroid lithium  \\\n",
              "0               f              f                 f                  f       f   \n",
              "1               f              f                 f                  f       f   \n",
              "2               f              f                 f                  f       f   \n",
              "3               f              f                 f                  f       f   \n",
              "4               f              f                 f                  f       f   \n",
              "\n",
              "  goitre tumor hypopituitary psych TSH_measured T3_measured TT4_measured  \\\n",
              "0      f     f             f     f            t           t            t   \n",
              "1      f     f             f     f            t           t            t   \n",
              "2      f     f             f     f            t           f            t   \n",
              "3      f     f             f     f            t           t            t   \n",
              "4      f     f             f     f            t           t            t   \n",
              "\n",
              "  T4U_measured FTI_measured referral_source     Class  \n",
              "0            t            t            SVHC  negative  \n",
              "1            f            f           other  negative  \n",
              "2            t            t           other  negative  \n",
              "3            f            f           other  negative  \n",
              "4            t            t             SVI  negative  "
            ]
          },
          "metadata": {},
          "execution_count": 17
        }
      ]
    },
    {
      "cell_type": "code",
      "metadata": {
        "colab": {
          "base_uri": "https://localhost:8080/",
          "height": 226
        },
        "id": "f89dbcd2",
        "outputId": "a67c02c1-61e5-4f3f-8bfc-4df00f4bc573"
      },
      "source": [
        "#convert type after cleaned up '?'\n",
        "\n",
        "df[[\"age\"]] = df[[\"age\"]] .astype(int)\n",
        "df.head()"
      ],
      "id": "f89dbcd2",
      "execution_count": null,
      "outputs": [
        {
          "output_type": "execute_result",
          "data": {
            "text/html": [
              "<div>\n",
              "<style scoped>\n",
              "    .dataframe tbody tr th:only-of-type {\n",
              "        vertical-align: middle;\n",
              "    }\n",
              "\n",
              "    .dataframe tbody tr th {\n",
              "        vertical-align: top;\n",
              "    }\n",
              "\n",
              "    .dataframe thead th {\n",
              "        text-align: right;\n",
              "    }\n",
              "</style>\n",
              "<table border=\"1\" class=\"dataframe\">\n",
              "  <thead>\n",
              "    <tr style=\"text-align: right;\">\n",
              "      <th></th>\n",
              "      <th>age</th>\n",
              "      <th>on_thyroxine</th>\n",
              "      <th>query_on_thyroxine</th>\n",
              "      <th>on_antithyroid_medication</th>\n",
              "      <th>sick</th>\n",
              "      <th>pregnant</th>\n",
              "      <th>thyroid_surgery</th>\n",
              "      <th>I131_treatment</th>\n",
              "      <th>query_hypothyroid</th>\n",
              "      <th>query_hyperthyroid</th>\n",
              "      <th>lithium</th>\n",
              "      <th>goitre</th>\n",
              "      <th>tumor</th>\n",
              "      <th>hypopituitary</th>\n",
              "      <th>psych</th>\n",
              "      <th>TSH_measured</th>\n",
              "      <th>T3_measured</th>\n",
              "      <th>TT4_measured</th>\n",
              "      <th>T4U_measured</th>\n",
              "      <th>FTI_measured</th>\n",
              "      <th>referral_source</th>\n",
              "      <th>Class</th>\n",
              "    </tr>\n",
              "  </thead>\n",
              "  <tbody>\n",
              "    <tr>\n",
              "      <th>0</th>\n",
              "      <td>41</td>\n",
              "      <td>f</td>\n",
              "      <td>f</td>\n",
              "      <td>f</td>\n",
              "      <td>f</td>\n",
              "      <td>f</td>\n",
              "      <td>f</td>\n",
              "      <td>f</td>\n",
              "      <td>f</td>\n",
              "      <td>f</td>\n",
              "      <td>f</td>\n",
              "      <td>f</td>\n",
              "      <td>f</td>\n",
              "      <td>f</td>\n",
              "      <td>f</td>\n",
              "      <td>t</td>\n",
              "      <td>t</td>\n",
              "      <td>t</td>\n",
              "      <td>t</td>\n",
              "      <td>t</td>\n",
              "      <td>SVHC</td>\n",
              "      <td>negative</td>\n",
              "    </tr>\n",
              "    <tr>\n",
              "      <th>1</th>\n",
              "      <td>23</td>\n",
              "      <td>f</td>\n",
              "      <td>f</td>\n",
              "      <td>f</td>\n",
              "      <td>f</td>\n",
              "      <td>f</td>\n",
              "      <td>f</td>\n",
              "      <td>f</td>\n",
              "      <td>f</td>\n",
              "      <td>f</td>\n",
              "      <td>f</td>\n",
              "      <td>f</td>\n",
              "      <td>f</td>\n",
              "      <td>f</td>\n",
              "      <td>f</td>\n",
              "      <td>t</td>\n",
              "      <td>t</td>\n",
              "      <td>t</td>\n",
              "      <td>f</td>\n",
              "      <td>f</td>\n",
              "      <td>other</td>\n",
              "      <td>negative</td>\n",
              "    </tr>\n",
              "    <tr>\n",
              "      <th>2</th>\n",
              "      <td>46</td>\n",
              "      <td>f</td>\n",
              "      <td>f</td>\n",
              "      <td>f</td>\n",
              "      <td>f</td>\n",
              "      <td>f</td>\n",
              "      <td>f</td>\n",
              "      <td>f</td>\n",
              "      <td>f</td>\n",
              "      <td>f</td>\n",
              "      <td>f</td>\n",
              "      <td>f</td>\n",
              "      <td>f</td>\n",
              "      <td>f</td>\n",
              "      <td>f</td>\n",
              "      <td>t</td>\n",
              "      <td>f</td>\n",
              "      <td>t</td>\n",
              "      <td>t</td>\n",
              "      <td>t</td>\n",
              "      <td>other</td>\n",
              "      <td>negative</td>\n",
              "    </tr>\n",
              "    <tr>\n",
              "      <th>3</th>\n",
              "      <td>70</td>\n",
              "      <td>t</td>\n",
              "      <td>f</td>\n",
              "      <td>f</td>\n",
              "      <td>f</td>\n",
              "      <td>f</td>\n",
              "      <td>f</td>\n",
              "      <td>f</td>\n",
              "      <td>f</td>\n",
              "      <td>f</td>\n",
              "      <td>f</td>\n",
              "      <td>f</td>\n",
              "      <td>f</td>\n",
              "      <td>f</td>\n",
              "      <td>f</td>\n",
              "      <td>t</td>\n",
              "      <td>t</td>\n",
              "      <td>t</td>\n",
              "      <td>f</td>\n",
              "      <td>f</td>\n",
              "      <td>other</td>\n",
              "      <td>negative</td>\n",
              "    </tr>\n",
              "    <tr>\n",
              "      <th>4</th>\n",
              "      <td>70</td>\n",
              "      <td>f</td>\n",
              "      <td>f</td>\n",
              "      <td>f</td>\n",
              "      <td>f</td>\n",
              "      <td>f</td>\n",
              "      <td>f</td>\n",
              "      <td>f</td>\n",
              "      <td>f</td>\n",
              "      <td>f</td>\n",
              "      <td>f</td>\n",
              "      <td>f</td>\n",
              "      <td>f</td>\n",
              "      <td>f</td>\n",
              "      <td>f</td>\n",
              "      <td>t</td>\n",
              "      <td>t</td>\n",
              "      <td>t</td>\n",
              "      <td>t</td>\n",
              "      <td>t</td>\n",
              "      <td>SVI</td>\n",
              "      <td>negative</td>\n",
              "    </tr>\n",
              "  </tbody>\n",
              "</table>\n",
              "</div>"
            ],
            "text/plain": [
              "   age on_thyroxine query_on_thyroxine on_antithyroid_medication sick  \\\n",
              "0   41            f                  f                         f    f   \n",
              "1   23            f                  f                         f    f   \n",
              "2   46            f                  f                         f    f   \n",
              "3   70            t                  f                         f    f   \n",
              "4   70            f                  f                         f    f   \n",
              "\n",
              "  pregnant thyroid_surgery I131_treatment query_hypothyroid  \\\n",
              "0        f               f              f                 f   \n",
              "1        f               f              f                 f   \n",
              "2        f               f              f                 f   \n",
              "3        f               f              f                 f   \n",
              "4        f               f              f                 f   \n",
              "\n",
              "  query_hyperthyroid lithium goitre tumor hypopituitary psych TSH_measured  \\\n",
              "0                  f       f      f     f             f     f            t   \n",
              "1                  f       f      f     f             f     f            t   \n",
              "2                  f       f      f     f             f     f            t   \n",
              "3                  f       f      f     f             f     f            t   \n",
              "4                  f       f      f     f             f     f            t   \n",
              "\n",
              "  T3_measured TT4_measured T4U_measured FTI_measured referral_source     Class  \n",
              "0           t            t            t            t            SVHC  negative  \n",
              "1           t            t            f            f           other  negative  \n",
              "2           f            t            t            t           other  negative  \n",
              "3           t            t            f            f           other  negative  \n",
              "4           t            t            t            t             SVI  negative  "
            ]
          },
          "metadata": {},
          "execution_count": 18
        }
      ]
    },
    {
      "cell_type": "code",
      "metadata": {
        "colab": {
          "base_uri": "https://localhost:8080/"
        },
        "id": "1951c633",
        "outputId": "5ec28aff-bdcd-4c05-f5d2-9f327efdb237"
      },
      "source": [
        "#review the dataset \n",
        "df.info()"
      ],
      "id": "1951c633",
      "execution_count": null,
      "outputs": [
        {
          "output_type": "stream",
          "name": "stdout",
          "text": [
            "<class 'pandas.core.frame.DataFrame'>\n",
            "Int64Index: 3710 entries, 0 to 3771\n",
            "Data columns (total 22 columns):\n",
            " #   Column                     Non-Null Count  Dtype \n",
            "---  ------                     --------------  ----- \n",
            " 0   age                        3710 non-null   int64 \n",
            " 1   on_thyroxine               3710 non-null   object\n",
            " 2   query_on_thyroxine         3710 non-null   object\n",
            " 3   on_antithyroid_medication  3710 non-null   object\n",
            " 4   sick                       3710 non-null   object\n",
            " 5   pregnant                   3710 non-null   object\n",
            " 6   thyroid_surgery            3710 non-null   object\n",
            " 7   I131_treatment             3710 non-null   object\n",
            " 8   query_hypothyroid          3710 non-null   object\n",
            " 9   query_hyperthyroid         3710 non-null   object\n",
            " 10  lithium                    3710 non-null   object\n",
            " 11  goitre                     3710 non-null   object\n",
            " 12  tumor                      3710 non-null   object\n",
            " 13  hypopituitary              3710 non-null   object\n",
            " 14  psych                      3710 non-null   object\n",
            " 15  TSH_measured               3710 non-null   object\n",
            " 16  T3_measured                3710 non-null   object\n",
            " 17  TT4_measured               3710 non-null   object\n",
            " 18  T4U_measured               3710 non-null   object\n",
            " 19  FTI_measured               3710 non-null   object\n",
            " 20  referral_source            3710 non-null   object\n",
            " 21  Class                      3710 non-null   object\n",
            "dtypes: int64(1), object(21)\n",
            "memory usage: 666.6+ KB\n"
          ]
        }
      ]
    },
    {
      "cell_type": "code",
      "metadata": {
        "colab": {
          "base_uri": "https://localhost:8080/"
        },
        "id": "e2024047",
        "outputId": "8689f86e-7249-43f4-e490-cb2a1de1c2b8"
      },
      "source": [
        "df.shape"
      ],
      "id": "e2024047",
      "execution_count": null,
      "outputs": [
        {
          "output_type": "execute_result",
          "data": {
            "text/plain": [
              "(3710, 22)"
            ]
          },
          "metadata": {},
          "execution_count": 20
        }
      ]
    },
    {
      "cell_type": "code",
      "metadata": {
        "colab": {
          "base_uri": "https://localhost:8080/",
          "height": 300
        },
        "id": "a08682e5",
        "outputId": "45e8dfda-1bbc-4ab8-8bff-75a2e2175194"
      },
      "source": [
        "#To view the max, min under age column\n",
        "df.describe()"
      ],
      "id": "a08682e5",
      "execution_count": null,
      "outputs": [
        {
          "output_type": "execute_result",
          "data": {
            "text/html": [
              "<div>\n",
              "<style scoped>\n",
              "    .dataframe tbody tr th:only-of-type {\n",
              "        vertical-align: middle;\n",
              "    }\n",
              "\n",
              "    .dataframe tbody tr th {\n",
              "        vertical-align: top;\n",
              "    }\n",
              "\n",
              "    .dataframe thead th {\n",
              "        text-align: right;\n",
              "    }\n",
              "</style>\n",
              "<table border=\"1\" class=\"dataframe\">\n",
              "  <thead>\n",
              "    <tr style=\"text-align: right;\">\n",
              "      <th></th>\n",
              "      <th>age</th>\n",
              "    </tr>\n",
              "  </thead>\n",
              "  <tbody>\n",
              "    <tr>\n",
              "      <th>count</th>\n",
              "      <td>3710.000000</td>\n",
              "    </tr>\n",
              "    <tr>\n",
              "      <th>mean</th>\n",
              "      <td>51.860377</td>\n",
              "    </tr>\n",
              "    <tr>\n",
              "      <th>std</th>\n",
              "      <td>20.123585</td>\n",
              "    </tr>\n",
              "    <tr>\n",
              "      <th>min</th>\n",
              "      <td>1.000000</td>\n",
              "    </tr>\n",
              "    <tr>\n",
              "      <th>25%</th>\n",
              "      <td>36.000000</td>\n",
              "    </tr>\n",
              "    <tr>\n",
              "      <th>50%</th>\n",
              "      <td>54.000000</td>\n",
              "    </tr>\n",
              "    <tr>\n",
              "      <th>75%</th>\n",
              "      <td>67.000000</td>\n",
              "    </tr>\n",
              "    <tr>\n",
              "      <th>max</th>\n",
              "      <td>455.000000</td>\n",
              "    </tr>\n",
              "  </tbody>\n",
              "</table>\n",
              "</div>"
            ],
            "text/plain": [
              "               age\n",
              "count  3710.000000\n",
              "mean     51.860377\n",
              "std      20.123585\n",
              "min       1.000000\n",
              "25%      36.000000\n",
              "50%      54.000000\n",
              "75%      67.000000\n",
              "max     455.000000"
            ]
          },
          "metadata": {},
          "execution_count": 21
        }
      ]
    },
    {
      "cell_type": "code",
      "metadata": {
        "colab": {
          "base_uri": "https://localhost:8080/",
          "height": 351
        },
        "id": "9e027fc8",
        "outputId": "9618eddd-d115-43bd-ca55-83bcb2f5ad6a"
      },
      "source": [
        "#From the describe output, we can see the max value is 455 which is odd for a human age. Using Scatterplot to check if this outliner is valid\n",
        "\n",
        "sns.boxplot(df[\"age\"])"
      ],
      "id": "9e027fc8",
      "execution_count": null,
      "outputs": [
        {
          "output_type": "stream",
          "name": "stderr",
          "text": [
            "/usr/local/lib/python3.7/dist-packages/seaborn/_decorators.py:43: FutureWarning: Pass the following variable as a keyword arg: x. From version 0.12, the only valid positional argument will be `data`, and passing other arguments without an explicit keyword will result in an error or misinterpretation.\n",
            "  FutureWarning\n"
          ]
        },
        {
          "output_type": "execute_result",
          "data": {
            "text/plain": [
              "<matplotlib.axes._subplots.AxesSubplot at 0x7ff4942f8c10>"
            ]
          },
          "metadata": {},
          "execution_count": 22
        },
        {
          "output_type": "display_data",
          "data": {
            "image/png": "[encoded data removed]",
            "text/plain": [
              "<Figure size 432x288 with 1 Axes>"
            ]
          },
          "metadata": {
            "needs_background": "light"
          }
        }
      ]
    },
    {
      "cell_type": "markdown",
      "metadata": {
        "id": "62ec480f"
      },
      "source": [
        "From this boxplot we can see there is an extreme outlier beyong 400 years old which is very impossible at the current era"
      ],
      "id": "62ec480f"
    },
    {
      "cell_type": "code",
      "metadata": {
        "colab": {
          "base_uri": "https://localhost:8080/",
          "height": 296
        },
        "id": "59353416",
        "outputId": "56004a2c-deec-4aa9-dee2-370ca9c7a288"
      },
      "source": [
        "sns.scatterplot(x=\"age\", y=\"Class\", data=df)"
      ],
      "id": "59353416",
      "execution_count": null,
      "outputs": [
        {
          "output_type": "execute_result",
          "data": {
            "text/plain": [
              "<matplotlib.axes._subplots.AxesSubplot at 0x7ff4937a94d0>"
            ]
          },
          "metadata": {},
          "execution_count": 23
        },
        {
          "output_type": "display_data",
          "data": {
            "image/png": "[encoded data removed]",
            "text/plain": [
              "<Figure size 432x288 with 1 Axes>"
            ]
          },
          "metadata": {
            "needs_background": "light"
          }
        }
      ]
    },
    {
      "cell_type": "code",
      "metadata": {
        "colab": {
          "base_uri": "https://localhost:8080/",
          "height": 101
        },
        "id": "ec6d564b",
        "outputId": "7c5fc3e7-d89b-46cb-eff2-3a5dc971b139"
      },
      "source": [
        "#call out any rows that have age value more than 100 since 100 years old is still highly possible for average of age.\n",
        "df[df[\"age\"]> 100]"
      ],
      "id": "ec6d564b",
      "execution_count": null,
      "outputs": [
        {
          "output_type": "execute_result",
          "data": {
            "text/html": [
              "<div>\n",
              "<style scoped>\n",
              "    .dataframe tbody tr th:only-of-type {\n",
              "        vertical-align: middle;\n",
              "    }\n",
              "\n",
              "    .dataframe tbody tr th {\n",
              "        vertical-align: top;\n",
              "    }\n",
              "\n",
              "    .dataframe thead th {\n",
              "        text-align: right;\n",
              "    }\n",
              "</style>\n",
              "<table border=\"1\" class=\"dataframe\">\n",
              "  <thead>\n",
              "    <tr style=\"text-align: right;\">\n",
              "      <th></th>\n",
              "      <th>age</th>\n",
              "      <th>on_thyroxine</th>\n",
              "      <th>query_on_thyroxine</th>\n",
              "      <th>on_antithyroid_medication</th>\n",
              "      <th>sick</th>\n",
              "      <th>pregnant</th>\n",
              "      <th>thyroid_surgery</th>\n",
              "      <th>I131_treatment</th>\n",
              "      <th>query_hypothyroid</th>\n",
              "      <th>query_hyperthyroid</th>\n",
              "      <th>lithium</th>\n",
              "      <th>goitre</th>\n",
              "      <th>tumor</th>\n",
              "      <th>hypopituitary</th>\n",
              "      <th>psych</th>\n",
              "      <th>TSH_measured</th>\n",
              "      <th>T3_measured</th>\n",
              "      <th>TT4_measured</th>\n",
              "      <th>T4U_measured</th>\n",
              "      <th>FTI_measured</th>\n",
              "      <th>referral_source</th>\n",
              "      <th>Class</th>\n",
              "    </tr>\n",
              "  </thead>\n",
              "  <tbody>\n",
              "    <tr>\n",
              "      <th>1364</th>\n",
              "      <td>455</td>\n",
              "      <td>f</td>\n",
              "      <td>f</td>\n",
              "      <td>f</td>\n",
              "      <td>f</td>\n",
              "      <td>f</td>\n",
              "      <td>f</td>\n",
              "      <td>f</td>\n",
              "      <td>f</td>\n",
              "      <td>f</td>\n",
              "      <td>f</td>\n",
              "      <td>f</td>\n",
              "      <td>f</td>\n",
              "      <td>f</td>\n",
              "      <td>f</td>\n",
              "      <td>t</td>\n",
              "      <td>t</td>\n",
              "      <td>t</td>\n",
              "      <td>t</td>\n",
              "      <td>t</td>\n",
              "      <td>SVI</td>\n",
              "      <td>negative</td>\n",
              "    </tr>\n",
              "  </tbody>\n",
              "</table>\n",
              "</div>"
            ],
            "text/plain": [
              "      age on_thyroxine query_on_thyroxine on_antithyroid_medication sick  \\\n",
              "1364  455            f                  f                         f    f   \n",
              "\n",
              "     pregnant thyroid_surgery I131_treatment query_hypothyroid  \\\n",
              "1364        f               f              f                 f   \n",
              "\n",
              "     query_hyperthyroid lithium goitre tumor hypopituitary psych TSH_measured  \\\n",
              "1364                  f       f      f     f             f     f            t   \n",
              "\n",
              "     T3_measured TT4_measured T4U_measured FTI_measured referral_source  \\\n",
              "1364           t            t            t            t             SVI   \n",
              "\n",
              "         Class  \n",
              "1364  negative  "
            ]
          },
          "metadata": {},
          "execution_count": 24
        }
      ]
    },
    {
      "cell_type": "code",
      "metadata": {
        "id": "58c400d5"
      },
      "source": [
        "#identified the specific row that is outlier and since it is only 1 row, so removed the entire row from will be most ideal.\n",
        "df.drop([1364], axis=0, inplace=True)"
      ],
      "id": "58c400d5",
      "execution_count": null,
      "outputs": []
    },
    {
      "cell_type": "code",
      "metadata": {
        "colab": {
          "base_uri": "https://localhost:8080/"
        },
        "id": "016820e2",
        "outputId": "cf6b90cc-f067-41ad-9cf1-b3a651885050"
      },
      "source": [
        "df.shape"
      ],
      "id": "016820e2",
      "execution_count": null,
      "outputs": [
        {
          "output_type": "execute_result",
          "data": {
            "text/plain": [
              "(3709, 22)"
            ]
          },
          "metadata": {},
          "execution_count": 26
        }
      ]
    },
    {
      "cell_type": "code",
      "metadata": {
        "colab": {
          "base_uri": "https://localhost:8080/",
          "height": 351
        },
        "id": "8e6f84b1",
        "outputId": "3961d93f-1899-4419-c0ff-597e6551e8fa"
      },
      "source": [
        "sns.boxplot(df[\"age\"])"
      ],
      "id": "8e6f84b1",
      "execution_count": null,
      "outputs": [
        {
          "output_type": "stream",
          "name": "stderr",
          "text": [
            "/usr/local/lib/python3.7/dist-packages/seaborn/_decorators.py:43: FutureWarning: Pass the following variable as a keyword arg: x. From version 0.12, the only valid positional argument will be `data`, and passing other arguments without an explicit keyword will result in an error or misinterpretation.\n",
            "  FutureWarning\n"
          ]
        },
        {
          "output_type": "execute_result",
          "data": {
            "text/plain": [
              "<matplotlib.axes._subplots.AxesSubplot at 0x7ff4932e3250>"
            ]
          },
          "metadata": {},
          "execution_count": 27
        },
        {
          "output_type": "display_data",
          "data": {
            "image/png": "[encoded data removed]",
            "text/plain": [
              "<Figure size 432x288 with 1 Axes>"
            ]
          },
          "metadata": {
            "needs_background": "light"
          }
        }
      ]
    },
    {
      "cell_type": "markdown",
      "metadata": {
        "id": "6582ea42"
      },
      "source": [
        "Review the age column using boxplot, we can now see there is no more extreme outlier and the average of age group for this dataset is between 30+ to 60+ years old."
      ],
      "id": "6582ea42"
    },
    {
      "cell_type": "code",
      "metadata": {
        "colab": {
          "base_uri": "https://localhost:8080/",
          "height": 519
        },
        "id": "16284cc3",
        "outputId": "341d0b1c-65a7-42a2-d6ca-f8bca6d64e82"
      },
      "source": [
        "fig = plt.figure(figsize=(16,8))\n",
        "\n",
        "ax = sns.histplot(x=\"age\", data=df, shrink=.9, bins=30)\n",
        "\n",
        "for value in ax.patches:\n",
        "    height = value.get_height()\n",
        "    ax.annotate(f'{int(height)}', xy=(value.get_x()+value.get_width()/2, height), \n",
        "                xytext=(0, 5), textcoords='offset points', ha='center', va='bottom') \n",
        "\n",
        "\n",
        "plt.xlabel(\"Age\", size=16)\n",
        "plt.ylabel(\"Frequency\", size=16)\n",
        "# plt.bar_label(ax.containers[0])\n",
        "\n",
        "  \n",
        "# title    \n",
        "plt.title(\"Total number for Age Group\", fontsize=14)\n",
        "# # To hide the grid that was shown \n",
        "# ax.grid(False)\n",
        "\n",
        "plt.show()"
      ],
      "id": "16284cc3",
      "execution_count": null,
      "outputs": [
        {
          "output_type": "display_data",
          "data": {
            "image/png": "[encoded data removed]",
            "text/plain": [
              "<Figure size 1152x576 with 1 Axes>"
            ]
          },
          "metadata": {
            "needs_background": "light"
          }
        }
      ]
    },
    {
      "cell_type": "markdown",
      "metadata": {
        "id": "17985574"
      },
      "source": [
        "From the histogram above, we get to see the distribution across age of the individual who involved in this thyroid research. The majority of age is between 50+ to 70+ years old included in this dataset from different referral source as shown in the histogram for different source below. <br>\n",
        "\n",
        "While the total counts of individual are high around this range, it doesn't means they are also the high number of age group that has Thyroid, they just happened to be the higher group that participated in this dataset reseach. We can see it from the histogram below, where most of the numbers are actually tested negative towards Thyroid Disease."
      ],
      "id": "17985574"
    },
    {
      "cell_type": "code",
      "metadata": {
        "colab": {
          "base_uri": "https://localhost:8080/",
          "height": 519
        },
        "id": "ef6aca0b",
        "outputId": "e099ae76-df11-4ea6-fefb-6142729cfb43"
      },
      "source": [
        "fig = plt.figure(figsize=(16,8))\n",
        "\n",
        "ax = sns.histplot(x=\"age\", hue=\"Class\", multiple=\"stack\", data=df, shrink=.9, bins=30)\n",
        "\n",
        "plt.xlabel(\"Age\", size=16)\n",
        "plt.ylabel(\"Frequency\", size=16)\n",
        "# plt.bar_label(ax.containers[0])\n",
        "\n",
        "  \n",
        "# title    \n",
        "plt.title(\"Total number for Age Group with Class of Disease distribution\", fontsize=14)\n",
        "# # To hide the grid that was shown \n",
        "# ax.grid(False)\n",
        "\n",
        "plt.show()"
      ],
      "id": "ef6aca0b",
      "execution_count": null,
      "outputs": [
        {
          "output_type": "display_data",
          "data": {
            "image/png": "[encoded data removed]",
            "text/plain": [
              "<Figure size 1152x576 with 1 Axes>"
            ]
          },
          "metadata": {
            "needs_background": "light"
          }
        }
      ]
    },
    {
      "cell_type": "code",
      "metadata": {
        "colab": {
          "base_uri": "https://localhost:8080/",
          "height": 519
        },
        "id": "2c4b3d65",
        "outputId": "c37dd783-ed38-460d-9481-85d44612d766"
      },
      "source": [
        "fig = plt.figure(figsize=(16,8))\n",
        "\n",
        "ax = sns.histplot(x=\"age\", hue=\"referral_source\", multiple=\"stack\", data=df, shrink=.9, bins=30)\n",
        "\n",
        "plt.xlabel(\"Age\", size=16)\n",
        "plt.ylabel(\"Frequency\", size=16)\n",
        "# plt.bar_label(ax.containers[0])\n",
        "\n",
        "  \n",
        "# title    \n",
        "plt.title(\"Total number for Age Group from different Referral Source\", fontsize=14)\n",
        "# # To hide the grid that was shown \n",
        "# ax.grid(False)\n",
        "\n",
        "plt.show()"
      ],
      "id": "2c4b3d65",
      "execution_count": null,
      "outputs": [
        {
          "output_type": "display_data",
          "data": {
            "image/png": "[encoded data removed]",
            "text/plain": [
              "<Figure size 1152x576 with 1 Axes>"
            ]
          },
          "metadata": {
            "needs_background": "light"
          }
        }
      ]
    },
    {
      "cell_type": "code",
      "metadata": {
        "colab": {
          "base_uri": "https://localhost:8080/",
          "height": 520
        },
        "id": "99c0ba88",
        "outputId": "410a89b3-4ed1-4ee7-c542-704eb2c0c57e"
      },
      "source": [
        "fig = plt.figure(figsize=(12,8))\n",
        "\n",
        "ax = sns.histplot(x=\"Class\", data=df)\n",
        "\n",
        "for value in ax.patches:\n",
        "    height = value.get_height()\n",
        "    ax.annotate(f'{int(height)}', xy=(value.get_x()+value.get_width()/2, height), \n",
        "                xytext=(0, 5), textcoords='offset points', ha='center', va='bottom') \n",
        "\n",
        "\n",
        "plt.xlabel(\"Class\", size=16)\n",
        "plt.ylabel(\"Counts\", size=16)\n",
        "# plt.bar_label(ax.containers[0])\n",
        "\n",
        "  \n",
        "# title    \n",
        "plt.title(\"Total number in Different Classes \", fontsize=14)\n",
        "# # To hide the grid that was shown \n",
        "# ax.grid(False)\n",
        "\n",
        "plt.show()"
      ],
      "id": "99c0ba88",
      "execution_count": null,
      "outputs": [
        {
          "output_type": "display_data",
          "data": {
            "image/png": "[encoded data removed]",
            "text/plain": [
              "<Figure size 864x576 with 1 Axes>"
            ]
          },
          "metadata": {
            "needs_background": "light"
          }
        }
      ]
    },
    {
      "cell_type": "markdown",
      "metadata": {
        "id": "e0493a3e"
      },
      "source": [
        "So this histogram plotting of the Class, we can see that Negative group class that is almost 92& of the entire dataset. So our dataset can be consider as **<ins>imbalanced classes</ins>** dataset. <br>\n",
        "\n",
        "Since Hypothyroid only has 2 outcome for \"secondary_hypothyroid\" and they will not make big influnces or impact to the model prediction. "
      ],
      "id": "e0493a3e"
    },
    {
      "cell_type": "code",
      "metadata": {
        "id": "8a8423b1"
      },
      "source": [
        "# df[df[\"Class\"]==\"secondary_hypothyroid\"] \n",
        "#row number 1505 & 2735\n",
        "\n",
        "#dropping the 2 rows that is secondary_hypothyroid class\n",
        "df.drop([1505,2735], axis=0, inplace=True)"
      ],
      "id": "8a8423b1",
      "execution_count": null,
      "outputs": []
    },
    {
      "cell_type": "code",
      "metadata": {
        "colab": {
          "base_uri": "https://localhost:8080/"
        },
        "id": "9332f466",
        "outputId": "90140b3c-4900-4634-94c7-df3f627d36e7"
      },
      "source": [
        "#now the secondary_hypothyroid is gone from the Class group\n",
        "df[\"Class\"].value_counts()"
      ],
      "id": "9332f466",
      "execution_count": null,
      "outputs": [
        {
          "output_type": "execute_result",
          "data": {
            "text/plain": [
              "negative                   3418\n",
              "compensated_hypothyroid     194\n",
              "primary_hypothyroid          95\n",
              "Name: Class, dtype: int64"
            ]
          },
          "metadata": {},
          "execution_count": 33
        }
      ]
    },
    {
      "cell_type": "code",
      "metadata": {
        "colab": {
          "base_uri": "https://localhost:8080/",
          "height": 519
        },
        "id": "2d114471",
        "outputId": "939dd9d1-4f24-4f07-db6e-a082e8f48007"
      },
      "source": [
        "fig = plt.figure(figsize=(12,8))\n",
        "\n",
        "ax = sns.histplot(x=\"referral_source\", data=df)\n",
        "\n",
        "for value in ax.patches:\n",
        "    height = value.get_height()\n",
        "    ax.annotate(f'{int(height)}', xy=(value.get_x()+value.get_width()/2, height), \n",
        "                xytext=(0, 5), textcoords='offset points', ha='center', va='bottom') \n",
        "\n",
        "\n",
        "plt.xlabel(\"Class\", size=16)\n",
        "plt.ylabel(\"Counts\", size=16)\n",
        "# plt.bar_label(ax.containers[0])\n",
        "\n",
        "  \n",
        "# title    \n",
        "plt.title(\"Total number in Different Referral Source \", fontsize=14)\n",
        "# # To hide the grid that was shown \n",
        "# ax.grid(False)\n",
        "\n",
        "plt.show()"
      ],
      "id": "2d114471",
      "execution_count": null,
      "outputs": [
        {
          "output_type": "display_data",
          "data": {
            "image/png": "[encoded data removed]",
            "text/plain": [
              "<Figure size 864x576 with 1 Axes>"
            ]
          },
          "metadata": {
            "needs_background": "light"
          }
        }
      ]
    },
    {
      "cell_type": "markdown",
      "metadata": {
        "id": "054fd67f"
      },
      "source": [
        "There are total 5 different referral source but the group of **other** occupied largely in this dataset"
      ],
      "id": "054fd67f"
    },
    {
      "cell_type": "code",
      "metadata": {
        "colab": {
          "base_uri": "https://localhost:8080/"
        },
        "id": "441f3fc3",
        "outputId": "6ae88c43-af90-4ded-cb8c-f9a2e112ee71"
      },
      "source": [
        "# df[df.columns].value_counts().index.tolist()\n",
        "\n",
        "\n",
        "#Taking a glance view of total numbers of values in each columns except age column\n",
        "for col in df.iloc[:,1:]:\n",
        "    count = df[col].value_counts()\n",
        "    print('List of unique value in column',col,':\\n',count,'\\n')"
      ],
      "id": "441f3fc3",
      "execution_count": null,
      "outputs": [
        {
          "output_type": "stream",
          "name": "stdout",
          "text": [
            "List of unique value in column on_thyroxine :\n",
            " f    3244\n",
            "t     463\n",
            "Name: on_thyroxine, dtype: int64 \n",
            "\n",
            "List of unique value in column query_on_thyroxine :\n",
            " f    3657\n",
            "t      50\n",
            "Name: query_on_thyroxine, dtype: int64 \n",
            "\n",
            "List of unique value in column on_antithyroid_medication :\n",
            " f    3665\n",
            "t      42\n",
            "Name: on_antithyroid_medication, dtype: int64 \n",
            "\n",
            "List of unique value in column sick :\n",
            " f    3560\n",
            "t     147\n",
            "Name: sick, dtype: int64 \n",
            "\n",
            "List of unique value in column pregnant :\n",
            " f    3654\n",
            "t      53\n",
            "Name: pregnant, dtype: int64 \n",
            "\n",
            "List of unique value in column thyroid_surgery :\n",
            " f    3654\n",
            "t      53\n",
            "Name: thyroid_surgery, dtype: int64 \n",
            "\n",
            "List of unique value in column I131_treatment :\n",
            " f    3649\n",
            "t      58\n",
            "Name: I131_treatment, dtype: int64 \n",
            "\n",
            "List of unique value in column query_hypothyroid :\n",
            " f    3474\n",
            "t     233\n",
            "Name: query_hypothyroid, dtype: int64 \n",
            "\n",
            "List of unique value in column query_hyperthyroid :\n",
            " f    3473\n",
            "t     234\n",
            "Name: query_hyperthyroid, dtype: int64 \n",
            "\n",
            "List of unique value in column lithium :\n",
            " f    3689\n",
            "t      18\n",
            "Name: lithium, dtype: int64 \n",
            "\n",
            "List of unique value in column goitre :\n",
            " f    3673\n",
            "t      34\n",
            "Name: goitre, dtype: int64 \n",
            "\n",
            "List of unique value in column tumor :\n",
            " f    3611\n",
            "t      96\n",
            "Name: tumor, dtype: int64 \n",
            "\n",
            "List of unique value in column hypopituitary :\n",
            " f    3706\n",
            "t       1\n",
            "Name: hypopituitary, dtype: int64 \n",
            "\n",
            "List of unique value in column psych :\n",
            " f    3523\n",
            "t     184\n",
            "Name: psych, dtype: int64 \n",
            "\n",
            "List of unique value in column TSH_measured :\n",
            " t    3398\n",
            "f     309\n",
            "Name: TSH_measured, dtype: int64 \n",
            "\n",
            "List of unique value in column T3_measured :\n",
            " t    2998\n",
            "f     709\n",
            "Name: T3_measured, dtype: int64 \n",
            "\n",
            "List of unique value in column TT4_measured :\n",
            " t    3536\n",
            "f     171\n",
            "Name: TT4_measured, dtype: int64 \n",
            "\n",
            "List of unique value in column T4U_measured :\n",
            " t    3381\n",
            "f     326\n",
            "Name: T4U_measured, dtype: int64 \n",
            "\n",
            "List of unique value in column FTI_measured :\n",
            " t    3383\n",
            "f     324\n",
            "Name: FTI_measured, dtype: int64 \n",
            "\n",
            "List of unique value in column referral_source :\n",
            " other    2137\n",
            "SVI      1033\n",
            "SVHC      386\n",
            "STMW      112\n",
            "SVHD       39\n",
            "Name: referral_source, dtype: int64 \n",
            "\n",
            "List of unique value in column Class :\n",
            " negative                   3418\n",
            "compensated_hypothyroid     194\n",
            "primary_hypothyroid          95\n",
            "Name: Class, dtype: int64 \n",
            "\n"
          ]
        }
      ]
    },
    {
      "cell_type": "markdown",
      "metadata": {
        "id": "264ef57d"
      },
      "source": [
        "---"
      ],
      "id": "264ef57d"
    },
    {
      "cell_type": "markdown",
      "metadata": {
        "id": "3f3efc5f"
      },
      "source": [
        "## Model Building"
      ],
      "id": "3f3efc5f"
    },
    {
      "cell_type": "code",
      "metadata": {
        "colab": {
          "base_uri": "https://localhost:8080/",
          "height": 226
        },
        "id": "9ffe81fb",
        "outputId": "3163986a-98a0-49e2-e746-2d4b6e517677"
      },
      "source": [
        "#Making a copy to retain the original df in case need more EDA\n",
        "df2 = df.copy()\n",
        "df2.head()"
      ],
      "id": "9ffe81fb",
      "execution_count": null,
      "outputs": [
        {
          "output_type": "execute_result",
          "data": {
            "text/html": [
              "<div>\n",
              "<style scoped>\n",
              "    .dataframe tbody tr th:only-of-type {\n",
              "        vertical-align: middle;\n",
              "    }\n",
              "\n",
              "    .dataframe tbody tr th {\n",
              "        vertical-align: top;\n",
              "    }\n",
              "\n",
              "    .dataframe thead th {\n",
              "        text-align: right;\n",
              "    }\n",
              "</style>\n",
              "<table border=\"1\" class=\"dataframe\">\n",
              "  <thead>\n",
              "    <tr style=\"text-align: right;\">\n",
              "      <th></th>\n",
              "      <th>age</th>\n",
              "      <th>on_thyroxine</th>\n",
              "      <th>query_on_thyroxine</th>\n",
              "      <th>on_antithyroid_medication</th>\n",
              "      <th>sick</th>\n",
              "      <th>pregnant</th>\n",
              "      <th>thyroid_surgery</th>\n",
              "      <th>I131_treatment</th>\n",
              "      <th>query_hypothyroid</th>\n",
              "      <th>query_hyperthyroid</th>\n",
              "      <th>lithium</th>\n",
              "      <th>goitre</th>\n",
              "      <th>tumor</th>\n",
              "      <th>hypopituitary</th>\n",
              "      <th>psych</th>\n",
              "      <th>TSH_measured</th>\n",
              "      <th>T3_measured</th>\n",
              "      <th>TT4_measured</th>\n",
              "      <th>T4U_measured</th>\n",
              "      <th>FTI_measured</th>\n",
              "      <th>referral_source</th>\n",
              "      <th>Class</th>\n",
              "    </tr>\n",
              "  </thead>\n",
              "  <tbody>\n",
              "    <tr>\n",
              "      <th>0</th>\n",
              "      <td>41</td>\n",
              "      <td>f</td>\n",
              "      <td>f</td>\n",
              "      <td>f</td>\n",
              "      <td>f</td>\n",
              "      <td>f</td>\n",
              "      <td>f</td>\n",
              "      <td>f</td>\n",
              "      <td>f</td>\n",
              "      <td>f</td>\n",
              "      <td>f</td>\n",
              "      <td>f</td>\n",
              "      <td>f</td>\n",
              "      <td>f</td>\n",
              "      <td>f</td>\n",
              "      <td>t</td>\n",
              "      <td>t</td>\n",
              "      <td>t</td>\n",
              "      <td>t</td>\n",
              "      <td>t</td>\n",
              "      <td>SVHC</td>\n",
              "      <td>negative</td>\n",
              "    </tr>\n",
              "    <tr>\n",
              "      <th>1</th>\n",
              "      <td>23</td>\n",
              "      <td>f</td>\n",
              "      <td>f</td>\n",
              "      <td>f</td>\n",
              "      <td>f</td>\n",
              "      <td>f</td>\n",
              "      <td>f</td>\n",
              "      <td>f</td>\n",
              "      <td>f</td>\n",
              "      <td>f</td>\n",
              "      <td>f</td>\n",
              "      <td>f</td>\n",
              "      <td>f</td>\n",
              "      <td>f</td>\n",
              "      <td>f</td>\n",
              "      <td>t</td>\n",
              "      <td>t</td>\n",
              "      <td>t</td>\n",
              "      <td>f</td>\n",
              "      <td>f</td>\n",
              "      <td>other</td>\n",
              "      <td>negative</td>\n",
              "    </tr>\n",
              "    <tr>\n",
              "      <th>2</th>\n",
              "      <td>46</td>\n",
              "      <td>f</td>\n",
              "      <td>f</td>\n",
              "      <td>f</td>\n",
              "      <td>f</td>\n",
              "      <td>f</td>\n",
              "      <td>f</td>\n",
              "      <td>f</td>\n",
              "      <td>f</td>\n",
              "      <td>f</td>\n",
              "      <td>f</td>\n",
              "      <td>f</td>\n",
              "      <td>f</td>\n",
              "      <td>f</td>\n",
              "      <td>f</td>\n",
              "      <td>t</td>\n",
              "      <td>f</td>\n",
              "      <td>t</td>\n",
              "      <td>t</td>\n",
              "      <td>t</td>\n",
              "      <td>other</td>\n",
              "      <td>negative</td>\n",
              "    </tr>\n",
              "    <tr>\n",
              "      <th>3</th>\n",
              "      <td>70</td>\n",
              "      <td>t</td>\n",
              "      <td>f</td>\n",
              "      <td>f</td>\n",
              "      <td>f</td>\n",
              "      <td>f</td>\n",
              "      <td>f</td>\n",
              "      <td>f</td>\n",
              "      <td>f</td>\n",
              "      <td>f</td>\n",
              "      <td>f</td>\n",
              "      <td>f</td>\n",
              "      <td>f</td>\n",
              "      <td>f</td>\n",
              "      <td>f</td>\n",
              "      <td>t</td>\n",
              "      <td>t</td>\n",
              "      <td>t</td>\n",
              "      <td>f</td>\n",
              "      <td>f</td>\n",
              "      <td>other</td>\n",
              "      <td>negative</td>\n",
              "    </tr>\n",
              "    <tr>\n",
              "      <th>4</th>\n",
              "      <td>70</td>\n",
              "      <td>f</td>\n",
              "      <td>f</td>\n",
              "      <td>f</td>\n",
              "      <td>f</td>\n",
              "      <td>f</td>\n",
              "      <td>f</td>\n",
              "      <td>f</td>\n",
              "      <td>f</td>\n",
              "      <td>f</td>\n",
              "      <td>f</td>\n",
              "      <td>f</td>\n",
              "      <td>f</td>\n",
              "      <td>f</td>\n",
              "      <td>f</td>\n",
              "      <td>t</td>\n",
              "      <td>t</td>\n",
              "      <td>t</td>\n",
              "      <td>t</td>\n",
              "      <td>t</td>\n",
              "      <td>SVI</td>\n",
              "      <td>negative</td>\n",
              "    </tr>\n",
              "  </tbody>\n",
              "</table>\n",
              "</div>"
            ],
            "text/plain": [
              "   age on_thyroxine query_on_thyroxine on_antithyroid_medication sick  \\\n",
              "0   41            f                  f                         f    f   \n",
              "1   23            f                  f                         f    f   \n",
              "2   46            f                  f                         f    f   \n",
              "3   70            t                  f                         f    f   \n",
              "4   70            f                  f                         f    f   \n",
              "\n",
              "  pregnant thyroid_surgery I131_treatment query_hypothyroid  \\\n",
              "0        f               f              f                 f   \n",
              "1        f               f              f                 f   \n",
              "2        f               f              f                 f   \n",
              "3        f               f              f                 f   \n",
              "4        f               f              f                 f   \n",
              "\n",
              "  query_hyperthyroid lithium goitre tumor hypopituitary psych TSH_measured  \\\n",
              "0                  f       f      f     f             f     f            t   \n",
              "1                  f       f      f     f             f     f            t   \n",
              "2                  f       f      f     f             f     f            t   \n",
              "3                  f       f      f     f             f     f            t   \n",
              "4                  f       f      f     f             f     f            t   \n",
              "\n",
              "  T3_measured TT4_measured T4U_measured FTI_measured referral_source     Class  \n",
              "0           t            t            t            t            SVHC  negative  \n",
              "1           t            t            f            f           other  negative  \n",
              "2           f            t            t            t           other  negative  \n",
              "3           t            t            f            f           other  negative  \n",
              "4           t            t            t            t             SVI  negative  "
            ]
          },
          "metadata": {},
          "execution_count": 36
        }
      ]
    },
    {
      "cell_type": "code",
      "metadata": {
        "colab": {
          "base_uri": "https://localhost:8080/"
        },
        "id": "d8e6a761",
        "outputId": "272e3686-4d58-40ce-dbb7-dea485dc356e"
      },
      "source": [
        "df2.shape"
      ],
      "id": "d8e6a761",
      "execution_count": null,
      "outputs": [
        {
          "output_type": "execute_result",
          "data": {
            "text/plain": [
              "(3707, 22)"
            ]
          },
          "metadata": {},
          "execution_count": 37
        }
      ]
    },
    {
      "cell_type": "markdown",
      "metadata": {
        "id": "43418197"
      },
      "source": [
        "## Categorical encoding"
      ],
      "id": "43418197"
    },
    {
      "cell_type": "code",
      "metadata": {
        "colab": {
          "base_uri": "https://localhost:8080/"
        },
        "id": "e2d79ec5",
        "outputId": "e61f46cd-551a-44d3-843d-bbac579e30ff"
      },
      "source": [
        "le_ref = LabelEncoder()\n",
        "le_ref.fit(df2['referral_source'])\n",
        "list(le_ref.classes_)\n",
        "df2['referral_source']=le_ref.transform(df2['referral_source'])\n",
        "\n",
        "# Using the inverse_transform to check back which index key is which subscribed\n",
        "list(le_ref.inverse_transform([0, 1, 2, 3, 4]))"
      ],
      "id": "e2d79ec5",
      "execution_count": null,
      "outputs": [
        {
          "output_type": "execute_result",
          "data": {
            "text/plain": [
              "['STMW', 'SVHC', 'SVHD', 'SVI', 'other']"
            ]
          },
          "metadata": {},
          "execution_count": 38
        }
      ]
    },
    {
      "cell_type": "code",
      "metadata": {
        "colab": {
          "base_uri": "https://localhost:8080/"
        },
        "id": "3e2a3748",
        "outputId": "5c0bae3c-539d-4bf6-b684-eca06363cb97"
      },
      "source": [
        "le_class = LabelEncoder()\n",
        "le_class.fit(df2['Class'])\n",
        "list(le_class.classes_)\n",
        "df2['Class']=le_class.transform(df2['Class'])\n",
        "\n",
        "# Using the inverse_transform to check back which index key is which subscribed\n",
        "list(le_class.inverse_transform([0, 1, 2]))"
      ],
      "id": "3e2a3748",
      "execution_count": null,
      "outputs": [
        {
          "output_type": "execute_result",
          "data": {
            "text/plain": [
              "['compensated_hypothyroid', 'negative', 'primary_hypothyroid']"
            ]
          },
          "metadata": {},
          "execution_count": 39
        }
      ]
    },
    {
      "cell_type": "code",
      "metadata": {
        "colab": {
          "base_uri": "https://localhost:8080/",
          "height": 226
        },
        "id": "435a155c",
        "outputId": "13cd87d5-8452-47b5-bda3-5bcb69307250"
      },
      "source": [
        "df2.replace([\"f\", \"t\"],[0,1], inplace=True)\n",
        "df2.head()"
      ],
      "id": "435a155c",
      "execution_count": null,
      "outputs": [
        {
          "output_type": "execute_result",
          "data": {
            "text/html": [
              "<div>\n",
              "<style scoped>\n",
              "    .dataframe tbody tr th:only-of-type {\n",
              "        vertical-align: middle;\n",
              "    }\n",
              "\n",
              "    .dataframe tbody tr th {\n",
              "        vertical-align: top;\n",
              "    }\n",
              "\n",
              "    .dataframe thead th {\n",
              "        text-align: right;\n",
              "    }\n",
              "</style>\n",
              "<table border=\"1\" class=\"dataframe\">\n",
              "  <thead>\n",
              "    <tr style=\"text-align: right;\">\n",
              "      <th></th>\n",
              "      <th>age</th>\n",
              "      <th>on_thyroxine</th>\n",
              "      <th>query_on_thyroxine</th>\n",
              "      <th>on_antithyroid_medication</th>\n",
              "      <th>sick</th>\n",
              "      <th>pregnant</th>\n",
              "      <th>thyroid_surgery</th>\n",
              "      <th>I131_treatment</th>\n",
              "      <th>query_hypothyroid</th>\n",
              "      <th>query_hyperthyroid</th>\n",
              "      <th>lithium</th>\n",
              "      <th>goitre</th>\n",
              "      <th>tumor</th>\n",
              "      <th>hypopituitary</th>\n",
              "      <th>psych</th>\n",
              "      <th>TSH_measured</th>\n",
              "      <th>T3_measured</th>\n",
              "      <th>TT4_measured</th>\n",
              "      <th>T4U_measured</th>\n",
              "      <th>FTI_measured</th>\n",
              "      <th>referral_source</th>\n",
              "      <th>Class</th>\n",
              "    </tr>\n",
              "  </thead>\n",
              "  <tbody>\n",
              "    <tr>\n",
              "      <th>0</th>\n",
              "      <td>41</td>\n",
              "      <td>0</td>\n",
              "      <td>0</td>\n",
              "      <td>0</td>\n",
              "      <td>0</td>\n",
              "      <td>0</td>\n",
              "      <td>0</td>\n",
              "      <td>0</td>\n",
              "      <td>0</td>\n",
              "      <td>0</td>\n",
              "      <td>0</td>\n",
              "      <td>0</td>\n",
              "      <td>0</td>\n",
              "      <td>0</td>\n",
              "      <td>0</td>\n",
              "      <td>1</td>\n",
              "      <td>1</td>\n",
              "      <td>1</td>\n",
              "      <td>1</td>\n",
              "      <td>1</td>\n",
              "      <td>1</td>\n",
              "      <td>1</td>\n",
              "    </tr>\n",
              "    <tr>\n",
              "      <th>1</th>\n",
              "      <td>23</td>\n",
              "      <td>0</td>\n",
              "      <td>0</td>\n",
              "      <td>0</td>\n",
              "      <td>0</td>\n",
              "      <td>0</td>\n",
              "      <td>0</td>\n",
              "      <td>0</td>\n",
              "      <td>0</td>\n",
              "      <td>0</td>\n",
              "      <td>0</td>\n",
              "      <td>0</td>\n",
              "      <td>0</td>\n",
              "      <td>0</td>\n",
              "      <td>0</td>\n",
              "      <td>1</td>\n",
              "      <td>1</td>\n",
              "      <td>1</td>\n",
              "      <td>0</td>\n",
              "      <td>0</td>\n",
              "      <td>4</td>\n",
              "      <td>1</td>\n",
              "    </tr>\n",
              "    <tr>\n",
              "      <th>2</th>\n",
              "      <td>46</td>\n",
              "      <td>0</td>\n",
              "      <td>0</td>\n",
              "      <td>0</td>\n",
              "      <td>0</td>\n",
              "      <td>0</td>\n",
              "      <td>0</td>\n",
              "      <td>0</td>\n",
              "      <td>0</td>\n",
              "      <td>0</td>\n",
              "      <td>0</td>\n",
              "      <td>0</td>\n",
              "      <td>0</td>\n",
              "      <td>0</td>\n",
              "      <td>0</td>\n",
              "      <td>1</td>\n",
              "      <td>0</td>\n",
              "      <td>1</td>\n",
              "      <td>1</td>\n",
              "      <td>1</td>\n",
              "      <td>4</td>\n",
              "      <td>1</td>\n",
              "    </tr>\n",
              "    <tr>\n",
              "      <th>3</th>\n",
              "      <td>70</td>\n",
              "      <td>1</td>\n",
              "      <td>0</td>\n",
              "      <td>0</td>\n",
              "      <td>0</td>\n",
              "      <td>0</td>\n",
              "      <td>0</td>\n",
              "      <td>0</td>\n",
              "      <td>0</td>\n",
              "      <td>0</td>\n",
              "      <td>0</td>\n",
              "      <td>0</td>\n",
              "      <td>0</td>\n",
              "      <td>0</td>\n",
              "      <td>0</td>\n",
              "      <td>1</td>\n",
              "      <td>1</td>\n",
              "      <td>1</td>\n",
              "      <td>0</td>\n",
              "      <td>0</td>\n",
              "      <td>4</td>\n",
              "      <td>1</td>\n",
              "    </tr>\n",
              "    <tr>\n",
              "      <th>4</th>\n",
              "      <td>70</td>\n",
              "      <td>0</td>\n",
              "      <td>0</td>\n",
              "      <td>0</td>\n",
              "      <td>0</td>\n",
              "      <td>0</td>\n",
              "      <td>0</td>\n",
              "      <td>0</td>\n",
              "      <td>0</td>\n",
              "      <td>0</td>\n",
              "      <td>0</td>\n",
              "      <td>0</td>\n",
              "      <td>0</td>\n",
              "      <td>0</td>\n",
              "      <td>0</td>\n",
              "      <td>1</td>\n",
              "      <td>1</td>\n",
              "      <td>1</td>\n",
              "      <td>1</td>\n",
              "      <td>1</td>\n",
              "      <td>3</td>\n",
              "      <td>1</td>\n",
              "    </tr>\n",
              "  </tbody>\n",
              "</table>\n",
              "</div>"
            ],
            "text/plain": [
              "   age  on_thyroxine  query_on_thyroxine  on_antithyroid_medication  sick  \\\n",
              "0   41             0                   0                          0     0   \n",
              "1   23             0                   0                          0     0   \n",
              "2   46             0                   0                          0     0   \n",
              "3   70             1                   0                          0     0   \n",
              "4   70             0                   0                          0     0   \n",
              "\n",
              "   pregnant  thyroid_surgery  I131_treatment  query_hypothyroid  \\\n",
              "0         0                0               0                  0   \n",
              "1         0                0               0                  0   \n",
              "2         0                0               0                  0   \n",
              "3         0                0               0                  0   \n",
              "4         0                0               0                  0   \n",
              "\n",
              "   query_hyperthyroid  lithium  goitre  tumor  hypopituitary  psych  \\\n",
              "0                   0        0       0      0              0      0   \n",
              "1                   0        0       0      0              0      0   \n",
              "2                   0        0       0      0              0      0   \n",
              "3                   0        0       0      0              0      0   \n",
              "4                   0        0       0      0              0      0   \n",
              "\n",
              "   TSH_measured  T3_measured  TT4_measured  T4U_measured  FTI_measured  \\\n",
              "0             1            1             1             1             1   \n",
              "1             1            1             1             0             0   \n",
              "2             1            0             1             1             1   \n",
              "3             1            1             1             0             0   \n",
              "4             1            1             1             1             1   \n",
              "\n",
              "   referral_source  Class  \n",
              "0                1      1  \n",
              "1                4      1  \n",
              "2                4      1  \n",
              "3                4      1  \n",
              "4                3      1  "
            ]
          },
          "metadata": {},
          "execution_count": 40
        }
      ]
    },
    {
      "cell_type": "code",
      "metadata": {
        "colab": {
          "base_uri": "https://localhost:8080/",
          "height": 443
        },
        "id": "5551ac14",
        "outputId": "023093ee-1bdb-48f9-f6c1-951737a78eb5"
      },
      "source": [
        "df2.iloc[:,1:20].astype(int)"
      ],
      "id": "5551ac14",
      "execution_count": null,
      "outputs": [
        {
          "output_type": "execute_result",
          "data": {
            "text/html": [
              "<div>\n",
              "<style scoped>\n",
              "    .dataframe tbody tr th:only-of-type {\n",
              "        vertical-align: middle;\n",
              "    }\n",
              "\n",
              "    .dataframe tbody tr th {\n",
              "        vertical-align: top;\n",
              "    }\n",
              "\n",
              "    .dataframe thead th {\n",
              "        text-align: right;\n",
              "    }\n",
              "</style>\n",
              "<table border=\"1\" class=\"dataframe\">\n",
              "  <thead>\n",
              "    <tr style=\"text-align: right;\">\n",
              "      <th></th>\n",
              "      <th>on_thyroxine</th>\n",
              "      <th>query_on_thyroxine</th>\n",
              "      <th>on_antithyroid_medication</th>\n",
              "      <th>sick</th>\n",
              "      <th>pregnant</th>\n",
              "      <th>thyroid_surgery</th>\n",
              "      <th>I131_treatment</th>\n",
              "      <th>query_hypothyroid</th>\n",
              "      <th>query_hyperthyroid</th>\n",
              "      <th>lithium</th>\n",
              "      <th>goitre</th>\n",
              "      <th>tumor</th>\n",
              "      <th>hypopituitary</th>\n",
              "      <th>psych</th>\n",
              "      <th>TSH_measured</th>\n",
              "      <th>T3_measured</th>\n",
              "      <th>TT4_measured</th>\n",
              "      <th>T4U_measured</th>\n",
              "      <th>FTI_measured</th>\n",
              "    </tr>\n",
              "  </thead>\n",
              "  <tbody>\n",
              "    <tr>\n",
              "      <th>0</th>\n",
              "      <td>0</td>\n",
              "      <td>0</td>\n",
              "      <td>0</td>\n",
              "      <td>0</td>\n",
              "      <td>0</td>\n",
              "      <td>0</td>\n",
              "      <td>0</td>\n",
              "      <td>0</td>\n",
              "      <td>0</td>\n",
              "      <td>0</td>\n",
              "      <td>0</td>\n",
              "      <td>0</td>\n",
              "      <td>0</td>\n",
              "      <td>0</td>\n",
              "      <td>1</td>\n",
              "      <td>1</td>\n",
              "      <td>1</td>\n",
              "      <td>1</td>\n",
              "      <td>1</td>\n",
              "    </tr>\n",
              "    <tr>\n",
              "      <th>1</th>\n",
              "      <td>0</td>\n",
              "      <td>0</td>\n",
              "      <td>0</td>\n",
              "      <td>0</td>\n",
              "      <td>0</td>\n",
              "      <td>0</td>\n",
              "      <td>0</td>\n",
              "      <td>0</td>\n",
              "      <td>0</td>\n",
              "      <td>0</td>\n",
              "      <td>0</td>\n",
              "      <td>0</td>\n",
              "      <td>0</td>\n",
              "      <td>0</td>\n",
              "      <td>1</td>\n",
              "      <td>1</td>\n",
              "      <td>1</td>\n",
              "      <td>0</td>\n",
              "      <td>0</td>\n",
              "    </tr>\n",
              "    <tr>\n",
              "      <th>2</th>\n",
              "      <td>0</td>\n",
              "      <td>0</td>\n",
              "      <td>0</td>\n",
              "      <td>0</td>\n",
              "      <td>0</td>\n",
              "      <td>0</td>\n",
              "      <td>0</td>\n",
              "      <td>0</td>\n",
              "      <td>0</td>\n",
              "      <td>0</td>\n",
              "      <td>0</td>\n",
              "      <td>0</td>\n",
              "      <td>0</td>\n",
              "      <td>0</td>\n",
              "      <td>1</td>\n",
              "      <td>0</td>\n",
              "      <td>1</td>\n",
              "      <td>1</td>\n",
              "      <td>1</td>\n",
              "    </tr>\n",
              "    <tr>\n",
              "      <th>3</th>\n",
              "      <td>1</td>\n",
              "      <td>0</td>\n",
              "      <td>0</td>\n",
              "      <td>0</td>\n",
              "      <td>0</td>\n",
              "      <td>0</td>\n",
              "      <td>0</td>\n",
              "      <td>0</td>\n",
              "      <td>0</td>\n",
              "      <td>0</td>\n",
              "      <td>0</td>\n",
              "      <td>0</td>\n",
              "      <td>0</td>\n",
              "      <td>0</td>\n",
              "      <td>1</td>\n",
              "      <td>1</td>\n",
              "      <td>1</td>\n",
              "      <td>0</td>\n",
              "      <td>0</td>\n",
              "    </tr>\n",
              "    <tr>\n",
              "      <th>4</th>\n",
              "      <td>0</td>\n",
              "      <td>0</td>\n",
              "      <td>0</td>\n",
              "      <td>0</td>\n",
              "      <td>0</td>\n",
              "      <td>0</td>\n",
              "      <td>0</td>\n",
              "      <td>0</td>\n",
              "      <td>0</td>\n",
              "      <td>0</td>\n",
              "      <td>0</td>\n",
              "      <td>0</td>\n",
              "      <td>0</td>\n",
              "      <td>0</td>\n",
              "      <td>1</td>\n",
              "      <td>1</td>\n",
              "      <td>1</td>\n",
              "      <td>1</td>\n",
              "      <td>1</td>\n",
              "    </tr>\n",
              "    <tr>\n",
              "      <th>...</th>\n",
              "      <td>...</td>\n",
              "      <td>...</td>\n",
              "      <td>...</td>\n",
              "      <td>...</td>\n",
              "      <td>...</td>\n",
              "      <td>...</td>\n",
              "      <td>...</td>\n",
              "      <td>...</td>\n",
              "      <td>...</td>\n",
              "      <td>...</td>\n",
              "      <td>...</td>\n",
              "      <td>...</td>\n",
              "      <td>...</td>\n",
              "      <td>...</td>\n",
              "      <td>...</td>\n",
              "      <td>...</td>\n",
              "      <td>...</td>\n",
              "      <td>...</td>\n",
              "      <td>...</td>\n",
              "    </tr>\n",
              "    <tr>\n",
              "      <th>3767</th>\n",
              "      <td>0</td>\n",
              "      <td>0</td>\n",
              "      <td>0</td>\n",
              "      <td>0</td>\n",
              "      <td>0</td>\n",
              "      <td>0</td>\n",
              "      <td>0</td>\n",
              "      <td>0</td>\n",
              "      <td>0</td>\n",
              "      <td>0</td>\n",
              "      <td>0</td>\n",
              "      <td>1</td>\n",
              "      <td>0</td>\n",
              "      <td>0</td>\n",
              "      <td>0</td>\n",
              "      <td>0</td>\n",
              "      <td>0</td>\n",
              "      <td>0</td>\n",
              "      <td>0</td>\n",
              "    </tr>\n",
              "    <tr>\n",
              "      <th>3768</th>\n",
              "      <td>0</td>\n",
              "      <td>0</td>\n",
              "      <td>0</td>\n",
              "      <td>0</td>\n",
              "      <td>0</td>\n",
              "      <td>0</td>\n",
              "      <td>0</td>\n",
              "      <td>0</td>\n",
              "      <td>0</td>\n",
              "      <td>0</td>\n",
              "      <td>0</td>\n",
              "      <td>0</td>\n",
              "      <td>0</td>\n",
              "      <td>0</td>\n",
              "      <td>1</td>\n",
              "      <td>1</td>\n",
              "      <td>1</td>\n",
              "      <td>1</td>\n",
              "      <td>1</td>\n",
              "    </tr>\n",
              "    <tr>\n",
              "      <th>3769</th>\n",
              "      <td>0</td>\n",
              "      <td>0</td>\n",
              "      <td>0</td>\n",
              "      <td>0</td>\n",
              "      <td>0</td>\n",
              "      <td>0</td>\n",
              "      <td>0</td>\n",
              "      <td>0</td>\n",
              "      <td>1</td>\n",
              "      <td>0</td>\n",
              "      <td>0</td>\n",
              "      <td>0</td>\n",
              "      <td>0</td>\n",
              "      <td>0</td>\n",
              "      <td>1</td>\n",
              "      <td>1</td>\n",
              "      <td>1</td>\n",
              "      <td>1</td>\n",
              "      <td>1</td>\n",
              "    </tr>\n",
              "    <tr>\n",
              "      <th>3770</th>\n",
              "      <td>0</td>\n",
              "      <td>0</td>\n",
              "      <td>0</td>\n",
              "      <td>0</td>\n",
              "      <td>0</td>\n",
              "      <td>0</td>\n",
              "      <td>0</td>\n",
              "      <td>0</td>\n",
              "      <td>0</td>\n",
              "      <td>0</td>\n",
              "      <td>0</td>\n",
              "      <td>0</td>\n",
              "      <td>0</td>\n",
              "      <td>0</td>\n",
              "      <td>1</td>\n",
              "      <td>1</td>\n",
              "      <td>1</td>\n",
              "      <td>1</td>\n",
              "      <td>1</td>\n",
              "    </tr>\n",
              "    <tr>\n",
              "      <th>3771</th>\n",
              "      <td>0</td>\n",
              "      <td>0</td>\n",
              "      <td>0</td>\n",
              "      <td>0</td>\n",
              "      <td>0</td>\n",
              "      <td>0</td>\n",
              "      <td>0</td>\n",
              "      <td>0</td>\n",
              "      <td>0</td>\n",
              "      <td>0</td>\n",
              "      <td>0</td>\n",
              "      <td>0</td>\n",
              "      <td>0</td>\n",
              "      <td>0</td>\n",
              "      <td>1</td>\n",
              "      <td>1</td>\n",
              "      <td>1</td>\n",
              "      <td>1</td>\n",
              "      <td>1</td>\n",
              "    </tr>\n",
              "  </tbody>\n",
              "</table>\n",
              "<p>3707 rows × 19 columns</p>\n",
              "</div>"
            ],
            "text/plain": [
              "      on_thyroxine  query_on_thyroxine  on_antithyroid_medication  sick  \\\n",
              "0                0                   0                          0     0   \n",
              "1                0                   0                          0     0   \n",
              "2                0                   0                          0     0   \n",
              "3                1                   0                          0     0   \n",
              "4                0                   0                          0     0   \n",
              "...            ...                 ...                        ...   ...   \n",
              "3767             0                   0                          0     0   \n",
              "3768             0                   0                          0     0   \n",
              "3769             0                   0                          0     0   \n",
              "3770             0                   0                          0     0   \n",
              "3771             0                   0                          0     0   \n",
              "\n",
              "      pregnant  thyroid_surgery  I131_treatment  query_hypothyroid  \\\n",
              "0            0                0               0                  0   \n",
              "1            0                0               0                  0   \n",
              "2            0                0               0                  0   \n",
              "3            0                0               0                  0   \n",
              "4            0                0               0                  0   \n",
              "...        ...              ...             ...                ...   \n",
              "3767         0                0               0                  0   \n",
              "3768         0                0               0                  0   \n",
              "3769         0                0               0                  0   \n",
              "3770         0                0               0                  0   \n",
              "3771         0                0               0                  0   \n",
              "\n",
              "      query_hyperthyroid  lithium  goitre  tumor  hypopituitary  psych  \\\n",
              "0                      0        0       0      0              0      0   \n",
              "1                      0        0       0      0              0      0   \n",
              "2                      0        0       0      0              0      0   \n",
              "3                      0        0       0      0              0      0   \n",
              "4                      0        0       0      0              0      0   \n",
              "...                  ...      ...     ...    ...            ...    ...   \n",
              "3767                   0        0       0      1              0      0   \n",
              "3768                   0        0       0      0              0      0   \n",
              "3769                   1        0       0      0              0      0   \n",
              "3770                   0        0       0      0              0      0   \n",
              "3771                   0        0       0      0              0      0   \n",
              "\n",
              "      TSH_measured  T3_measured  TT4_measured  T4U_measured  FTI_measured  \n",
              "0                1            1             1             1             1  \n",
              "1                1            1             1             0             0  \n",
              "2                1            0             1             1             1  \n",
              "3                1            1             1             0             0  \n",
              "4                1            1             1             1             1  \n",
              "...            ...          ...           ...           ...           ...  \n",
              "3767             0            0             0             0             0  \n",
              "3768             1            1             1             1             1  \n",
              "3769             1            1             1             1             1  \n",
              "3770             1            1             1             1             1  \n",
              "3771             1            1             1             1             1  \n",
              "\n",
              "[3707 rows x 19 columns]"
            ]
          },
          "metadata": {},
          "execution_count": 41
        }
      ]
    },
    {
      "cell_type": "code",
      "metadata": {
        "colab": {
          "base_uri": "https://localhost:8080/"
        },
        "id": "0088f6d8",
        "outputId": "506b03d2-abe3-4a34-f703-10a30f7fd1f0"
      },
      "source": [
        "df2.info()"
      ],
      "id": "0088f6d8",
      "execution_count": null,
      "outputs": [
        {
          "output_type": "stream",
          "name": "stdout",
          "text": [
            "<class 'pandas.core.frame.DataFrame'>\n",
            "Int64Index: 3707 entries, 0 to 3771\n",
            "Data columns (total 22 columns):\n",
            " #   Column                     Non-Null Count  Dtype\n",
            "---  ------                     --------------  -----\n",
            " 0   age                        3707 non-null   int64\n",
            " 1   on_thyroxine               3707 non-null   int64\n",
            " 2   query_on_thyroxine         3707 non-null   int64\n",
            " 3   on_antithyroid_medication  3707 non-null   int64\n",
            " 4   sick                       3707 non-null   int64\n",
            " 5   pregnant                   3707 non-null   int64\n",
            " 6   thyroid_surgery            3707 non-null   int64\n",
            " 7   I131_treatment             3707 non-null   int64\n",
            " 8   query_hypothyroid          3707 non-null   int64\n",
            " 9   query_hyperthyroid         3707 non-null   int64\n",
            " 10  lithium                    3707 non-null   int64\n",
            " 11  goitre                     3707 non-null   int64\n",
            " 12  tumor                      3707 non-null   int64\n",
            " 13  hypopituitary              3707 non-null   int64\n",
            " 14  psych                      3707 non-null   int64\n",
            " 15  TSH_measured               3707 non-null   int64\n",
            " 16  T3_measured                3707 non-null   int64\n",
            " 17  TT4_measured               3707 non-null   int64\n",
            " 18  T4U_measured               3707 non-null   int64\n",
            " 19  FTI_measured               3707 non-null   int64\n",
            " 20  referral_source            3707 non-null   int64\n",
            " 21  Class                      3707 non-null   int64\n",
            "dtypes: int64(22)\n",
            "memory usage: 666.1 KB\n"
          ]
        }
      ]
    },
    {
      "cell_type": "markdown",
      "metadata": {
        "id": "3a415a25"
      },
      "source": [
        "---"
      ],
      "id": "3a415a25"
    },
    {
      "cell_type": "markdown",
      "metadata": {
        "id": "70fcb532"
      },
      "source": [
        "## Train & Test set split"
      ],
      "id": "70fcb532"
    },
    {
      "cell_type": "code",
      "metadata": {
        "id": "22de175d"
      },
      "source": [
        "#splitting the data to X - observation groups and Y - targeted output\n",
        "X = df2.drop(columns=[\"Class\"])\n",
        "y = df2[\"Class\"]"
      ],
      "id": "22de175d",
      "execution_count": null,
      "outputs": []
    },
    {
      "cell_type": "code",
      "metadata": {
        "colab": {
          "base_uri": "https://localhost:8080/"
        },
        "id": "d7e31072",
        "outputId": "a924e255-15ca-4d34-e851-736136cd4816"
      },
      "source": [
        "print(X.shape, y.shape)"
      ],
      "id": "d7e31072",
      "execution_count": null,
      "outputs": [
        {
          "output_type": "stream",
          "name": "stdout",
          "text": [
            "(3707, 21) (3707,)\n"
          ]
        }
      ]
    },
    {
      "cell_type": "code",
      "metadata": {
        "colab": {
          "base_uri": "https://localhost:8080/"
        },
        "id": "e9804535",
        "outputId": "8e51956b-3458-4794-d8d6-002e3145b260"
      },
      "source": [
        "#Splitting into train and test set with also using stratify making sure in y sets have even group of the Class\n",
        "X_train, X_test, y_train, y_test = train_test_split(X, y, test_size=0.3, stratify=y, random_state=111, shuffle=True)\n",
        "print(X_train.shape, y_train.shape)\n",
        "print(X_test.shape, y_test.shape)"
      ],
      "id": "e9804535",
      "execution_count": null,
      "outputs": [
        {
          "output_type": "stream",
          "name": "stdout",
          "text": [
            "(2594, 21) (2594,)\n",
            "(1113, 21) (1113,)\n"
          ]
        }
      ]
    },
    {
      "cell_type": "code",
      "metadata": {
        "colab": {
          "base_uri": "https://localhost:8080/",
          "height": 226
        },
        "id": "788a367c",
        "outputId": "6dde6b6d-302e-41a5-abbf-abf9212d14a2"
      },
      "source": [
        "X_train.head()"
      ],
      "id": "788a367c",
      "execution_count": null,
      "outputs": [
        {
          "output_type": "execute_result",
          "data": {
            "text/html": [
              "<div>\n",
              "<style scoped>\n",
              "    .dataframe tbody tr th:only-of-type {\n",
              "        vertical-align: middle;\n",
              "    }\n",
              "\n",
              "    .dataframe tbody tr th {\n",
              "        vertical-align: top;\n",
              "    }\n",
              "\n",
              "    .dataframe thead th {\n",
              "        text-align: right;\n",
              "    }\n",
              "</style>\n",
              "<table border=\"1\" class=\"dataframe\">\n",
              "  <thead>\n",
              "    <tr style=\"text-align: right;\">\n",
              "      <th></th>\n",
              "      <th>age</th>\n",
              "      <th>on_thyroxine</th>\n",
              "      <th>query_on_thyroxine</th>\n",
              "      <th>on_antithyroid_medication</th>\n",
              "      <th>sick</th>\n",
              "      <th>pregnant</th>\n",
              "      <th>thyroid_surgery</th>\n",
              "      <th>I131_treatment</th>\n",
              "      <th>query_hypothyroid</th>\n",
              "      <th>query_hyperthyroid</th>\n",
              "      <th>lithium</th>\n",
              "      <th>goitre</th>\n",
              "      <th>tumor</th>\n",
              "      <th>hypopituitary</th>\n",
              "      <th>psych</th>\n",
              "      <th>TSH_measured</th>\n",
              "      <th>T3_measured</th>\n",
              "      <th>TT4_measured</th>\n",
              "      <th>T4U_measured</th>\n",
              "      <th>FTI_measured</th>\n",
              "      <th>referral_source</th>\n",
              "    </tr>\n",
              "  </thead>\n",
              "  <tbody>\n",
              "    <tr>\n",
              "      <th>2063</th>\n",
              "      <td>55</td>\n",
              "      <td>0</td>\n",
              "      <td>0</td>\n",
              "      <td>0</td>\n",
              "      <td>0</td>\n",
              "      <td>0</td>\n",
              "      <td>0</td>\n",
              "      <td>0</td>\n",
              "      <td>0</td>\n",
              "      <td>0</td>\n",
              "      <td>0</td>\n",
              "      <td>0</td>\n",
              "      <td>0</td>\n",
              "      <td>0</td>\n",
              "      <td>0</td>\n",
              "      <td>1</td>\n",
              "      <td>1</td>\n",
              "      <td>1</td>\n",
              "      <td>1</td>\n",
              "      <td>1</td>\n",
              "      <td>4</td>\n",
              "    </tr>\n",
              "    <tr>\n",
              "      <th>1322</th>\n",
              "      <td>40</td>\n",
              "      <td>0</td>\n",
              "      <td>0</td>\n",
              "      <td>0</td>\n",
              "      <td>0</td>\n",
              "      <td>0</td>\n",
              "      <td>0</td>\n",
              "      <td>0</td>\n",
              "      <td>0</td>\n",
              "      <td>0</td>\n",
              "      <td>0</td>\n",
              "      <td>0</td>\n",
              "      <td>0</td>\n",
              "      <td>0</td>\n",
              "      <td>0</td>\n",
              "      <td>1</td>\n",
              "      <td>1</td>\n",
              "      <td>1</td>\n",
              "      <td>1</td>\n",
              "      <td>1</td>\n",
              "      <td>1</td>\n",
              "    </tr>\n",
              "    <tr>\n",
              "      <th>3250</th>\n",
              "      <td>19</td>\n",
              "      <td>1</td>\n",
              "      <td>0</td>\n",
              "      <td>0</td>\n",
              "      <td>0</td>\n",
              "      <td>0</td>\n",
              "      <td>0</td>\n",
              "      <td>0</td>\n",
              "      <td>0</td>\n",
              "      <td>0</td>\n",
              "      <td>0</td>\n",
              "      <td>0</td>\n",
              "      <td>0</td>\n",
              "      <td>0</td>\n",
              "      <td>0</td>\n",
              "      <td>1</td>\n",
              "      <td>1</td>\n",
              "      <td>1</td>\n",
              "      <td>1</td>\n",
              "      <td>1</td>\n",
              "      <td>4</td>\n",
              "    </tr>\n",
              "    <tr>\n",
              "      <th>2344</th>\n",
              "      <td>65</td>\n",
              "      <td>0</td>\n",
              "      <td>0</td>\n",
              "      <td>0</td>\n",
              "      <td>0</td>\n",
              "      <td>0</td>\n",
              "      <td>0</td>\n",
              "      <td>0</td>\n",
              "      <td>0</td>\n",
              "      <td>0</td>\n",
              "      <td>0</td>\n",
              "      <td>0</td>\n",
              "      <td>0</td>\n",
              "      <td>0</td>\n",
              "      <td>0</td>\n",
              "      <td>1</td>\n",
              "      <td>1</td>\n",
              "      <td>1</td>\n",
              "      <td>1</td>\n",
              "      <td>1</td>\n",
              "      <td>3</td>\n",
              "    </tr>\n",
              "    <tr>\n",
              "      <th>195</th>\n",
              "      <td>45</td>\n",
              "      <td>0</td>\n",
              "      <td>0</td>\n",
              "      <td>0</td>\n",
              "      <td>0</td>\n",
              "      <td>0</td>\n",
              "      <td>0</td>\n",
              "      <td>0</td>\n",
              "      <td>0</td>\n",
              "      <td>0</td>\n",
              "      <td>0</td>\n",
              "      <td>0</td>\n",
              "      <td>0</td>\n",
              "      <td>0</td>\n",
              "      <td>1</td>\n",
              "      <td>1</td>\n",
              "      <td>1</td>\n",
              "      <td>1</td>\n",
              "      <td>1</td>\n",
              "      <td>1</td>\n",
              "      <td>4</td>\n",
              "    </tr>\n",
              "  </tbody>\n",
              "</table>\n",
              "</div>"
            ],
            "text/plain": [
              "      age  on_thyroxine  query_on_thyroxine  on_antithyroid_medication  sick  \\\n",
              "2063   55             0                   0                          0     0   \n",
              "1322   40             0                   0                          0     0   \n",
              "3250   19             1                   0                          0     0   \n",
              "2344   65             0                   0                          0     0   \n",
              "195    45             0                   0                          0     0   \n",
              "\n",
              "      pregnant  thyroid_surgery  I131_treatment  query_hypothyroid  \\\n",
              "2063         0                0               0                  0   \n",
              "1322         0                0               0                  0   \n",
              "3250         0                0               0                  0   \n",
              "2344         0                0               0                  0   \n",
              "195          0                0               0                  0   \n",
              "\n",
              "      query_hyperthyroid  lithium  goitre  tumor  hypopituitary  psych  \\\n",
              "2063                   0        0       0      0              0      0   \n",
              "1322                   0        0       0      0              0      0   \n",
              "3250                   0        0       0      0              0      0   \n",
              "2344                   0        0       0      0              0      0   \n",
              "195                    0        0       0      0              0      1   \n",
              "\n",
              "      TSH_measured  T3_measured  TT4_measured  T4U_measured  FTI_measured  \\\n",
              "2063             1            1             1             1             1   \n",
              "1322             1            1             1             1             1   \n",
              "3250             1            1             1             1             1   \n",
              "2344             1            1             1             1             1   \n",
              "195              1            1             1             1             1   \n",
              "\n",
              "      referral_source  \n",
              "2063                4  \n",
              "1322                1  \n",
              "3250                4  \n",
              "2344                3  \n",
              "195                 4  "
            ]
          },
          "metadata": {},
          "execution_count": 46
        }
      ]
    },
    {
      "cell_type": "code",
      "metadata": {
        "colab": {
          "base_uri": "https://localhost:8080/"
        },
        "id": "04b9372b",
        "outputId": "37fe9948-27be-44cd-c8c5-503bdc99597c"
      },
      "source": [
        "y_train.value_counts()"
      ],
      "id": "04b9372b",
      "execution_count": null,
      "outputs": [
        {
          "output_type": "execute_result",
          "data": {
            "text/plain": [
              "1    2392\n",
              "0     136\n",
              "2      66\n",
              "Name: Class, dtype: int64"
            ]
          },
          "metadata": {},
          "execution_count": 47
        }
      ]
    },
    {
      "cell_type": "code",
      "metadata": {
        "colab": {
          "base_uri": "https://localhost:8080/"
        },
        "id": "f045ff4a",
        "outputId": "102204d5-4f23-4cb6-94f3-0385d549fc66"
      },
      "source": [
        "y_test.value_counts()"
      ],
      "id": "f045ff4a",
      "execution_count": null,
      "outputs": [
        {
          "output_type": "execute_result",
          "data": {
            "text/plain": [
              "1    1026\n",
              "0      58\n",
              "2      29\n",
              "Name: Class, dtype: int64"
            ]
          },
          "metadata": {},
          "execution_count": 48
        }
      ]
    },
    {
      "cell_type": "markdown",
      "metadata": {
        "id": "c73ba670"
      },
      "source": [
        "### Data Normalization"
      ],
      "id": "c73ba670"
    },
    {
      "cell_type": "code",
      "metadata": {
        "id": "90b23b8d"
      },
      "source": [
        "#Normalization is use after train_test_split in order to prevent data leakage\n",
        "\n",
        "# Normalize the data between 0 to 1\n",
        "scaler = MinMaxScaler()\n",
        "\n",
        "# For X\n",
        "X_train_norm = pd.DataFrame(scaler.fit_transform(X_train), columns=X_train.columns)\n",
        "X_test_norm = pd.DataFrame(scaler.fit_transform(X_test), columns=X_test.columns)"
      ],
      "id": "90b23b8d",
      "execution_count": null,
      "outputs": []
    },
    {
      "cell_type": "markdown",
      "metadata": {
        "id": "1f4cbb1e"
      },
      "source": [
        "---"
      ],
      "id": "1f4cbb1e"
    },
    {
      "cell_type": "markdown",
      "metadata": {
        "id": "681849b3"
      },
      "source": [
        "# Algorithms - Logistic Regression & K-Nearest Neighbours\n",
        "\n",
        "For the Model Building using Logistic Regression with and without Regularization and K-Nearest Neighbors below, the flow is the same as following: <br>\n",
        "\n",
        "1. Setup the classifier\n",
        "2. Preliminary quick evaluation using metrics with averaged Micro & Macro\n",
        "3. As the dataset is **<ins>Imbalanced Classes</ins>** dataset, using the following method to train the dataset to see if prediction improved\n",
        "    - Resampling Techniques — Oversample minority class\n",
        "    - SMOTE (a.k.a Synthetic Minority Oversampling Technique)\n",
        "4. Inspect the algorithms with Confusion Matrix to see each of their performance\n",
        "5. Further evaluate the models with Cross Validation to see the performance if is better or worsen.\n",
        "6. Next inspect the dataset with the algorithms with Hyperparameter Tuning\n",
        "7. Then look into the Features Importance"
      ],
      "id": "681849b3"
    },
    {
      "cell_type": "markdown",
      "metadata": {
        "id": "f5c52086"
      },
      "source": [
        "## Logistic Regression w\\wo regularization"
      ],
      "id": "f5c52086"
    },
    {
      "cell_type": "code",
      "metadata": {
        "id": "6a40c253"
      },
      "source": [
        "#setting up the Logistic Regression classifier\n",
        "logR = LogisticRegression(solver='lbfgs', max_iter=5000, multi_class=\"ovr\") #ovr = One-vs-Rest\n",
        "\n",
        "logR_model = logR.fit(X_train_norm, y_train)\n",
        "logR_predict = logR_model.predict(X_test_norm)"
      ],
      "id": "6a40c253",
      "execution_count": null,
      "outputs": []
    },
    {
      "cell_type": "code",
      "metadata": {
        "colab": {
          "base_uri": "https://localhost:8080/"
        },
        "id": "b767a182",
        "outputId": "95847f37-649b-4873-e843-8fc840c963b7"
      },
      "source": [
        "logR_accuracy_score = logR.score(X_test_norm, y_test)\n",
        "print(\"Accuracy Score for Test dataset= {:.2f}%\".format(logR_accuracy_score*100))"
      ],
      "id": "b767a182",
      "execution_count": null,
      "outputs": [
        {
          "output_type": "stream",
          "name": "stdout",
          "text": [
            "Accuracy Score for Test dataset= 92.18%\n"
          ]
        }
      ]
    },
    {
      "cell_type": "markdown",
      "metadata": {
        "id": "f9234164"
      },
      "source": [
        "Here we got the accuracy score as high as 92%, however keeping in mind that Accuracy is only taking into account of True Positive and True Negative. Since we know this dataset is an imbalanced class/dataset, this could means the accuracy of the model prediction is leaning towards the \"Negative Class\" as the majority class.\n",
        "<br>\n",
        "<br>\n",
        "Negative class/(total number of Class) = 3148/(3148+194+95+2) = approx 0.92\n",
        "<br>\n",
        "<br>\n",
        "There we can see the accuracy is similar to the ratio of Negative class out of all values under \"Class\" column.\n",
        "<br>\n",
        "<br>\n",
        "Let's use other evaluation metrics to further assess the performance of Logistic Regression"
      ],
      "id": "f9234164"
    },
    {
      "cell_type": "markdown",
      "metadata": {
        "id": "55d1a0cc"
      },
      "source": [
        "#### Micro & Macro avaraged evaluation metrics\n",
        "\n",
        "Micro: Each <ins>instances</ins> has equal weights, so larger classes will have more influnce\n",
        "<br>\n",
        "Macro: Each <ins>class</ins> has equal weights\n",
        "<br>\n",
        "Weighted: In case of class imbalances (different number of instances related to different class labels)."
      ],
      "id": "55d1a0cc"
    },
    {
      "cell_type": "code",
      "metadata": {
        "collapsed": true,
        "colab": {
          "base_uri": "https://localhost:8080/"
        },
        "id": "f84e963f",
        "outputId": "b05f0f08-3b5f-46cf-a5f2-18d6e476d1c0"
      },
      "source": [
        "print(\"Micro-averaged Precision = {:.2f}% \".format(precision_score(y_test, logR_predict, average=\"micro\")*100))\n",
        "print(\"Macro-averaged Precision = {:.2f}% \".format(precision_score(y_test, logR_predict, average=\"macro\")*100))\n",
        "print(\"Weighted Macro-averaged Precision = {:.2f}% \".format(precision_score(y_test, logR_predict, average=\"weighted\")*100))"
      ],
      "id": "f84e963f",
      "execution_count": null,
      "outputs": [
        {
          "output_type": "stream",
          "name": "stdout",
          "text": [
            "Micro-averaged Precision = 92.18% \n",
            "Macro-averaged Precision = 30.73% \n",
            "Weighted Macro-averaged Precision = 84.98% \n"
          ]
        },
        {
          "output_type": "stream",
          "name": "stderr",
          "text": [
            "/usr/local/lib/python3.7/dist-packages/sklearn/metrics/_classification.py:1308: UndefinedMetricWarning: Precision is ill-defined and being set to 0.0 in labels with no predicted samples. Use `zero_division` parameter to control this behavior.\n",
            "  _warn_prf(average, modifier, msg_start, len(result))\n",
            "/usr/local/lib/python3.7/dist-packages/sklearn/metrics/_classification.py:1308: UndefinedMetricWarning: Precision is ill-defined and being set to 0.0 in labels with no predicted samples. Use `zero_division` parameter to control this behavior.\n",
            "  _warn_prf(average, modifier, msg_start, len(result))\n"
          ]
        }
      ]
    },
    {
      "cell_type": "code",
      "metadata": {
        "collapsed": true,
        "colab": {
          "base_uri": "https://localhost:8080/"
        },
        "id": "8c3a4293",
        "outputId": "df2f8cda-9c81-4ee6-bb2d-0477cb5a79a9"
      },
      "source": [
        "print(\"Micro-averaged Recall = {:.2f}% \".format(recall_score(y_test, logR_predict, average=\"micro\")*100))\n",
        "print(\"Macro-averaged Recall = {:.2f}% \".format(recall_score(y_test, logR_predict, average=\"macro\")*100))\n",
        "print(\"Weighted Macro-averaged Precision = {:.2f}% \".format(recall_score(y_test, logR_predict, average=\"weighted\")*100))"
      ],
      "id": "8c3a4293",
      "execution_count": null,
      "outputs": [
        {
          "output_type": "stream",
          "name": "stdout",
          "text": [
            "Micro-averaged Recall = 92.18% \n",
            "Macro-averaged Recall = 33.33% \n",
            "Weighted Macro-averaged Precision = 92.18% \n"
          ]
        }
      ]
    },
    {
      "cell_type": "code",
      "metadata": {
        "collapsed": true,
        "colab": {
          "base_uri": "https://localhost:8080/"
        },
        "id": "fea4db20",
        "outputId": "46526345-3b1b-49da-b0b1-4eef27207a34"
      },
      "source": [
        "print(\"Micro-averaged F1 = {:.2f}% \".format(f1_score(y_test, logR_predict, average=\"micro\")*100))\n",
        "print(\"Macro-averaged F1 = {:.2f}% \".format(f1_score(y_test, logR_predict, average=\"macro\")*100))\n",
        "print(\"Weighted Macro-averaged Precision = {:.2f}% \".format(f1_score(y_test, logR_predict, average=\"weighted\")*100))"
      ],
      "id": "fea4db20",
      "execution_count": null,
      "outputs": [
        {
          "output_type": "stream",
          "name": "stdout",
          "text": [
            "Micro-averaged F1 = 92.18% \n",
            "Macro-averaged F1 = 31.98% \n",
            "Weighted Macro-averaged Precision = 88.43% \n"
          ]
        }
      ]
    },
    {
      "cell_type": "markdown",
      "metadata": {
        "id": "ec560c77"
      },
      "source": [
        "As we can see from above on the differences of evaluation metrics - Precision, Recall and F1 Score with average method of Micro, Macro and Weighted. \n",
        "<br>\n",
        "<br>\n",
        "Evaluation of the Dataset averaged with Micro are the same throughout 3 metrics, **Micro average** is basically equal weights of each instances hence in this dataset, the \"Negative Class\" has a high influence. \n",
        "<br>\n",
        "<br>\n",
        "Whereas **Macro average** is quite low score with about 30% regardless which evaluation metrics. This could means aside from the Negative Class, the other 2 existing Class (y set) is having a very low accurate prediction so when Macro averaged that is assess with equal weight of each class, it is more balancing the accuracy of prediction especially when is imbalanced dataset like this case.\n",
        "<br>\n",
        "<br>\n",
        "Weighted averaged on all 3 evaluation metrics are relatively high as between 85% - 92%, because weighted is weighting the score of each class label by the number of true instances when calculating the average. That being said, since Negative Class is the majority class and it will have higher True instances (TP & TN) as compared to 2 other 2 classes. Hence the scoring is still affected largely by the majority class - Negative Class. "
      ],
      "id": "ec560c77"
    },
    {
      "cell_type": "markdown",
      "metadata": {
        "id": "d880b734"
      },
      "source": [
        "#### Resampling Techniques — Oversample minority class"
      ],
      "id": "d880b734"
    },
    {
      "cell_type": "markdown",
      "metadata": {
        "id": "3c54c96b"
      },
      "source": [
        "Next, here we try to use different method to deal with this imbalanced dataset so we can see if this resampling the number of instances and help to improve the prediction assessment with **Logistic Regression**."
      ],
      "id": "3c54c96b"
    },
    {
      "cell_type": "code",
      "metadata": {
        "collapsed": true,
        "colab": {
          "base_uri": "https://localhost:8080/"
        },
        "id": "53dbc6db",
        "outputId": "0b8cd0a1-a593-4711-84df-ab44b9cd4634"
      },
      "source": [
        "#Resample not_Negative class\n",
        "\n",
        "# concatenate our training data back together\n",
        "logR_resample = pd.concat([X_train, y_train], axis=1)\n",
        "\n",
        "# separate minority and majority classes\n",
        "logR_not_negative = logR_resample[logR_resample.Class !=1]\n",
        "logR_negative = logR_resample[logR_resample.Class==1]\n",
        "\n",
        "#Resample not_Negative class\n",
        "\n",
        "# upsample minority\n",
        "logR_minor_upsampled = resample(logR_not_negative,\n",
        "                          replace=True, # sample with replacement\n",
        "                          n_samples=len(logR_negative), # match number in majority class\n",
        "                          random_state=30) # reproducible results\n",
        "\n",
        "# combine majority and upsampled minority\n",
        "logR_upsampled = pd.concat([logR_negative, logR_minor_upsampled])\n",
        "\n",
        "# check new class counts\n",
        "print(\"Logistic Regression Upsampled value counts:\", logR_upsampled.Class.value_counts(), sep='\\n')\n",
        "\n",
        "print(\"\\nUpsampled shape:\", logR_upsampled.shape)\n",
        "print('\\n')\n",
        "\n",
        "\n",
        "\"\"\"\n",
        "Assemble the resampled dataset for Model assess\n",
        "\"\"\"\n",
        "X_resample_train = logR_upsampled.drop('Class', axis=1)\n",
        "y_resample_train = logR_upsampled.Class\n",
        "\n",
        "#Data normalization with MinMaxScaler\n",
        "X_resample_train_norm = pd.DataFrame(scaler.fit_transform(X_resample_train), columns=X_resample_train.columns)\n",
        "X_resample_test_norm = pd.DataFrame(scaler.fit_transform(X_test), columns=X_test.columns)\n",
        "\n",
        "\n",
        "#Logistic Regression Classifier\n",
        "logR_upsampled_clf = LogisticRegression(solver='lbfgs', multi_class='ovr', max_iter=5000)\n",
        "logR_upsampled_model = logR_upsampled_clf.fit(X_resample_train_norm, y_resample_train)\n",
        "logR_upsampled_pred = logR_upsampled_model.predict(X_resample_test_norm)\n",
        "\n",
        "\n",
        "# collections.Counter(y_resample_train)\n",
        "# collections.Counter(logR_upsampled_pred)\n",
        "\n",
        "\n",
        "\"\"\"\n",
        "Evaluation portion\n",
        "\"\"\"\n",
        "\n",
        "print(\"\\u0332\".join(\"Resample Evaluation Metrics with Logistic Regression:\"))\n",
        "# Checking accuracy\n",
        "print(\"Accuracy Score = {:.3f} \".format(accuracy_score(y_test, logR_upsampled_pred)))\n",
        "    \n",
        "#precision score\n",
        "print(\"Precision Score with Macro-averaged evaluation = {:.2f}% \".format(precision_score(y_test, logR_upsampled_pred, average=\"macro\")*100)) \n",
        "    \n",
        "# recall score    \n",
        "print(\"Recall Score with Macro-averaged evaluation = {:.2f}% \".format(recall_score(y_test, logR_upsampled_pred, average=\"macro\")*100))\n",
        "\n",
        "# f1 score\n",
        "print(\"F1 Score with Macro-averaged evaluation = {:.2f}% \".format(f1_score(y_test, logR_upsampled_pred, average=\"macro\")*100))"
      ],
      "id": "53dbc6db",
      "execution_count": null,
      "outputs": [
        {
          "output_type": "stream",
          "name": "stdout",
          "text": [
            "Logistic Regression Upsampled value counts:\n",
            "1    2392\n",
            "0    1610\n",
            "2     782\n",
            "Name: Class, dtype: int64\n",
            "\n",
            "Upsampled shape: (4784, 22)\n",
            "\n",
            "\n",
            "R̲e̲s̲a̲m̲p̲l̲e̲ ̲E̲v̲a̲l̲u̲a̲t̲i̲o̲n̲ ̲M̲e̲t̲r̲i̲c̲s̲ ̲w̲i̲t̲h̲ ̲L̲o̲g̲i̲s̲t̲i̲c̲ ̲R̲e̲g̲r̲e̲s̲s̲i̲o̲n̲:\n",
            "Accuracy Score = 0.762 \n",
            "Precision Score with Macro-averaged evaluation = 34.70% \n",
            "Recall Score with Macro-averaged evaluation = 40.56% \n",
            "F1 Score with Macro-averaged evaluation = 34.35% \n"
          ]
        }
      ]
    },
    {
      "cell_type": "markdown",
      "metadata": {
        "id": "1108435f"
      },
      "source": [
        "With this Resampling method, it does help to increase and balanced better the samples of Class output as you can see from the counts listing.\n",
        "<br>\n",
        "<br>\n",
        "Despite it helps to create a new set with much balanced data for prediction, we can see from the Metrics scoring and further evaluate that Logistic Regression may not be an ideal model to do prediction for this dataset."
      ],
      "id": "1108435f"
    },
    {
      "cell_type": "markdown",
      "metadata": {
        "id": "4c46d7f4"
      },
      "source": [
        "#### SMOTE (a.k.a Synthetic Minority Oversampling Technique)"
      ],
      "id": "4c46d7f4"
    },
    {
      "cell_type": "markdown",
      "metadata": {
        "id": "4f8a0db9"
      },
      "source": [
        "Let's look at SMOTE method for dealing with imbalanced dataset.\n",
        "<br>\n",
        "<br>\n",
        "SMOTE is actually a technique to oversample the minority class. While Resampling is increased minority class with number of instances/samples so it can be much balanced with the majority class values, SMOTE is increase the minority class with the K-Nearest Neighbours concept on finding nearest neighbours, draw a linear line in-between, app;y the ratio to that point and repeat the same until reached a certain number of useful points/samples. It's like a linear combinations of existing samples"
      ],
      "id": "4f8a0db9"
    },
    {
      "cell_type": "code",
      "metadata": {
        "id": "208f689a"
      },
      "source": [
        "sm = SMOTE(random_state=27)\n",
        "X_sm_train, y_sm_train = sm.fit_resample(X_train, y_train)"
      ],
      "id": "208f689a",
      "execution_count": null,
      "outputs": []
    },
    {
      "cell_type": "code",
      "metadata": {
        "colab": {
          "base_uri": "https://localhost:8080/"
        },
        "id": "81dd3273",
        "outputId": "f759a2bf-ee46-4271-e487-75030a7d7b79"
      },
      "source": [
        "logR_smote_clf = LogisticRegression(solver='lbfgs', max_iter=5000, multi_class='ovr')\n",
        "logR_smote_model = logR_smote_clf.fit(X_sm_train, y_sm_train)\n",
        "\n",
        "logR_smote_pred = logR_smote_model.predict(X_test)\n",
        "\n",
        "\"\"\"\n",
        "Evaluation portion\n",
        "\"\"\"\n",
        "\n",
        "print(\"\\u0332\".join(\"SMOTE Evaluation Metrics with Logistic Regression:\"))\n",
        "# Checking accuracy\n",
        "print(\"Accuracy Score = {:.3f} \".format(accuracy_score(y_test, logR_smote_pred)))\n",
        "    \n",
        "#precision score\n",
        "print(\"Precision Score with Macro-averaged evaluation = {:.2f}% \".format(precision_score(y_test, logR_smote_pred, average=\"macro\")*100)) \n",
        "    \n",
        "# recall score    \n",
        "print(\"Recall Score with Macro-averaged evaluation = {:.2f}% \".format(recall_score(y_test, logR_smote_pred, average=\"macro\")*100))\n",
        "\n",
        "# f1 score\n",
        "print(\"F1 Score with Macro-averaged evaluation = {:.2f}% \".format(f1_score(y_test, logR_smote_pred, average=\"macro\")*100))"
      ],
      "id": "81dd3273",
      "execution_count": null,
      "outputs": [
        {
          "output_type": "stream",
          "name": "stdout",
          "text": [
            "S̲M̲O̲T̲E̲ ̲E̲v̲a̲l̲u̲a̲t̲i̲o̲n̲ ̲M̲e̲t̲r̲i̲c̲s̲ ̲w̲i̲t̲h̲ ̲L̲o̲g̲i̲s̲t̲i̲c̲ ̲R̲e̲g̲r̲e̲s̲s̲i̲o̲n̲:\n",
            "Accuracy Score = 0.418 \n",
            "Precision Score with Macro-averaged evaluation = 36.73% \n",
            "Recall Score with Macro-averaged evaluation = 47.72% \n",
            "F1 Score with Macro-averaged evaluation = 27.54% \n"
          ]
        }
      ]
    },
    {
      "cell_type": "markdown",
      "metadata": {
        "id": "8486639e"
      },
      "source": [
        "Unfortunately, this method did not help to improve the evaluation score but further descresed it as compared to the Resampling method. All of the evalution metrics score under SMOTE less than even 50%. This shows that Logistic Regression is still not strong algorithm choise for this dataset."
      ],
      "id": "8486639e"
    },
    {
      "cell_type": "markdown",
      "metadata": {
        "id": "3dc5a7ba"
      },
      "source": [
        "#### Classification Report\n",
        "\n",
        "Here using Classification Report to inspect the evaluation scoring of each method and how well is the prediction of each class"
      ],
      "id": "3dc5a7ba"
    },
    {
      "cell_type": "code",
      "metadata": {
        "colab": {
          "base_uri": "https://localhost:8080/"
        },
        "id": "a7e8c2d6",
        "outputId": "14f2b515-9674-43fc-bf1a-3726f9fb6ac6"
      },
      "source": [
        "print(classification_report(y_test, logR_predict))"
      ],
      "id": "a7e8c2d6",
      "execution_count": null,
      "outputs": [
        {
          "output_type": "stream",
          "name": "stdout",
          "text": [
            "              precision    recall  f1-score   support\n",
            "\n",
            "           0       0.00      0.00      0.00        58\n",
            "           1       0.92      1.00      0.96      1026\n",
            "           2       0.00      0.00      0.00        29\n",
            "\n",
            "    accuracy                           0.92      1113\n",
            "   macro avg       0.31      0.33      0.32      1113\n",
            "weighted avg       0.85      0.92      0.88      1113\n",
            "\n"
          ]
        },
        {
          "output_type": "stream",
          "name": "stderr",
          "text": [
            "/usr/local/lib/python3.7/dist-packages/sklearn/metrics/_classification.py:1308: UndefinedMetricWarning: Precision and F-score are ill-defined and being set to 0.0 in labels with no predicted samples. Use `zero_division` parameter to control this behavior.\n",
            "  _warn_prf(average, modifier, msg_start, len(result))\n",
            "/usr/local/lib/python3.7/dist-packages/sklearn/metrics/_classification.py:1308: UndefinedMetricWarning: Precision and F-score are ill-defined and being set to 0.0 in labels with no predicted samples. Use `zero_division` parameter to control this behavior.\n",
            "  _warn_prf(average, modifier, msg_start, len(result))\n",
            "/usr/local/lib/python3.7/dist-packages/sklearn/metrics/_classification.py:1308: UndefinedMetricWarning: Precision and F-score are ill-defined and being set to 0.0 in labels with no predicted samples. Use `zero_division` parameter to control this behavior.\n",
            "  _warn_prf(average, modifier, msg_start, len(result))\n"
          ]
        }
      ]
    },
    {
      "cell_type": "markdown",
      "metadata": {
        "id": "e6af40f4"
      },
      "source": [
        "We can see from above, normal Logistic Regression before using any improvement method, the prediction is definitely leaning towards the majority class which is the Negative Class."
      ],
      "id": "e6af40f4"
    },
    {
      "cell_type": "code",
      "metadata": {
        "colab": {
          "base_uri": "https://localhost:8080/"
        },
        "id": "2b145fba",
        "outputId": "906b0c5c-a681-498c-deee-760e49f96b71"
      },
      "source": [
        "print(classification_report(y_test, logR_upsampled_pred))"
      ],
      "id": "2b145fba",
      "execution_count": null,
      "outputs": [
        {
          "output_type": "stream",
          "name": "stdout",
          "text": [
            "              precision    recall  f1-score   support\n",
            "\n",
            "           0       0.10      0.41      0.17        58\n",
            "           1       0.94      0.80      0.87      1026\n",
            "           2       0.00      0.00      0.00        29\n",
            "\n",
            "    accuracy                           0.76      1113\n",
            "   macro avg       0.35      0.41      0.34      1113\n",
            "weighted avg       0.87      0.76      0.81      1113\n",
            "\n"
          ]
        }
      ]
    },
    {
      "cell_type": "markdown",
      "metadata": {
        "id": "1bd514e6"
      },
      "source": [
        "After using Resampling method to balanced the dataset, we can see the prediction is slightly better for the class but still it was unable to predict any class 2 which is the most minority class"
      ],
      "id": "1bd514e6"
    },
    {
      "cell_type": "code",
      "metadata": {
        "colab": {
          "base_uri": "https://localhost:8080/"
        },
        "id": "cd853ec5",
        "outputId": "9143ecd2-bb94-42b8-f2ed-e7d860f8de9c"
      },
      "source": [
        "print(classification_report(y_test, logR_smote_pred))"
      ],
      "id": "cd853ec5",
      "execution_count": null,
      "outputs": [
        {
          "output_type": "stream",
          "name": "stdout",
          "text": [
            "              precision    recall  f1-score   support\n",
            "\n",
            "           0       0.12      0.36      0.18        58\n",
            "           1       0.95      0.41      0.58      1026\n",
            "           2       0.04      0.66      0.07        29\n",
            "\n",
            "    accuracy                           0.42      1113\n",
            "   macro avg       0.37      0.48      0.28      1113\n",
            "weighted avg       0.88      0.42      0.54      1113\n",
            "\n"
          ]
        }
      ]
    },
    {
      "cell_type": "markdown",
      "metadata": {
        "id": "35e6e06a"
      },
      "source": [
        "In SMOTE method, there are some prediction successfully for every class but the scoring is not high and accuracy actually dropped. This means with the SMOTE method, it was unable to balance the class accurately but instead it may have created some unnecessary noise to the dataset."
      ],
      "id": "35e6e06a"
    },
    {
      "cell_type": "markdown",
      "metadata": {
        "id": "4d7bff87"
      },
      "source": [
        "#### Confusion Matrix for Logistic Regression\n",
        "\n",
        "Here we use Confusion Matix to see more details and actual numbers of predictions for its True & False of Positive and Negative"
      ],
      "id": "4d7bff87"
    },
    {
      "cell_type": "code",
      "metadata": {
        "colab": {
          "base_uri": "https://localhost:8080/",
          "height": 334
        },
        "id": "dcf2b837",
        "outputId": "dc031736-b452-4c01-a1ee-3d37bb090dd1"
      },
      "source": [
        "# confusion_matrix before upsampled\n",
        "\n",
        "logR_cm = confusion_matrix(y_test, logR_predict)\n",
        "\n",
        "print(logR_cm)\n",
        "\n",
        "sns.heatmap(logR_cm,annot=True, fmt='d')"
      ],
      "id": "dcf2b837",
      "execution_count": null,
      "outputs": [
        {
          "output_type": "stream",
          "name": "stdout",
          "text": [
            "[[   0   58    0]\n",
            " [   0 1026    0]\n",
            " [   0   29    0]]\n"
          ]
        },
        {
          "output_type": "execute_result",
          "data": {
            "text/plain": [
              "<matplotlib.axes._subplots.AxesSubplot at 0x7ff48a42b110>"
            ]
          },
          "metadata": {},
          "execution_count": 61
        },
        {
          "output_type": "display_data",
          "data": {
            "image/png": "[encoded data removed]",
            "text/plain": [
              "<Figure size 432x288 with 2 Axes>"
            ]
          },
          "metadata": {
            "needs_background": "light"
          }
        }
      ]
    },
    {
      "cell_type": "code",
      "metadata": {
        "colab": {
          "base_uri": "https://localhost:8080/",
          "height": 334
        },
        "id": "ef669d8c",
        "outputId": "4dba41d2-437e-4136-ca1b-14fb6d915ba9"
      },
      "source": [
        "# confusion_matrix after upsampled\n",
        "\n",
        "logR_cm_resample = confusion_matrix(y_test, logR_upsampled_pred)\n",
        "\n",
        "print(logR_cm_resample)\n",
        "\n",
        "sns.heatmap(logR_cm_resample,annot=True, fmt='d')"
      ],
      "id": "ef669d8c",
      "execution_count": null,
      "outputs": [
        {
          "output_type": "stream",
          "name": "stdout",
          "text": [
            "[[ 24  34   0]\n",
            " [200 824   2]\n",
            " [  8  21   0]]\n"
          ]
        },
        {
          "output_type": "execute_result",
          "data": {
            "text/plain": [
              "<matplotlib.axes._subplots.AxesSubplot at 0x7ff48a370710>"
            ]
          },
          "metadata": {},
          "execution_count": 62
        },
        {
          "output_type": "display_data",
          "data": {
            "image/png": "[encoded data removed]",
            "text/plain": [
              "<Figure size 432x288 with 2 Axes>"
            ]
          },
          "metadata": {
            "needs_background": "light"
          }
        }
      ]
    },
    {
      "cell_type": "code",
      "metadata": {
        "colab": {
          "base_uri": "https://localhost:8080/",
          "height": 334
        },
        "id": "35b53092",
        "outputId": "65b7b5bc-a16d-42b6-dc63-149155f85359"
      },
      "source": [
        "# confusion_matrix SMOTE\n",
        "\n",
        "logR_cm_smote = confusion_matrix(y_test, logR_smote_pred)\n",
        "\n",
        "print(logR_cm_smote)\n",
        "\n",
        "sns.heatmap(logR_cm_smote,annot=True, fmt='d')"
      ],
      "id": "35b53092",
      "execution_count": null,
      "outputs": [
        {
          "output_type": "stream",
          "name": "stdout",
          "text": [
            "[[ 21  16  21]\n",
            " [158 425 443]\n",
            " [  2   8  19]]\n"
          ]
        },
        {
          "output_type": "execute_result",
          "data": {
            "text/plain": [
              "<matplotlib.axes._subplots.AxesSubplot at 0x7ff48a2c1790>"
            ]
          },
          "metadata": {},
          "execution_count": 63
        },
        {
          "output_type": "display_data",
          "data": {
            "image/png": "[encoded data removed]",
            "text/plain": [
              "<Figure size 432x288 with 2 Axes>"
            ]
          },
          "metadata": {
            "needs_background": "light"
          }
        }
      ]
    },
    {
      "cell_type": "markdown",
      "metadata": {
        "id": "a9d31563"
      },
      "source": [
        "From the Confusion Matrix, we get a clearer picture of how the Logistic Regression performed under Basic, Resampling and SMOTE method on this Imbalanced Dataset. Unfortunately the prediction outcomes aren't satisfying which in result of the evaluation scoring are not as great."
      ],
      "id": "a9d31563"
    },
    {
      "cell_type": "markdown",
      "metadata": {
        "id": "68d754a6"
      },
      "source": [
        "### <ins>Logistic Regression</ins>: Cross-validation\n",
        "Next we run the dataset into Cross-validation using Logistic Regression to get more affirmative under the several folds to see how the prediction evaluation score."
      ],
      "id": "68d754a6"
    },
    {
      "cell_type": "code",
      "metadata": {
        "colab": {
          "base_uri": "https://localhost:8080/"
        },
        "id": "825afbc8",
        "outputId": "7c39ec99-b01e-4c2a-b118-e0ceea15d0a7"
      },
      "source": [
        "#Setting up the K numbers of Fold\n",
        "kf_logR = KFold(n_splits=5, random_state=111, shuffle=True) # Define the split - into 5 folds \n",
        "kf_logR.get_n_splits(X) # returns the number of splitting iterations in the cross-validator\n",
        "print(kf_logR) "
      ],
      "id": "825afbc8",
      "execution_count": null,
      "outputs": [
        {
          "output_type": "stream",
          "name": "stdout",
          "text": [
            "KFold(n_splits=5, random_state=111, shuffle=True)\n"
          ]
        }
      ]
    },
    {
      "cell_type": "code",
      "metadata": {
        "colab": {
          "base_uri": "https://localhost:8080/"
        },
        "id": "b2e713d7",
        "outputId": "0fdb1011-8665-4620-c9ca-7c44bd14e154"
      },
      "source": [
        "# Perform 5-fold cross validation\n",
        "logR_cv_scores = cross_val_score(logR, X_train_norm, y_train, cv=kf_logR)\n",
        "print(\"Logistic Regression Cross validation scores:\", logR_cv_scores, sep='\\n')"
      ],
      "id": "b2e713d7",
      "execution_count": null,
      "outputs": [
        {
          "output_type": "stream",
          "name": "stdout",
          "text": [
            "Logistic Regression Cross validation scores:\n",
            "[0.89210019 0.92100193 0.94026975 0.92870906 0.92857143]\n"
          ]
        }
      ]
    },
    {
      "cell_type": "code",
      "metadata": {
        "colab": {
          "base_uri": "https://localhost:8080/"
        },
        "id": "97d5972b",
        "outputId": "2b790bbf-d05c-493f-861e-775db32df50c"
      },
      "source": [
        "# Perform 5-fold cross validation with Resample set\n",
        "logR_resample_cv_scores = cross_val_score(logR, X_resample_train_norm, y_resample_train, cv=kf_logR)\n",
        "print(\"Logistic Regression Cross validation scores with Resample set:\", logR_resample_cv_scores, sep='\\n')"
      ],
      "id": "97d5972b",
      "execution_count": null,
      "outputs": [
        {
          "output_type": "stream",
          "name": "stdout",
          "text": [
            "Logistic Regression Cross validation scores with Resample set:\n",
            "[0.52142111 0.52978056 0.52664577 0.54127482 0.52405858]\n"
          ]
        }
      ]
    },
    {
      "cell_type": "code",
      "metadata": {
        "colab": {
          "base_uri": "https://localhost:8080/"
        },
        "id": "9882a9c4",
        "outputId": "f23a894d-94b2-4e07-e975-efd456897e0b"
      },
      "source": [
        "# Perform 5-fold cross validation with smote set\n",
        "sm_logR_cv_scores = cross_val_score(logR_smote_clf, X_sm_train, y_sm_train, cv=kf_logR)\n",
        "print(\"Logistic Regression Cross validation scores with SMOTE set:\", sm_logR_cv_scores, sep='\\n')"
      ],
      "id": "9882a9c4",
      "execution_count": null,
      "outputs": [
        {
          "output_type": "stream",
          "name": "stdout",
          "text": [
            "Logistic Regression Cross validation scores with SMOTE set:\n",
            "[0.57729805 0.55679443 0.54006969 0.50592334 0.52473868]\n"
          ]
        }
      ]
    },
    {
      "cell_type": "markdown",
      "metadata": {
        "id": "46a57dc0"
      },
      "source": [
        "On the basic setup of Logistic Regression, even though the scores are relatively high but keep in mind it was due to the influence from Majority Class - \"Negative\" class. \n",
        "<br>\n",
        "<br>\n",
        "Meanwhile, the Cross-validation under the Resampling and SMOTE set we can see the scores are both around 50%+ across all the 5 folds. These aren't terrible score but either they are strong/high score to justify that Logistic Regression is a good algorithm to use for this dataset."
      ],
      "id": "46a57dc0"
    },
    {
      "cell_type": "markdown",
      "metadata": {
        "id": "974d2d04"
      },
      "source": [
        "### <ins>Logistic Regression</ins>: hyperparameters tuning with L2(Regularization) \n",
        "Next we perform Logistic Regression in hyperparameters tuning with Regularization"
      ],
      "id": "974d2d04"
    },
    {
      "cell_type": "code",
      "metadata": {
        "colab": {
          "base_uri": "https://localhost:8080/"
        },
        "id": "b42d1b0a",
        "outputId": "cdb14e50-4bf9-4c9e-8718-f659561e9f08"
      },
      "source": [
        "#using L2 penalty as L1 is more suitable for binary whereas our dataset is multiclass\n",
        "parameters_logR = [{'penalty':['l2'],'C': [0.001, 0.01, 0.1, 1, 10, 100, 1000]}]\n",
        "\n",
        "gridSearch_logR = GridSearchCV(estimator = logR,\n",
        "                               param_grid = parameters_logR,\n",
        "                               scoring = 'accuracy',\n",
        "                               cv = 10,\n",
        "                               n_jobs = -1)\n",
        "\n",
        "gridSearch_logR.fit(X_train_norm, y_train)\n",
        "best_accuracy_logR = gridSearch_logR.best_score_\n",
        "best_parameter_logR = gridSearch_logR.best_params_  \n",
        "\n",
        "# print(\"Best Accuracy of Logistic Regression: {:.2f} %\".format(best_accuracy_logR.mean()*100))\n",
        "# print(\"Best Parameter of Logistic Regression:\", best_paramaeter_logR)\n",
        "\n",
        "\"\"\"\n",
        "Printing results\n",
        "\"\"\"\n",
        "\n",
        "print(\"Best: %f using %s\" % (best_accuracy_logR, best_parameter_logR))\n",
        "logR_means = gridSearch_logR.cv_results_['mean_test_score']\n",
        "logR_stds = gridSearch_logR.cv_results_['std_test_score']\n",
        "logR_params = gridSearch_logR.cv_results_['params']\n",
        "\n",
        "#prints the best result & the results from all combinations evaluated.\n",
        "for mean, stdev, param in zip(logR_means, logR_stds, logR_params):\n",
        "    print(\"%f (%f) with: %r\" % (mean, stdev, param))"
      ],
      "id": "b42d1b0a",
      "execution_count": null,
      "outputs": [
        {
          "output_type": "stream",
          "name": "stdout",
          "text": [
            "Best: 0.922129 using {'C': 0.001, 'penalty': 'l2'}\n",
            "0.922129 (0.001454) with: {'C': 0.001, 'penalty': 'l2'}\n",
            "0.922129 (0.001454) with: {'C': 0.01, 'penalty': 'l2'}\n",
            "0.922129 (0.001454) with: {'C': 0.1, 'penalty': 'l2'}\n",
            "0.922129 (0.001454) with: {'C': 1, 'penalty': 'l2'}\n",
            "0.922129 (0.001454) with: {'C': 10, 'penalty': 'l2'}\n",
            "0.922129 (0.001454) with: {'C': 100, 'penalty': 'l2'}\n",
            "0.922129 (0.001454) with: {'C': 1000, 'penalty': 'l2'}\n"
          ]
        }
      ]
    },
    {
      "cell_type": "code",
      "metadata": {
        "colab": {
          "base_uri": "https://localhost:8080/"
        },
        "id": "410e1b9e",
        "outputId": "15d4438a-f2df-40a7-e282-9d303cb66b47"
      },
      "source": [
        "#GridSearch CV with Logistic Regression of Resample set\n",
        "\n",
        "gridSearch_logR_resample = GridSearchCV(estimator = logR_upsampled_clf,\n",
        "                                       param_grid = parameters_logR,\n",
        "                                       scoring = 'accuracy',\n",
        "                                       cv = 10,                            \n",
        "                                       n_jobs = -1)\n",
        "\n",
        "gridSearch_logR_resample.fit(X_resample_train, y_resample_train)\n",
        "best_accuracy_logR_resample = gridSearch_logR_resample.best_score_\n",
        "best_parameter_logR_resample = gridSearch_logR_resample.best_params_  \n",
        "\n",
        "# print(\"Best Accuracy of Logistic Regression with Resample set: {:.2f} %\".format(best_accuracy_logR_resample.mean()*100))\n",
        "# print(\"Best Parameter of Logistic Regression with Resample set:\", best_paramaeter_logR_resample)\n",
        "\n",
        "\"\"\"\n",
        "Printing results\n",
        "\"\"\"\n",
        "\n",
        "print(\"Best: %f using %s\" % (best_accuracy_logR_resample, best_parameter_logR_resample))\n",
        "logR_means_resample = gridSearch_logR_resample.cv_results_['mean_test_score']\n",
        "logR_stds_resample = gridSearch_logR_resample.cv_results_['std_test_score']\n",
        "logR_params_resample = gridSearch_logR_resample.cv_results_['params']\n",
        "\n",
        "#prints the best result & the results from all combinations evaluated.\n",
        "for mean2, stdev2, param2 in zip(logR_means_resample, logR_stds_resample, logR_params_resample):\n",
        "    print(\"%f (%f) with: %r\" % (mean2, stdev2, param2))"
      ],
      "id": "410e1b9e",
      "execution_count": null,
      "outputs": [
        {
          "output_type": "stream",
          "name": "stdout",
          "text": [
            "Best: 0.534277 using {'C': 0.1, 'penalty': 'l2'}\n",
            "0.500000 (0.000660) with: {'C': 0.001, 'penalty': 'l2'}\n",
            "0.530517 (0.008602) with: {'C': 0.01, 'penalty': 'l2'}\n",
            "0.534277 (0.015391) with: {'C': 0.1, 'penalty': 'l2'}\n",
            "0.529051 (0.018858) with: {'C': 1, 'penalty': 'l2'}\n",
            "0.532814 (0.018772) with: {'C': 10, 'penalty': 'l2'}\n",
            "0.532396 (0.018423) with: {'C': 100, 'penalty': 'l2'}\n",
            "0.533858 (0.017459) with: {'C': 1000, 'penalty': 'l2'}\n"
          ]
        }
      ]
    },
    {
      "cell_type": "code",
      "metadata": {
        "colab": {
          "base_uri": "https://localhost:8080/"
        },
        "id": "6169c25a",
        "outputId": "8cc2f24c-94d6-452a-d4e2-748e9ca3296d"
      },
      "source": [
        "#GridSearch CV with Logistic Regression of SMOTE set\n",
        "\n",
        "gridSearch_logR_smote = GridSearchCV(estimator = logR_smote_clf,\n",
        "                                       param_grid = parameters_logR,\n",
        "                                       scoring = 'accuracy',\n",
        "                                       cv = 10,                            \n",
        "                                       n_jobs = -1)\n",
        "\n",
        "gridSearch_logR_smote.fit(X_sm_train, y_sm_train)\n",
        "best_accuracy_logR_smote = gridSearch_logR_smote.best_score_\n",
        "best_parameter_logR_smote = gridSearch_logR_smote.best_params_  \n",
        "\n",
        "# print(\"Best Accuracy of Logistic Regression with SMOTE set: {:.2f} %\".format(best_accuracy_logR_smote.mean()*100))\n",
        "# print(\"Best Parameter of Logistic Regression with SMOTE set:\", best_paramaeter_logR_smote)\n",
        "\n",
        "\"\"\"\n",
        "Printing results\n",
        "\"\"\"\n",
        "\n",
        "print(\"Best: %f using %s\" % (best_accuracy_logR_smote, best_parameter_logR_smote))\n",
        "logR_means_smote = gridSearch_logR_smote.cv_results_['mean_test_score']\n",
        "logR_stds_smote = gridSearch_logR_smote.cv_results_['std_test_score']\n",
        "logR_params_smote = gridSearch_logR_smote.cv_results_['params']\n",
        "\n",
        "\n",
        "#prints the best result & the results from all combinations evaluated.\n",
        "for mean3, stdev3, param3 in zip(logR_means_smote, logR_stds_smote, logR_params_smote):\n",
        "    print(\"%f (%f) with: %r\" % (mean3, stdev3, param3))"
      ],
      "id": "6169c25a",
      "execution_count": null,
      "outputs": [
        {
          "output_type": "stream",
          "name": "stdout",
          "text": [
            "Best: 0.547522 using {'C': 1, 'penalty': 'l2'}\n",
            "0.432972 (0.020114) with: {'C': 0.001, 'penalty': 'l2'}\n",
            "0.524665 (0.020357) with: {'C': 0.01, 'penalty': 'l2'}\n",
            "0.536371 (0.023277) with: {'C': 0.1, 'penalty': 'l2'}\n",
            "0.547522 (0.017181) with: {'C': 1, 'penalty': 'l2'}\n",
            "0.547243 (0.017989) with: {'C': 10, 'penalty': 'l2'}\n",
            "0.546686 (0.017818) with: {'C': 100, 'penalty': 'l2'}\n",
            "0.547243 (0.018164) with: {'C': 1000, 'penalty': 'l2'}\n"
          ]
        }
      ]
    },
    {
      "cell_type": "markdown",
      "metadata": {
        "id": "17406ec7"
      },
      "source": [
        "With Hyperparameters tuning the results aren't surpisingly different from KFolds in all 3 methods. Despite testing it with different C (Inverse of regularization strength) values, it still shows that Logistic Regression algorithm is not performing greatly for this dataset case."
      ],
      "id": "17406ec7"
    },
    {
      "cell_type": "markdown",
      "metadata": {
        "id": "95e183cb"
      },
      "source": [
        "### <ins>Logistic Regression</ins>: Feature importance\n",
        "Despite Logsitc Regression may not be the best choice of algorithm for this dataset, let's check the outcome of it's Feature Importance under all 3 methods"
      ],
      "id": "95e183cb"
    },
    {
      "cell_type": "code",
      "metadata": {
        "colab": {
          "base_uri": "https://localhost:8080/",
          "height": 298
        },
        "id": "60df4aa7",
        "outputId": "26ed2327-75f0-4ab0-f0f9-3fd060eb5426"
      },
      "source": [
        "logR_importance = logR_model.coef_[0]\n",
        "#importance is a list so you can plot it. \n",
        "logR_feat_importances = pd.Series(logR_importance, index=X_train_norm.columns)\n",
        "\n",
        "\n",
        "logR_feat_importances.nlargest(20).plot(kind='barh',title = 'Feature Importance')"
      ],
      "id": "60df4aa7",
      "execution_count": null,
      "outputs": [
        {
          "output_type": "execute_result",
          "data": {
            "text/plain": [
              "<matplotlib.axes._subplots.AxesSubplot at 0x7ff492c9f950>"
            ]
          },
          "metadata": {},
          "execution_count": 71
        },
        {
          "output_type": "display_data",
          "data": {
            "image/png": "[encoded data removed]",
            "text/plain": [
              "<Figure size 432x288 with 1 Axes>"
            ]
          },
          "metadata": {
            "needs_background": "light"
          }
        }
      ]
    },
    {
      "cell_type": "markdown",
      "metadata": {
        "id": "6ae1d33e"
      },
      "source": [
        "We can see in Basic Logistic Regression, TSH_measured and referral_source instances are the top 2 higher **positive** influence/importancy towards the prediction performance, then thyroid_surgery and pregnant instances are the top 2 higher **negative** influence/importancy towards the prediction performance."
      ],
      "id": "6ae1d33e"
    },
    {
      "cell_type": "code",
      "metadata": {
        "colab": {
          "base_uri": "https://localhost:8080/",
          "height": 298
        },
        "id": "772e2302",
        "outputId": "383bf230-cebd-475c-9955-6fa9f83025fa"
      },
      "source": [
        "logR_resample_importance = logR_upsampled_model.coef_[0]\n",
        "#importance is a list so you can plot it. \n",
        "logR_resample_feat_importances = pd.Series(logR_resample_importance, index=X_resample_train_norm.columns)\n",
        "\n",
        "\n",
        "logR_resample_feat_importances.nlargest(20).plot(kind='barh',title = 'Feature Importance')"
      ],
      "id": "772e2302",
      "execution_count": null,
      "outputs": [
        {
          "output_type": "execute_result",
          "data": {
            "text/plain": [
              "<matplotlib.axes._subplots.AxesSubplot at 0x7ff4898acf50>"
            ]
          },
          "metadata": {},
          "execution_count": 72
        },
        {
          "output_type": "display_data",
          "data": {
            "image/png": "[encoded data removed]",
            "text/plain": [
              "<Figure size 432x288 with 1 Axes>"
            ]
          },
          "metadata": {
            "needs_background": "light"
          }
        }
      ]
    },
    {
      "cell_type": "markdown",
      "metadata": {
        "id": "db1150b2"
      },
      "source": [
        "In the Resampling set, the significant top 2 higher **Positive** & **Negative** influence/importancy of the feature Importance are the same as the Basic Logistic Regression model - which are TSH_measured, referral_source, thyroid_surgery and pregnant."
      ],
      "id": "db1150b2"
    },
    {
      "cell_type": "code",
      "metadata": {
        "colab": {
          "base_uri": "https://localhost:8080/",
          "height": 298
        },
        "id": "2355a2de",
        "outputId": "fea14954-d44d-4f0b-948b-ca55a6c60043"
      },
      "source": [
        "logR_smote_importance = logR_smote_model.coef_[0]\n",
        "#importance is a list so you can plot it. \n",
        "logR_smote_feat_importances = pd.Series(logR_smote_importance, index=X_sm_train.columns)\n",
        "\n",
        "\n",
        "logR_smote_feat_importances.nlargest(20).plot(kind='barh',title = 'Feature Importance')"
      ],
      "id": "2355a2de",
      "execution_count": null,
      "outputs": [
        {
          "output_type": "execute_result",
          "data": {
            "text/plain": [
              "<matplotlib.axes._subplots.AxesSubplot at 0x7ff489799910>"
            ]
          },
          "metadata": {},
          "execution_count": 73
        },
        {
          "output_type": "display_data",
          "data": {
            "image/png": "[encoded data removed]",
            "text/plain": [
              "<Figure size 432x288 with 1 Axes>"
            ]
          },
          "metadata": {
            "needs_background": "light"
          }
        }
      ]
    },
    {
      "cell_type": "markdown",
      "metadata": {
        "id": "b73b1820"
      },
      "source": [
        "However, under the SMOTE set the top 2 higher of **Positive** & **Negative** Feature Importance are slightly different. While both top 1 remained the same as TSH_measured(Positive influence/importancy) and Thyroid_surgery(Negative influence/importancy), **TT4_measured** is taken over referral_source as the 2nd top higher positive influence while **psych** taken over pregnant as the 2nd top higher negative influence."
      ],
      "id": "b73b1820"
    },
    {
      "cell_type": "markdown",
      "metadata": {
        "id": "64b96ecb"
      },
      "source": [
        "---"
      ],
      "id": "64b96ecb"
    },
    {
      "cell_type": "markdown",
      "metadata": {
        "id": "56555007"
      },
      "source": [
        "## K-nearest neighbours"
      ],
      "id": "56555007"
    },
    {
      "cell_type": "code",
      "metadata": {
        "id": "a6d9eb33"
      },
      "source": [
        "#setting up the KNN classifier\n",
        "knn = KNeighborsClassifier()\n",
        "\n",
        "knn_model = knn.fit(X_train_norm, y_train)\n",
        "knn_predict = knn.predict(X_test_norm)"
      ],
      "id": "a6d9eb33",
      "execution_count": null,
      "outputs": []
    },
    {
      "cell_type": "code",
      "metadata": {
        "collapsed": true,
        "colab": {
          "base_uri": "https://localhost:8080/"
        },
        "id": "00b7a0de",
        "outputId": "a5b28848-8e03-49ae-f57d-dd2448c7ae50"
      },
      "source": [
        "test_score_knn = knn.score(X_test_norm, y_test)\n",
        "print(\"Accuracy Score for Test dataset in KNN = {:.2f}%\".format(test_score_knn*100))"
      ],
      "id": "00b7a0de",
      "execution_count": null,
      "outputs": [
        {
          "output_type": "stream",
          "name": "stdout",
          "text": [
            "Accuracy Score for Test dataset in KNN = 91.37%\n"
          ]
        }
      ]
    },
    {
      "cell_type": "markdown",
      "metadata": {
        "id": "174c86f0"
      },
      "source": [
        "It appears that even KNN classifier is also facing the same issue as the Logistic above where the accuracy score as high as close to 92%.\n",
        "<br>\n",
        "<br>\n",
        "Since Accuracy is only taking into account of True Positive and True Negative, we know this dataset is an imbalanced class/dataset, this could means the accuracy of the model prediction is leaning towards the \"Negative Class\" as the majority class.\n",
        "<br>\n",
        "<br>\n",
        "Let's use other evaluation metrics to further assess the performance of K-Nearest Neighbours."
      ],
      "id": "174c86f0"
    },
    {
      "cell_type": "markdown",
      "metadata": {
        "id": "868163bd"
      },
      "source": [
        "#### Micro & Macro avaraged evaluation metrics\n",
        "\n",
        "Micro: Each <ins>instances</ins> has equal weights, so larger classes will have more influnce\n",
        "<br>\n",
        "Macro: Each <ins>class</ins> has equal weights\n",
        "<br>\n",
        "Weighted: In case of class imbalances (different number of instances related to different class labels)."
      ],
      "id": "868163bd"
    },
    {
      "cell_type": "code",
      "metadata": {
        "collapsed": true,
        "colab": {
          "base_uri": "https://localhost:8080/"
        },
        "id": "09c75f12",
        "outputId": "26597e8b-e6db-4f6d-d883-200a4b0807ef"
      },
      "source": [
        "print(\"Micro-averaged Precision with KNN = {:.2f}% \".format(precision_score(y_test, knn_predict, average=\"micro\")*100))\n",
        "print(\"Macro-averaged Precision with KNN = {:.2f}% \".format(precision_score(y_test, knn_predict, average=\"macro\")*100))\n",
        "print(\"Weighted averaged Precision with KNN = {:.2f}% \".format(precision_score(y_test, knn_predict, average=\"weighted\")*100))"
      ],
      "id": "09c75f12",
      "execution_count": null,
      "outputs": [
        {
          "output_type": "stream",
          "name": "stdout",
          "text": [
            "Micro-averaged Precision with KNN = 91.37% \n",
            "Macro-averaged Precision with KNN = 40.78% \n",
            "Weighted averaged Precision with KNN = 86.69% \n"
          ]
        }
      ]
    },
    {
      "cell_type": "code",
      "metadata": {
        "collapsed": true,
        "colab": {
          "base_uri": "https://localhost:8080/"
        },
        "id": "64cea4fd",
        "outputId": "f0ae1dec-9d90-4226-9293-a331e620e597"
      },
      "source": [
        "print(\"Micro-averaged Recall with KNN = {:.2f}% \".format(recall_score(y_test, knn_predict, average=\"micro\")*100))\n",
        "print(\"Macro-averaged Recall with KNN = {:.2f}% \".format(recall_score(y_test, logR_predict, average=\"macro\")*100))\n",
        "print(\"Weighted averaged Recall with KNN = {:.2f}% \".format(recall_score(y_test, logR_predict, average=\"weighted\")*100))"
      ],
      "id": "64cea4fd",
      "execution_count": null,
      "outputs": [
        {
          "output_type": "stream",
          "name": "stdout",
          "text": [
            "Micro-averaged Recall with KNN = 91.37% \n",
            "Macro-averaged Recall with KNN = 33.33% \n",
            "Weighted averaged Recall with KNN = 92.18% \n"
          ]
        }
      ]
    },
    {
      "cell_type": "code",
      "metadata": {
        "collapsed": true,
        "colab": {
          "base_uri": "https://localhost:8080/"
        },
        "id": "544fc9c4",
        "outputId": "4b3a87a6-bc60-4e2a-88a2-e170a8a14342"
      },
      "source": [
        "print(\"Micro-averaged F1 with KNN = {:.2f}% \".format(f1_score(y_test, knn_predict, average=\"micro\")*100))\n",
        "print(\"Macro-averaged F1 with KNN = {:.2f}% \".format(f1_score(y_test, knn_predict, average=\"macro\")*100))\n",
        "print(\"Weighted averaged F1 with KNN = {:.2f}% \".format(f1_score(y_test, knn_predict, average=\"weighted\")*100))"
      ],
      "id": "544fc9c4",
      "execution_count": null,
      "outputs": [
        {
          "output_type": "stream",
          "name": "stdout",
          "text": [
            "Micro-averaged F1 with KNN = 91.37% \n",
            "Macro-averaged F1 with KNN = 34.77% \n",
            "Weighted averaged F1 with KNN = 88.48% \n"
          ]
        }
      ]
    },
    {
      "cell_type": "markdown",
      "metadata": {
        "id": "2922efb0"
      },
      "source": [
        "In all these 3 quick evaluation metrics of Precision, Recall and F1-score using Micro, Macro and Weighted averaged, which those averaged with micro and weighted are relatively high score, those with **Macro** averaged are very low. It is quite similar on their performance using Logistic Regression.\n",
        "<br>\n",
        "<br>\n",
        "With these preliminary evaluation, we may assumed that KNN may also not the good algorithm choice for this dataset. But let's try to use other methods to assess this dataset further to make a better conclusions. "
      ],
      "id": "2922efb0"
    },
    {
      "cell_type": "markdown",
      "metadata": {
        "id": "31a4dd7c"
      },
      "source": [
        "#### Resampling Techniques — Oversample minority class\n",
        "\n",
        "Up next, let's use Resampling Technique to Oversample the minority class so we can see if this resampling the number of instances and help to improve the prediction assessment with **KNN**."
      ],
      "id": "31a4dd7c"
    },
    {
      "cell_type": "code",
      "metadata": {
        "collapsed": true,
        "colab": {
          "base_uri": "https://localhost:8080/"
        },
        "id": "0e10bd98",
        "outputId": "9bdb8e5b-2c29-4e41-fda8-baa0c62d6298"
      },
      "source": [
        "#Resample not_Negative class\n",
        "\n",
        "# concatenate our training data back together\n",
        "knn_resample = pd.concat([X_train, y_train], axis=1)\n",
        "\n",
        "# separate minority and majority classes\n",
        "knn_not_negative = knn_resample[knn_resample.Class!=1]\n",
        "knn_negative = knn_resample[knn_resample.Class==1]\n",
        "\n",
        "#Resample not_Negative class\n",
        "\n",
        "# upsample minority\n",
        "knn_minor_upsampled = resample(knn_not_negative,\n",
        "                          replace=True, # sample with replacement\n",
        "                          n_samples=len(knn_negative), # match number in majority class\n",
        "                          random_state=20) # reproducible results\n",
        "\n",
        "# combine majority and upsampled minority\n",
        "knn_upsampled = pd.concat([knn_negative, knn_minor_upsampled])\n",
        "\n",
        "# check new class counts\n",
        "print(\"Logistic Regression Upsampled value counts:\", knn_upsampled.Class.value_counts(), sep='\\n')\n",
        "\n",
        "print(\"\\nUpsampled shape:\", knn_upsampled.shape)\n",
        "print('\\n')\n",
        "\n",
        "\n",
        "\"\"\"\n",
        "Assemble the resampled dataset for Model assess\n",
        "\"\"\"\n",
        "X_knn_resample_train = knn_upsampled.drop('Class', axis=1)\n",
        "y_knn_resample_train = knn_upsampled.Class\n",
        "\n",
        "\n",
        "#Data normalization with MinMaxScaler\n",
        "X_knn_resample_train_norm = pd.DataFrame(scaler.fit_transform(X_knn_resample_train), columns=X_knn_resample_train.columns)\n",
        "X_knn_resample_test_norm = pd.DataFrame(scaler.fit_transform(X_test), columns=X_test.columns)\n",
        "\n",
        "\n",
        "#Logistic Regression Classifier\n",
        "knn_upsampled_clf = KNeighborsClassifier().fit(X_knn_resample_train_norm, y_knn_resample_train)\n",
        "\n",
        "knn_upsampled_pred = knn_upsampled_clf.predict(X_knn_resample_test_norm)\n",
        "\n",
        "\n",
        "\n",
        "\"\"\"\n",
        "Evaluation portion\n",
        "\"\"\"\n",
        "\n",
        "print(\"\\u0332\".join(\"Resample Evaluation Metrics with K-nearest neighbor:\"))\n",
        "# Checking accuracy\n",
        "print(\"Accuracy Score = {:.2f}% \".format(accuracy_score(y_test, knn_upsampled_pred)*100))\n",
        "    \n",
        "#precision score\n",
        "print(\"Precision Score with Macro-averaged evaluation = {:.2f}% \".format(precision_score(y_test, knn_upsampled_pred, average=\"macro\")*100)) \n",
        "    \n",
        "# recall score    \n",
        "print(\"Recall Score with Macro-averaged evaluation = {:.2f}% \".format(recall_score(y_test, knn_upsampled_pred, average=\"macro\")*100))\n",
        "\n",
        "# f1 score\n",
        "print(\"F1 Score with Macro-averaged evaluation = {:.2f}% \".format(f1_score(y_test, knn_upsampled_pred, average=\"macro\")*100))"
      ],
      "id": "0e10bd98",
      "execution_count": null,
      "outputs": [
        {
          "output_type": "stream",
          "name": "stdout",
          "text": [
            "Logistic Regression Upsampled value counts:\n",
            "1    2392\n",
            "0    1632\n",
            "2     760\n",
            "Name: Class, dtype: int64\n",
            "\n",
            "Upsampled shape: (4784, 22)\n",
            "\n",
            "\n",
            "R̲e̲s̲a̲m̲p̲l̲e̲ ̲E̲v̲a̲l̲u̲a̲t̲i̲o̲n̲ ̲M̲e̲t̲r̲i̲c̲s̲ ̲w̲i̲t̲h̲ ̲K̲-̲n̲e̲a̲r̲e̲s̲t̲ ̲n̲e̲i̲g̲h̲b̲o̲r̲:\n",
            "Accuracy Score = 72.42% \n",
            "Precision Score with Macro-averaged evaluation = 37.36% \n",
            "Recall Score with Macro-averaged evaluation = 44.82% \n",
            "F1 Score with Macro-averaged evaluation = 37.08% \n"
          ]
        }
      ]
    },
    {
      "cell_type": "markdown",
      "metadata": {
        "id": "23c823f4"
      },
      "source": [
        "While the Accuracy in this Resample set is about 72%+ which is somewhat decent, but all 3 evaluation metrics (Precision, Recall & F1 score) with Macro-averaged are contrarily low."
      ],
      "id": "23c823f4"
    },
    {
      "cell_type": "markdown",
      "metadata": {
        "id": "6f3cce40"
      },
      "source": [
        "#### SMOTE (a.k.a Synthetic Minority Oversampling Technique)\n",
        "\n",
        "Let's look at SMOTE method for dealing with imbalanced dataset using KNN classifier."
      ],
      "id": "6f3cce40"
    },
    {
      "cell_type": "code",
      "metadata": {
        "collapsed": true,
        "colab": {
          "base_uri": "https://localhost:8080/"
        },
        "id": "0b587b15",
        "outputId": "d81dd41a-c101-4629-ec48-ced7a3b4b447"
      },
      "source": [
        "knn_smote = KNeighborsClassifier().fit(X_sm_train, y_sm_train)\n",
        "\n",
        "knn_smote_pred = knn_smote.predict(X_test)\n",
        "\n",
        "\"\"\"\n",
        "Evaluation portion\n",
        "\"\"\"\n",
        "\n",
        "print(\"\\u0332\".join(\"SMOTE Evaluation Metrics with K-nearest neighbor:\"))\n",
        "# Checking accuracy\n",
        "print(\"Accuracy Score = {:.2f}% \".format(accuracy_score(y_test, knn_smote_pred)*100))\n",
        "    \n",
        "#precision score\n",
        "print(\"Precision Score with Macro-averaged evaluation = {:.2f}% \".format(precision_score(y_test, knn_smote_pred, average=\"macro\")*100)) \n",
        "    \n",
        "# recall score    \n",
        "print(\"Recall Score with Macro-averaged evaluation = {:.2f}% \".format(recall_score(y_test, knn_smote_pred, average=\"macro\")*100))\n",
        "\n",
        "# f1 score\n",
        "print(\"F1 Score with Macro-averaged evaluation = {:.2f}% \".format(f1_score(y_test, knn_smote_pred, average=\"macro\")*100))"
      ],
      "id": "0b587b15",
      "execution_count": null,
      "outputs": [
        {
          "output_type": "stream",
          "name": "stdout",
          "text": [
            "S̲M̲O̲T̲E̲ ̲E̲v̲a̲l̲u̲a̲t̲i̲o̲n̲ ̲M̲e̲t̲r̲i̲c̲s̲ ̲w̲i̲t̲h̲ ̲K̲-̲n̲e̲a̲r̲e̲s̲t̲ ̲n̲e̲i̲g̲h̲b̲o̲r̲:\n",
            "Accuracy Score = 55.62% \n",
            "Precision Score with Macro-averaged evaluation = 35.01% \n",
            "Recall Score with Macro-averaged evaluation = 38.81% \n",
            "F1 Score with Macro-averaged evaluation = 29.77% \n"
          ]
        }
      ]
    },
    {
      "cell_type": "markdown",
      "metadata": {
        "id": "9117c7dd"
      },
      "source": [
        "As compared to the Resample set with KNN, SMOTE method with KNN drop quite significantly low scorings. SMOTE method for dealing with imbalanced data may not be the great method to use with KNN in this dataset. Score are too low and even reduced further compare to the Basic KNN and/or with Resample method."
      ],
      "id": "9117c7dd"
    },
    {
      "cell_type": "markdown",
      "metadata": {
        "id": "662e0204"
      },
      "source": [
        "#### Classification Report\n",
        "\n",
        "Here using Classification Report to inspect the evaluation scoring of each method and how well is the prediction of each class"
      ],
      "id": "662e0204"
    },
    {
      "cell_type": "code",
      "metadata": {
        "collapsed": true,
        "colab": {
          "base_uri": "https://localhost:8080/"
        },
        "id": "98e0c5cf",
        "outputId": "af9867dc-a05d-4ef9-891b-b4b1fcc20c80"
      },
      "source": [
        "print(classification_report(y_test, knn_predict))"
      ],
      "id": "98e0c5cf",
      "execution_count": null,
      "outputs": [
        {
          "output_type": "stream",
          "name": "stdout",
          "text": [
            "              precision    recall  f1-score   support\n",
            "\n",
            "           0       0.30      0.05      0.09        58\n",
            "           1       0.92      0.99      0.95      1026\n",
            "           2       0.00      0.00      0.00        29\n",
            "\n",
            "    accuracy                           0.91      1113\n",
            "   macro avg       0.41      0.35      0.35      1113\n",
            "weighted avg       0.87      0.91      0.88      1113\n",
            "\n"
          ]
        }
      ]
    },
    {
      "cell_type": "code",
      "metadata": {
        "collapsed": true,
        "colab": {
          "base_uri": "https://localhost:8080/"
        },
        "id": "72f75b25",
        "outputId": "92672b80-b5fb-40fd-9897-89c492c7e837"
      },
      "source": [
        "print(classification_report(y_test,knn_upsampled_pred))"
      ],
      "id": "72f75b25",
      "execution_count": null,
      "outputs": [
        {
          "output_type": "stream",
          "name": "stdout",
          "text": [
            "              precision    recall  f1-score   support\n",
            "\n",
            "           0       0.12      0.38      0.18        58\n",
            "           1       0.94      0.76      0.84      1026\n",
            "           2       0.06      0.21      0.09        29\n",
            "\n",
            "    accuracy                           0.72      1113\n",
            "   macro avg       0.37      0.45      0.37      1113\n",
            "weighted avg       0.88      0.72      0.79      1113\n",
            "\n"
          ]
        }
      ]
    },
    {
      "cell_type": "code",
      "metadata": {
        "collapsed": true,
        "colab": {
          "base_uri": "https://localhost:8080/"
        },
        "id": "d8080a3f",
        "outputId": "8aef97a2-9097-4677-ad8c-3a8c278f6d87"
      },
      "source": [
        "print(classification_report(y_test,knn_smote_pred))"
      ],
      "id": "d8080a3f",
      "execution_count": null,
      "outputs": [
        {
          "output_type": "stream",
          "name": "stdout",
          "text": [
            "              precision    recall  f1-score   support\n",
            "\n",
            "           0       0.07      0.31      0.11        58\n",
            "           1       0.95      0.58      0.72      1026\n",
            "           2       0.04      0.28      0.06        29\n",
            "\n",
            "    accuracy                           0.56      1113\n",
            "   macro avg       0.35      0.39      0.30      1113\n",
            "weighted avg       0.88      0.56      0.67      1113\n",
            "\n"
          ]
        }
      ]
    },
    {
      "cell_type": "markdown",
      "metadata": {
        "id": "9f2efe7c"
      },
      "source": [
        "#### Confusion Matrix for K-nearest neighbours"
      ],
      "id": "9f2efe7c"
    },
    {
      "cell_type": "code",
      "metadata": {
        "collapsed": true,
        "colab": {
          "base_uri": "https://localhost:8080/",
          "height": 335
        },
        "id": "539316e1",
        "outputId": "4eade213-0ef5-425d-fd25-129ca10ef325"
      },
      "source": [
        "# confusion_matrix before upsampled\n",
        "\n",
        "knn_cm = confusion_matrix(y_test, knn_predict)\n",
        "\n",
        "print(knn_cm)\n",
        "\n",
        "sns.heatmap(knn_cm,annot=True, fmt='d')"
      ],
      "id": "539316e1",
      "execution_count": null,
      "outputs": [
        {
          "output_type": "stream",
          "name": "stdout",
          "text": [
            "[[   3   55    0]\n",
            " [   7 1014    5]\n",
            " [   0   29    0]]\n"
          ]
        },
        {
          "output_type": "execute_result",
          "data": {
            "text/plain": [
              "<matplotlib.axes._subplots.AxesSubplot at 0x7ff4896d3090>"
            ]
          },
          "metadata": {},
          "execution_count": 84
        },
        {
          "output_type": "display_data",
          "data": {
            "image/png": "[encoded data removed]",
            "text/plain": [
              "<Figure size 432x288 with 2 Axes>"
            ]
          },
          "metadata": {
            "needs_background": "light"
          }
        }
      ]
    },
    {
      "cell_type": "code",
      "metadata": {
        "collapsed": true,
        "colab": {
          "base_uri": "https://localhost:8080/",
          "height": 334
        },
        "id": "3a3709a7",
        "outputId": "e3af0005-3650-4cef-f38d-ad23e179effa"
      },
      "source": [
        "# confusion_matrix after upsampled\n",
        "\n",
        "knn_cm_resample = confusion_matrix(y_test, knn_upsampled_pred)\n",
        "\n",
        "print(knn_cm_resample)\n",
        "\n",
        "sns.heatmap(knn_cm_resample,annot=True, fmt='d')"
      ],
      "id": "3a3709a7",
      "execution_count": null,
      "outputs": [
        {
          "output_type": "stream",
          "name": "stdout",
          "text": [
            "[[ 22  32   4]\n",
            " [153 778  95]\n",
            " [  9  14   6]]\n"
          ]
        },
        {
          "output_type": "execute_result",
          "data": {
            "text/plain": [
              "<matplotlib.axes._subplots.AxesSubplot at 0x7ff4896258d0>"
            ]
          },
          "metadata": {},
          "execution_count": 85
        },
        {
          "output_type": "display_data",
          "data": {
            "image/png": "[encoded data removed]",
            "text/plain": [
              "<Figure size 432x288 with 2 Axes>"
            ]
          },
          "metadata": {
            "needs_background": "light"
          }
        }
      ]
    },
    {
      "cell_type": "code",
      "metadata": {
        "collapsed": true,
        "colab": {
          "base_uri": "https://localhost:8080/",
          "height": 334
        },
        "id": "718cd0aa",
        "outputId": "30ada02e-f14b-47d1-8103-d748d8896955"
      },
      "source": [
        "# confusion_matrix after upsampled\n",
        "\n",
        "knn_cm_smote = confusion_matrix(y_test, knn_smote_pred)\n",
        "\n",
        "print(knn_cm_smote)\n",
        "\n",
        "sns.heatmap(knn_cm_smote,annot=True, fmt='d')"
      ],
      "id": "718cd0aa",
      "execution_count": null,
      "outputs": [
        {
          "output_type": "stream",
          "name": "stdout",
          "text": [
            "[[ 18  26  14]\n",
            " [231 593 202]\n",
            " [ 13   8   8]]\n"
          ]
        },
        {
          "output_type": "execute_result",
          "data": {
            "text/plain": [
              "<matplotlib.axes._subplots.AxesSubplot at 0x7ff4897ef110>"
            ]
          },
          "metadata": {},
          "execution_count": 86
        },
        {
          "output_type": "display_data",
          "data": {
            "image/png": "[encoded data removed]",
            "text/plain": [
              "<Figure size 432x288 with 2 Axes>"
            ]
          },
          "metadata": {
            "needs_background": "light"
          }
        }
      ]
    },
    {
      "cell_type": "markdown",
      "metadata": {
        "id": "79556826"
      },
      "source": [
        "From the **Classification report** and the **Confusion Matrix**, we get a clearer picture of how the KNN performed under Basic, Resampling and SMOTE method on this Imbalanced Dataset. As compared to Basic Logistic Regression, the basic KNN did attempt to predict more on other class instances but still lean towards more of the class 1 - Negative class. Same for the Resampling and SMOTE set."
      ],
      "id": "79556826"
    },
    {
      "cell_type": "markdown",
      "metadata": {
        "id": "27b350b4"
      },
      "source": [
        "### <ins>K-nearest neighbours</ins>: Cross-Validation\n",
        "Next we run the dataset into Cross-validation using KNN to get more affirmative under the several folds to see how the prediction evaluation score."
      ],
      "id": "27b350b4"
    },
    {
      "cell_type": "code",
      "metadata": {
        "collapsed": true,
        "colab": {
          "base_uri": "https://localhost:8080/"
        },
        "id": "ed318b79",
        "outputId": "580db8c2-51cc-4cdd-ff1e-e890310a81c1"
      },
      "source": [
        "kf_knn = KFold(n_splits=5, random_state=135, shuffle=True) # Define the split - into 5 folds \n",
        "kf_knn.get_n_splits(X) # returns the number of splitting iterations in the cross-validator\n",
        "print(kf_knn) "
      ],
      "id": "ed318b79",
      "execution_count": null,
      "outputs": [
        {
          "output_type": "stream",
          "name": "stdout",
          "text": [
            "KFold(n_splits=5, random_state=135, shuffle=True)\n"
          ]
        }
      ]
    },
    {
      "cell_type": "code",
      "metadata": {
        "collapsed": true,
        "colab": {
          "base_uri": "https://localhost:8080/"
        },
        "id": "6921f778",
        "outputId": "c1ef9beb-485e-4366-bd7c-53f4e0d6a581"
      },
      "source": [
        "# Perform 5-fold cross validation\n",
        "knn_cv_scores = cross_val_score(knn, X_train_norm, y_train, cv=kf_knn)\n",
        "print(\"KNN Cross validation scores:\", knn_cv_scores, sep='\\n')"
      ],
      "id": "6921f778",
      "execution_count": null,
      "outputs": [
        {
          "output_type": "stream",
          "name": "stdout",
          "text": [
            "KNN Cross validation scores:\n",
            "[0.91136802 0.91907514 0.91907514 0.93256262 0.91312741]\n"
          ]
        }
      ]
    },
    {
      "cell_type": "code",
      "metadata": {
        "collapsed": true,
        "colab": {
          "base_uri": "https://localhost:8080/"
        },
        "id": "750f3f9d",
        "outputId": "d68fb959-ca6f-4d9c-de29-f4417ddd09d9"
      },
      "source": [
        "# Perform 5-fold cross validation with resample set\n",
        "knn_resample_cv_scores = cross_val_score(knn, X_knn_resample_train_norm, y_knn_resample_train, cv=kf_knn)\n",
        "print(\"KNN Cross validation scores with Resample set:\", knn_resample_cv_scores, sep='\\n')"
      ],
      "id": "750f3f9d",
      "execution_count": null,
      "outputs": [
        {
          "output_type": "stream",
          "name": "stdout",
          "text": [
            "KNN Cross validation scores with Resample set:\n",
            "[0.73458725 0.79101358 0.74399164 0.74712644 0.76778243]\n"
          ]
        }
      ]
    },
    {
      "cell_type": "code",
      "metadata": {
        "collapsed": true,
        "colab": {
          "base_uri": "https://localhost:8080/"
        },
        "id": "b5e66d0e",
        "outputId": "97326903-9cdb-4556-f469-ead72f4e0133"
      },
      "source": [
        "# Perform 5-fold cross validation with smote set\n",
        "sm_knn_cv_scores = cross_val_score(knn_smote, X_sm_train, y_sm_train, cv=kf_knn)\n",
        "print(\"KNN Cross validation scores with SMOTE set:\", sm_knn_cv_scores, sep='\\n')"
      ],
      "id": "b5e66d0e",
      "execution_count": null,
      "outputs": [
        {
          "output_type": "stream",
          "name": "stdout",
          "text": [
            "KNN Cross validation scores with SMOTE set:\n",
            "[0.67339833 0.71289199 0.70662021 0.6989547  0.69337979]\n"
          ]
        }
      ]
    },
    {
      "cell_type": "markdown",
      "metadata": {
        "id": "ab10437d"
      },
      "source": [
        "After KFolds of KNN under Basic, Resampling and SMOTE method the score does slightly improve especially the Resampling and SMOTE sets but I would not conclude that as significant improvement as the scoring and other metrics that have been used to evaluation this dataset with KNN is not confident enough that KNN is a good choice of algorithm for this dataset prediction"
      ],
      "id": "ab10437d"
    },
    {
      "cell_type": "markdown",
      "metadata": {
        "id": "139f0d55"
      },
      "source": [
        "### <ins>K-nearest neighbours</ins>: Hyperparameters tuning"
      ],
      "id": "139f0d55"
    },
    {
      "cell_type": "code",
      "metadata": {
        "collapsed": true,
        "colab": {
          "base_uri": "https://localhost:8080/"
        },
        "id": "28bc5357",
        "outputId": "3d198637-0376-435a-9125-7ae670accc4e"
      },
      "source": [
        "#using all metric to show us which will be the best metric instead\n",
        "n_neighbors = range(1, 11, 2)\n",
        "weights = ['uniform', 'distance']\n",
        "metric = ['euclidean', 'manhattan', 'minkowski']\n",
        "\n",
        "# define grid search\n",
        "grid = dict(n_neighbors=n_neighbors,weights=weights,metric=metric)\n",
        "\n",
        "\n",
        "\n",
        "gridSearch_knn = GridSearchCV(estimator=knn, \n",
        "                          param_grid=grid, \n",
        "                          n_jobs=-1, \n",
        "                          cv=5, \n",
        "                          scoring='accuracy')\n",
        "\n",
        "gridSearch_result = gridSearch_knn.fit(X_train_norm, y_train)\n",
        "\n",
        "\n",
        "\"\"\"\n",
        "Summurize results\n",
        "\"\"\"\n",
        "print(\"Best: %f using %s\" % (gridSearch_result.best_score_, gridSearch_result.best_params_))\n",
        "knn_means = gridSearch_result.cv_results_['mean_test_score']\n",
        "knn_stds = gridSearch_result.cv_results_['std_test_score']\n",
        "knn_params = gridSearch_result.cv_results_['params']\n",
        "\n",
        "#prints the best result & the results from all combinations evaluated.\n",
        "for mean4, stds4, param4 in zip(knn_means, knn_stds, knn_params):\n",
        "    print(\"%f (%f) with: %r\" % (mean4, stds4, param4))\n"
      ],
      "id": "28bc5357",
      "execution_count": null,
      "outputs": [
        {
          "output_type": "stream",
          "name": "stdout",
          "text": [
            "Best: 0.921742 using {'metric': 'euclidean', 'n_neighbors': 9, 'weights': 'uniform'}\n",
            "0.861611 (0.030128) with: {'metric': 'euclidean', 'n_neighbors': 1, 'weights': 'uniform'}\n",
            "0.861611 (0.030128) with: {'metric': 'euclidean', 'n_neighbors': 1, 'weights': 'distance'}\n",
            "0.898994 (0.008275) with: {'metric': 'euclidean', 'n_neighbors': 3, 'weights': 'uniform'}\n",
            "0.886274 (0.004777) with: {'metric': 'euclidean', 'n_neighbors': 3, 'weights': 'distance'}\n",
            "0.916344 (0.003994) with: {'metric': 'euclidean', 'n_neighbors': 5, 'weights': 'uniform'}\n",
            "0.903238 (0.007744) with: {'metric': 'euclidean', 'n_neighbors': 5, 'weights': 'distance'}\n",
            "0.919815 (0.000971) with: {'metric': 'euclidean', 'n_neighbors': 7, 'weights': 'uniform'}\n",
            "0.905553 (0.008427) with: {'metric': 'euclidean', 'n_neighbors': 7, 'weights': 'distance'}\n",
            "0.921742 (0.000970) with: {'metric': 'euclidean', 'n_neighbors': 9, 'weights': 'uniform'}\n",
            "0.906323 (0.008125) with: {'metric': 'euclidean', 'n_neighbors': 9, 'weights': 'distance'}\n",
            "0.861610 (0.029153) with: {'metric': 'manhattan', 'n_neighbors': 1, 'weights': 'uniform'}\n",
            "0.861610 (0.029153) with: {'metric': 'manhattan', 'n_neighbors': 1, 'weights': 'distance'}\n",
            "0.899380 (0.008437) with: {'metric': 'manhattan', 'n_neighbors': 3, 'weights': 'uniform'}\n",
            "0.885888 (0.004835) with: {'metric': 'manhattan', 'n_neighbors': 3, 'weights': 'distance'}\n",
            "0.914803 (0.005094) with: {'metric': 'manhattan', 'n_neighbors': 5, 'weights': 'uniform'}\n",
            "0.901310 (0.007361) with: {'metric': 'manhattan', 'n_neighbors': 5, 'weights': 'distance'}\n",
            "0.919044 (0.001220) with: {'metric': 'manhattan', 'n_neighbors': 7, 'weights': 'uniform'}\n",
            "0.904782 (0.008300) with: {'metric': 'manhattan', 'n_neighbors': 7, 'weights': 'distance'}\n",
            "0.921742 (0.000970) with: {'metric': 'manhattan', 'n_neighbors': 9, 'weights': 'uniform'}\n",
            "0.906709 (0.008397) with: {'metric': 'manhattan', 'n_neighbors': 9, 'weights': 'distance'}\n",
            "0.861611 (0.030128) with: {'metric': 'minkowski', 'n_neighbors': 1, 'weights': 'uniform'}\n",
            "0.861611 (0.030128) with: {'metric': 'minkowski', 'n_neighbors': 1, 'weights': 'distance'}\n",
            "0.898994 (0.008275) with: {'metric': 'minkowski', 'n_neighbors': 3, 'weights': 'uniform'}\n",
            "0.886274 (0.004777) with: {'metric': 'minkowski', 'n_neighbors': 3, 'weights': 'distance'}\n",
            "0.916344 (0.003994) with: {'metric': 'minkowski', 'n_neighbors': 5, 'weights': 'uniform'}\n",
            "0.903238 (0.007744) with: {'metric': 'minkowski', 'n_neighbors': 5, 'weights': 'distance'}\n",
            "0.919815 (0.000971) with: {'metric': 'minkowski', 'n_neighbors': 7, 'weights': 'uniform'}\n",
            "0.905553 (0.008427) with: {'metric': 'minkowski', 'n_neighbors': 7, 'weights': 'distance'}\n",
            "0.921742 (0.000970) with: {'metric': 'minkowski', 'n_neighbors': 9, 'weights': 'uniform'}\n",
            "0.906323 (0.008125) with: {'metric': 'minkowski', 'n_neighbors': 9, 'weights': 'distance'}\n"
          ]
        }
      ]
    },
    {
      "cell_type": "code",
      "metadata": {
        "collapsed": true,
        "colab": {
          "base_uri": "https://localhost:8080/"
        },
        "id": "e31e5f44",
        "outputId": "d0b8cbed-1037-408b-ca96-77225406595c"
      },
      "source": [
        "#GridSearch CV on KNN with resample set\n",
        "gridSearch_knn_resample = GridSearchCV(estimator=knn, \n",
        "                                      param_grid=grid, \n",
        "                                      n_jobs=-1, \n",
        "                                      cv=5, \n",
        "                                      scoring='accuracy')\n",
        "\n",
        "gridSearch_knn_resample_result = gridSearch_knn_resample.fit(X_knn_resample_train_norm, y_knn_resample_train)\n",
        "\n",
        "\n",
        "\"\"\"\n",
        "Summurize results\n",
        "\"\"\"\n",
        "print(\"Best: %f using %s\" % (gridSearch_knn_resample_result.best_score_, gridSearch_knn_resample_result.best_params_))\n",
        "knn_means_resample = gridSearch_knn_resample_result.cv_results_['mean_test_score']\n",
        "knn_stds_resample = gridSearch_knn_resample_result.cv_results_['std_test_score']\n",
        "knn_params_resample = gridSearch_knn_resample_result.cv_results_['params']\n",
        "\n",
        "#prints the best result & the results from all combinations evaluated.\n",
        "for mean5, stds5, param5 in zip(knn_means_resample, knn_stds_resample, knn_params_resample):\n",
        "    print(\"%f (%f) with: %r\" % (mean5, stds5, param5))\n"
      ],
      "id": "e31e5f44",
      "execution_count": null,
      "outputs": [
        {
          "output_type": "stream",
          "name": "stdout",
          "text": [
            "Best: 0.781148 using {'metric': 'manhattan', 'n_neighbors': 7, 'weights': 'distance'}\n",
            "0.653013 (0.010894) with: {'metric': 'euclidean', 'n_neighbors': 1, 'weights': 'uniform'}\n",
            "0.653013 (0.010894) with: {'metric': 'euclidean', 'n_neighbors': 1, 'weights': 'distance'}\n",
            "0.681858 (0.005235) with: {'metric': 'euclidean', 'n_neighbors': 3, 'weights': 'uniform'}\n",
            "0.686248 (0.005463) with: {'metric': 'euclidean', 'n_neighbors': 3, 'weights': 'distance'}\n",
            "0.757319 (0.009023) with: {'metric': 'euclidean', 'n_neighbors': 5, 'weights': 'uniform'}\n",
            "0.776549 (0.007778) with: {'metric': 'euclidean', 'n_neighbors': 5, 'weights': 'distance'}\n",
            "0.747704 (0.009270) with: {'metric': 'euclidean', 'n_neighbors': 7, 'weights': 'uniform'}\n",
            "0.776968 (0.011534) with: {'metric': 'euclidean', 'n_neighbors': 7, 'weights': 'distance'}\n",
            "0.737045 (0.012494) with: {'metric': 'euclidean', 'n_neighbors': 9, 'weights': 'uniform'}\n",
            "0.773414 (0.009450) with: {'metric': 'euclidean', 'n_neighbors': 9, 'weights': 'distance'}\n",
            "0.652386 (0.009356) with: {'metric': 'manhattan', 'n_neighbors': 1, 'weights': 'uniform'}\n",
            "0.652386 (0.009356) with: {'metric': 'manhattan', 'n_neighbors': 1, 'weights': 'distance'}\n",
            "0.682904 (0.005428) with: {'metric': 'manhattan', 'n_neighbors': 3, 'weights': 'uniform'}\n",
            "0.687711 (0.005508) with: {'metric': 'manhattan', 'n_neighbors': 3, 'weights': 'distance'}\n",
            "0.760036 (0.009922) with: {'metric': 'manhattan', 'n_neighbors': 5, 'weights': 'uniform'}\n",
            "0.779475 (0.009836) with: {'metric': 'manhattan', 'n_neighbors': 5, 'weights': 'distance'}\n",
            "0.750213 (0.010932) with: {'metric': 'manhattan', 'n_neighbors': 7, 'weights': 'uniform'}\n",
            "0.781148 (0.007326) with: {'metric': 'manhattan', 'n_neighbors': 7, 'weights': 'distance'}\n",
            "0.737671 (0.013356) with: {'metric': 'manhattan', 'n_neighbors': 9, 'weights': 'uniform'}\n",
            "0.777805 (0.009865) with: {'metric': 'manhattan', 'n_neighbors': 9, 'weights': 'distance'}\n",
            "0.653013 (0.010894) with: {'metric': 'minkowski', 'n_neighbors': 1, 'weights': 'uniform'}\n",
            "0.653013 (0.010894) with: {'metric': 'minkowski', 'n_neighbors': 1, 'weights': 'distance'}\n",
            "0.681858 (0.005235) with: {'metric': 'minkowski', 'n_neighbors': 3, 'weights': 'uniform'}\n",
            "0.686248 (0.005463) with: {'metric': 'minkowski', 'n_neighbors': 3, 'weights': 'distance'}\n",
            "0.757319 (0.009023) with: {'metric': 'minkowski', 'n_neighbors': 5, 'weights': 'uniform'}\n",
            "0.776549 (0.007778) with: {'metric': 'minkowski', 'n_neighbors': 5, 'weights': 'distance'}\n",
            "0.747704 (0.009270) with: {'metric': 'minkowski', 'n_neighbors': 7, 'weights': 'uniform'}\n",
            "0.776968 (0.011534) with: {'metric': 'minkowski', 'n_neighbors': 7, 'weights': 'distance'}\n",
            "0.737045 (0.012494) with: {'metric': 'minkowski', 'n_neighbors': 9, 'weights': 'uniform'}\n",
            "0.773414 (0.009450) with: {'metric': 'minkowski', 'n_neighbors': 9, 'weights': 'distance'}\n"
          ]
        }
      ]
    },
    {
      "cell_type": "code",
      "metadata": {
        "collapsed": true,
        "colab": {
          "base_uri": "https://localhost:8080/"
        },
        "id": "5e076944",
        "outputId": "0fe8b66e-c1d8-46fb-fe01-d77fda9a13cd"
      },
      "source": [
        "#GridSearch CV on KNN with resample set\n",
        "gridSearch_knn_smote = GridSearchCV(estimator=knn, \n",
        "                                      param_grid=grid, \n",
        "                                      n_jobs=-1, \n",
        "                                      cv=5, \n",
        "                                      scoring='accuracy')\n",
        "\n",
        "gridSearch_knn_smote_result = gridSearch_knn_resample.fit(X_sm_train, y_sm_train)\n",
        "\n",
        "\"\"\"\n",
        "Summurize results\n",
        "\"\"\"\n",
        "print(\"Best: %f using %s\" % (gridSearch_knn_smote_result.best_score_, gridSearch_knn_smote_result.best_params_))\n",
        "knn_means_smote = gridSearch_knn_smote_result.cv_results_['mean_test_score']\n",
        "knn_stds_smote = gridSearch_knn_smote_result.cv_results_['std_test_score']\n",
        "knn_params_smote = gridSearch_knn_smote_result.cv_results_['params']\n",
        "\n",
        "#prints the best result & the results from all combinations evaluated.\n",
        "for mean6, stds6, param6 in zip(knn_means_smote, knn_stds_smote, knn_params_smote):\n",
        "    print(\"%f (%f) with: %r\" % (mean6, stds6, param6))\n"
      ],
      "id": "5e076944",
      "execution_count": null,
      "outputs": [
        {
          "output_type": "stream",
          "name": "stdout",
          "text": [
            "Best: 0.724081 using {'metric': 'manhattan', 'n_neighbors': 9, 'weights': 'distance'}\n",
            "0.523279 (0.026871) with: {'metric': 'euclidean', 'n_neighbors': 1, 'weights': 'uniform'}\n",
            "0.523279 (0.026871) with: {'metric': 'euclidean', 'n_neighbors': 1, 'weights': 'distance'}\n",
            "0.520627 (0.012365) with: {'metric': 'euclidean', 'n_neighbors': 3, 'weights': 'uniform'}\n",
            "0.522160 (0.010156) with: {'metric': 'euclidean', 'n_neighbors': 3, 'weights': 'distance'}\n",
            "0.682691 (0.014654) with: {'metric': 'euclidean', 'n_neighbors': 5, 'weights': 'uniform'}\n",
            "0.694816 (0.014446) with: {'metric': 'euclidean', 'n_neighbors': 5, 'weights': 'distance'}\n",
            "0.690356 (0.013893) with: {'metric': 'euclidean', 'n_neighbors': 7, 'weights': 'uniform'}\n",
            "0.706383 (0.011186) with: {'metric': 'euclidean', 'n_neighbors': 7, 'weights': 'distance'}\n",
            "0.686594 (0.008465) with: {'metric': 'euclidean', 'n_neighbors': 9, 'weights': 'uniform'}\n",
            "0.709448 (0.007605) with: {'metric': 'euclidean', 'n_neighbors': 9, 'weights': 'distance'}\n",
            "0.523279 (0.026799) with: {'metric': 'manhattan', 'n_neighbors': 1, 'weights': 'uniform'}\n",
            "0.523279 (0.026799) with: {'metric': 'manhattan', 'n_neighbors': 1, 'weights': 'distance'}\n",
            "0.521324 (0.011994) with: {'metric': 'manhattan', 'n_neighbors': 3, 'weights': 'uniform'}\n",
            "0.522856 (0.009870) with: {'metric': 'manhattan', 'n_neighbors': 3, 'weights': 'distance'}\n",
            "0.701924 (0.007189) with: {'metric': 'manhattan', 'n_neighbors': 5, 'weights': 'uniform'}\n",
            "0.714885 (0.007563) with: {'metric': 'manhattan', 'n_neighbors': 5, 'weights': 'distance'}\n",
            "0.706662 (0.005032) with: {'metric': 'manhattan', 'n_neighbors': 7, 'weights': 'uniform'}\n",
            "0.723524 (0.004200) with: {'metric': 'manhattan', 'n_neighbors': 7, 'weights': 'distance'}\n",
            "0.700808 (0.008212) with: {'metric': 'manhattan', 'n_neighbors': 9, 'weights': 'uniform'}\n",
            "0.724081 (0.007490) with: {'metric': 'manhattan', 'n_neighbors': 9, 'weights': 'distance'}\n",
            "0.523279 (0.026871) with: {'metric': 'minkowski', 'n_neighbors': 1, 'weights': 'uniform'}\n",
            "0.523279 (0.026871) with: {'metric': 'minkowski', 'n_neighbors': 1, 'weights': 'distance'}\n",
            "0.520627 (0.012365) with: {'metric': 'minkowski', 'n_neighbors': 3, 'weights': 'uniform'}\n",
            "0.522160 (0.010156) with: {'metric': 'minkowski', 'n_neighbors': 3, 'weights': 'distance'}\n",
            "0.682691 (0.014654) with: {'metric': 'minkowski', 'n_neighbors': 5, 'weights': 'uniform'}\n",
            "0.694816 (0.014446) with: {'metric': 'minkowski', 'n_neighbors': 5, 'weights': 'distance'}\n",
            "0.690356 (0.013893) with: {'metric': 'minkowski', 'n_neighbors': 7, 'weights': 'uniform'}\n",
            "0.706383 (0.011186) with: {'metric': 'minkowski', 'n_neighbors': 7, 'weights': 'distance'}\n",
            "0.686594 (0.008465) with: {'metric': 'minkowski', 'n_neighbors': 9, 'weights': 'uniform'}\n",
            "0.709448 (0.007605) with: {'metric': 'minkowski', 'n_neighbors': 9, 'weights': 'distance'}\n"
          ]
        }
      ]
    },
    {
      "cell_type": "markdown",
      "metadata": {
        "id": "db3b4b1e"
      },
      "source": [
        "Given the feature of KNN(finding the nearest neighbour data point in the dimension), there isn't any Feature Importance available under this algorithms. So Hyperparameters tuning is one of the way to help identify they best metric, number of the neighbor circles(n_neighbors) and the weights to use in KNN prediction for this dataset.\n",
        "<br>\n",
        "<br>\n",
        "All 3 of the above different methods - Basic, Resampling and SMOTE methods have shows their best choice of metric, n_neighors and weights. These are still not strong enough to assure that KNN is a good algorithm to use for prediction of this dataset study case."
      ],
      "id": "db3b4b1e"
    },
    {
      "cell_type": "markdown",
      "metadata": {
        "id": "c79782fa"
      },
      "source": [
        "## Conclusion"
      ],
      "id": "c79782fa"
    },
    {
      "cell_type": "markdown",
      "metadata": {
        "id": "b04fc238"
      },
      "source": [
        "With all the commonly used methods that use to deal with imbalanced dataset, despite using them to evaluate Logistic Regression and K-Nearest Neighbor if these 2 algorithms are good choice for this case study.\n",
        "<br>\n",
        "<br>\n",
        "Unfortunately as the evaluation scoring from all aspects are not strong enough, I believed we can make the conclusion that **Logistic Regression** & **K-Nearest Neighbors** are not the best choice of algorithm for this dataset case study."
      ],
      "id": "b04fc238"
    }
  ]
}